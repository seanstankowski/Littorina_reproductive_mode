{
 "cells": [
  {
   "cell_type": "code",
   "execution_count": 1,
   "id": "b7d5d991",
   "metadata": {},
   "outputs": [
    {
     "data": {
      "text/html": [
       "<table class=\"dataframe\">\n",
       "<caption>A data.frame: 6 × 76</caption>\n",
       "<thead>\n",
       "\t<tr><th></th><th scope=col>X.1</th><th scope=col>output_order</th><th scope=col>X</th><th scope=col>scaffold.x</th><th scope=col>start.x</th><th scope=col>end.x</th><th scope=col>mid.x</th><th scope=col>win_size</th><th scope=col>sites</th><th scope=col>lnL</th><th scope=col>⋯</th><th scope=col>threshold.foot</th><th scope=col>differ</th><th scope=col>tissue_diff</th><th scope=col>seqname</th><th scope=col>gene_start</th><th scope=col>gene_end</th><th scope=col>scaffold.y</th><th scope=col>start.y</th><th scope=col>end.y</th><th scope=col>mid.y</th></tr>\n",
       "\t<tr><th></th><th scope=col>&lt;int&gt;</th><th scope=col>&lt;int&gt;</th><th scope=col>&lt;int&gt;</th><th scope=col>&lt;chr&gt;</th><th scope=col>&lt;int&gt;</th><th scope=col>&lt;int&gt;</th><th scope=col>&lt;int&gt;</th><th scope=col>&lt;int&gt;</th><th scope=col>&lt;int&gt;</th><th scope=col>&lt;dbl&gt;</th><th scope=col>⋯</th><th scope=col>&lt;chr&gt;</th><th scope=col>&lt;chr&gt;</th><th scope=col>&lt;chr&gt;</th><th scope=col>&lt;chr&gt;</th><th scope=col>&lt;int&gt;</th><th scope=col>&lt;int&gt;</th><th scope=col>&lt;chr&gt;</th><th scope=col>&lt;int&gt;</th><th scope=col>&lt;int&gt;</th><th scope=col>&lt;int&gt;</th></tr>\n",
       "</thead>\n",
       "<tbody>\n",
       "\t<tr><th scope=row>1</th><td> 57675</td><td> 57509</td><td> 55412</td><td>Contig42421</td><td>23372</td><td>27132</td><td>25732</td><td> 3760</td><td>100</td><td>       NA</td><td>⋯</td><td>SD</td><td>both</td><td>NA  </td><td>Contig42421</td><td>12185</td><td>27487</td><td>Contig42421</td><td>23372</td><td>27132</td><td>12185</td></tr>\n",
       "\t<tr><th scope=row>2</th><td> 52893</td><td> 52744</td><td> 50138</td><td>Contig41249</td><td>25994</td><td>32832</td><td>30709</td><td> 6838</td><td>100</td><td>-1302.102</td><td>⋯</td><td>SD</td><td>both</td><td>both</td><td>Contig41249</td><td> 2950</td><td>32864</td><td>Contig41249</td><td>25994</td><td>32832</td><td> 2950</td></tr>\n",
       "\t<tr><th scope=row>3</th><td> 52891</td><td> 52742</td><td> 50136</td><td>Contig41249</td><td>19174</td><td>22167</td><td>20862</td><td> 2993</td><td>100</td><td>-1438.198</td><td>⋯</td><td>SD</td><td>both</td><td>both</td><td>Contig41249</td><td> 2950</td><td>32864</td><td>Contig41249</td><td>19174</td><td>22167</td><td> 2950</td></tr>\n",
       "\t<tr><th scope=row>4</th><td> 29096</td><td> 28992</td><td>128637</td><td>Contig6923 </td><td> 3414</td><td>16465</td><td> 7070</td><td>13051</td><td>100</td><td>-1301.500</td><td>⋯</td><td>SD</td><td>both</td><td>NA  </td><td>Contig6923 </td><td> 2089</td><td>16330</td><td>Contig6923 </td><td> 3414</td><td>16465</td><td> 2089</td></tr>\n",
       "\t<tr><th scope=row>5</th><td> 52892</td><td> 52743</td><td> 50137</td><td>Contig41249</td><td>22170</td><td>25989</td><td>24141</td><td> 3819</td><td>100</td><td>-1362.500</td><td>⋯</td><td>SD</td><td>both</td><td>both</td><td>Contig41249</td><td> 2950</td><td>32864</td><td>Contig41249</td><td>22170</td><td>25989</td><td> 2950</td></tr>\n",
       "\t<tr><th scope=row>6</th><td>126774</td><td>126458</td><td>134512</td><td>Contig73375</td><td>46355</td><td>50246</td><td>47667</td><td> 3891</td><td>100</td><td>-2050.213</td><td>⋯</td><td>SD</td><td>both</td><td>both</td><td>Contig73375</td><td>35791</td><td>50552</td><td>Contig73375</td><td>46355</td><td>50246</td><td>35791</td></tr>\n",
       "</tbody>\n",
       "</table>\n"
      ],
      "text/latex": [
       "A data.frame: 6 × 76\n",
       "\\begin{tabular}{r|lllllllllllllllllllll}\n",
       "  & X.1 & output\\_order & X & scaffold.x & start.x & end.x & mid.x & win\\_size & sites & lnL & ⋯ & threshold.foot & differ & tissue\\_diff & seqname & gene\\_start & gene\\_end & scaffold.y & start.y & end.y & mid.y\\\\\n",
       "  & <int> & <int> & <int> & <chr> & <int> & <int> & <int> & <int> & <int> & <dbl> & ⋯ & <chr> & <chr> & <chr> & <chr> & <int> & <int> & <chr> & <int> & <int> & <int>\\\\\n",
       "\\hline\n",
       "\t1 &  57675 &  57509 &  55412 & Contig42421 & 23372 & 27132 & 25732 &  3760 & 100 &        NA & ⋯ & SD & both & NA   & Contig42421 & 12185 & 27487 & Contig42421 & 23372 & 27132 & 12185\\\\\n",
       "\t2 &  52893 &  52744 &  50138 & Contig41249 & 25994 & 32832 & 30709 &  6838 & 100 & -1302.102 & ⋯ & SD & both & both & Contig41249 &  2950 & 32864 & Contig41249 & 25994 & 32832 &  2950\\\\\n",
       "\t3 &  52891 &  52742 &  50136 & Contig41249 & 19174 & 22167 & 20862 &  2993 & 100 & -1438.198 & ⋯ & SD & both & both & Contig41249 &  2950 & 32864 & Contig41249 & 19174 & 22167 &  2950\\\\\n",
       "\t4 &  29096 &  28992 & 128637 & Contig6923  &  3414 & 16465 &  7070 & 13051 & 100 & -1301.500 & ⋯ & SD & both & NA   & Contig6923  &  2089 & 16330 & Contig6923  &  3414 & 16465 &  2089\\\\\n",
       "\t5 &  52892 &  52743 &  50137 & Contig41249 & 22170 & 25989 & 24141 &  3819 & 100 & -1362.500 & ⋯ & SD & both & both & Contig41249 &  2950 & 32864 & Contig41249 & 22170 & 25989 &  2950\\\\\n",
       "\t6 & 126774 & 126458 & 134512 & Contig73375 & 46355 & 50246 & 47667 &  3891 & 100 & -2050.213 & ⋯ & SD & both & both & Contig73375 & 35791 & 50552 & Contig73375 & 46355 & 50246 & 35791\\\\\n",
       "\\end{tabular}\n"
      ],
      "text/markdown": [
       "\n",
       "A data.frame: 6 × 76\n",
       "\n",
       "| <!--/--> | X.1 &lt;int&gt; | output_order &lt;int&gt; | X &lt;int&gt; | scaffold.x &lt;chr&gt; | start.x &lt;int&gt; | end.x &lt;int&gt; | mid.x &lt;int&gt; | win_size &lt;int&gt; | sites &lt;int&gt; | lnL &lt;dbl&gt; | ⋯ ⋯ | threshold.foot &lt;chr&gt; | differ &lt;chr&gt; | tissue_diff &lt;chr&gt; | seqname &lt;chr&gt; | gene_start &lt;int&gt; | gene_end &lt;int&gt; | scaffold.y &lt;chr&gt; | start.y &lt;int&gt; | end.y &lt;int&gt; | mid.y &lt;int&gt; |\n",
       "|---|---|---|---|---|---|---|---|---|---|---|---|---|---|---|---|---|---|---|---|---|---|\n",
       "| 1 |  57675 |  57509 |  55412 | Contig42421 | 23372 | 27132 | 25732 |  3760 | 100 |        NA | ⋯ | SD | both | NA   | Contig42421 | 12185 | 27487 | Contig42421 | 23372 | 27132 | 12185 |\n",
       "| 2 |  52893 |  52744 |  50138 | Contig41249 | 25994 | 32832 | 30709 |  6838 | 100 | -1302.102 | ⋯ | SD | both | both | Contig41249 |  2950 | 32864 | Contig41249 | 25994 | 32832 |  2950 |\n",
       "| 3 |  52891 |  52742 |  50136 | Contig41249 | 19174 | 22167 | 20862 |  2993 | 100 | -1438.198 | ⋯ | SD | both | both | Contig41249 |  2950 | 32864 | Contig41249 | 19174 | 22167 |  2950 |\n",
       "| 4 |  29096 |  28992 | 128637 | Contig6923  |  3414 | 16465 |  7070 | 13051 | 100 | -1301.500 | ⋯ | SD | both | NA   | Contig6923  |  2089 | 16330 | Contig6923  |  3414 | 16465 |  2089 |\n",
       "| 5 |  52892 |  52743 |  50137 | Contig41249 | 22170 | 25989 | 24141 |  3819 | 100 | -1362.500 | ⋯ | SD | both | both | Contig41249 |  2950 | 32864 | Contig41249 | 22170 | 25989 |  2950 |\n",
       "| 6 | 126774 | 126458 | 134512 | Contig73375 | 46355 | 50246 | 47667 |  3891 | 100 | -2050.213 | ⋯ | SD | both | both | Contig73375 | 35791 | 50552 | Contig73375 | 46355 | 50246 | 35791 |\n",
       "\n"
      ],
      "text/plain": [
       "  X.1    output_order X      scaffold.x  start.x end.x mid.x win_size sites\n",
       "1  57675  57509        55412 Contig42421 23372   27132 25732  3760    100  \n",
       "2  52893  52744        50138 Contig41249 25994   32832 30709  6838    100  \n",
       "3  52891  52742        50136 Contig41249 19174   22167 20862  2993    100  \n",
       "4  29096  28992       128637 Contig6923   3414   16465  7070 13051    100  \n",
       "5  52892  52743        50137 Contig41249 22170   25989 24141  3819    100  \n",
       "6 126774 126458       134512 Contig73375 46355   50246 47667  3891    100  \n",
       "  lnL       ⋯ threshold.foot differ tissue_diff seqname     gene_start gene_end\n",
       "1        NA ⋯ SD             both   NA          Contig42421 12185      27487   \n",
       "2 -1302.102 ⋯ SD             both   both        Contig41249  2950      32864   \n",
       "3 -1438.198 ⋯ SD             both   both        Contig41249  2950      32864   \n",
       "4 -1301.500 ⋯ SD             both   NA          Contig6923   2089      16330   \n",
       "5 -1362.500 ⋯ SD             both   both        Contig41249  2950      32864   \n",
       "6 -2050.213 ⋯ SD             both   both        Contig73375 35791      50552   \n",
       "  scaffold.y  start.y end.y mid.y\n",
       "1 Contig42421 23372   27132 12185\n",
       "2 Contig41249 25994   32832  2950\n",
       "3 Contig41249 19174   22167  2950\n",
       "4 Contig6923   3414   16465  2089\n",
       "5 Contig41249 22170   25989  2950\n",
       "6 Contig73375 46355   50246 35791"
      ]
     },
     "metadata": {},
     "output_type": "display_data"
    }
   ],
   "source": [
    "data <- read.csv(\"diff_exp_merged_twisstPopgenwins.csv\",header=TRUE)\n",
    "head(data)"
   ]
  },
  {
   "cell_type": "code",
   "execution_count": 4,
   "id": "b9fcd9a4",
   "metadata": {},
   "outputs": [
    {
     "data": {
      "text/html": [
       "<table class=\"dataframe\">\n",
       "<caption>A data.frame: 6 × 76</caption>\n",
       "<thead>\n",
       "\t<tr><th></th><th scope=col>X.1</th><th scope=col>output_order</th><th scope=col>X</th><th scope=col>scaffold.x</th><th scope=col>start.x</th><th scope=col>end.x</th><th scope=col>mid.x</th><th scope=col>win_size</th><th scope=col>sites</th><th scope=col>lnL</th><th scope=col>⋯</th><th scope=col>threshold.foot</th><th scope=col>differ</th><th scope=col>tissue_diff</th><th scope=col>seqname</th><th scope=col>gene_start</th><th scope=col>gene_end</th><th scope=col>scaffold.y</th><th scope=col>start.y</th><th scope=col>end.y</th><th scope=col>mid.y</th></tr>\n",
       "\t<tr><th></th><th scope=col>&lt;int&gt;</th><th scope=col>&lt;int&gt;</th><th scope=col>&lt;int&gt;</th><th scope=col>&lt;chr&gt;</th><th scope=col>&lt;int&gt;</th><th scope=col>&lt;int&gt;</th><th scope=col>&lt;int&gt;</th><th scope=col>&lt;int&gt;</th><th scope=col>&lt;int&gt;</th><th scope=col>&lt;dbl&gt;</th><th scope=col>⋯</th><th scope=col>&lt;chr&gt;</th><th scope=col>&lt;chr&gt;</th><th scope=col>&lt;chr&gt;</th><th scope=col>&lt;chr&gt;</th><th scope=col>&lt;int&gt;</th><th scope=col>&lt;int&gt;</th><th scope=col>&lt;chr&gt;</th><th scope=col>&lt;int&gt;</th><th scope=col>&lt;int&gt;</th><th scope=col>&lt;int&gt;</th></tr>\n",
       "</thead>\n",
       "<tbody>\n",
       "\t<tr><th scope=row>1</th><td> 57675</td><td> 57509</td><td> 55412</td><td>Contig42421</td><td>23372</td><td>27132</td><td>25732</td><td> 3760</td><td>100</td><td>       NA</td><td>⋯</td><td>SD</td><td>both</td><td>NA  </td><td>Contig42421</td><td>12185</td><td>27487</td><td>Contig42421</td><td>23372</td><td>27132</td><td>12185</td></tr>\n",
       "\t<tr><th scope=row>2</th><td> 52893</td><td> 52744</td><td> 50138</td><td>Contig41249</td><td>25994</td><td>32832</td><td>30709</td><td> 6838</td><td>100</td><td>-1302.102</td><td>⋯</td><td>SD</td><td>both</td><td>both</td><td>Contig41249</td><td> 2950</td><td>32864</td><td>Contig41249</td><td>25994</td><td>32832</td><td> 2950</td></tr>\n",
       "\t<tr><th scope=row>3</th><td> 52891</td><td> 52742</td><td> 50136</td><td>Contig41249</td><td>19174</td><td>22167</td><td>20862</td><td> 2993</td><td>100</td><td>-1438.198</td><td>⋯</td><td>SD</td><td>both</td><td>both</td><td>Contig41249</td><td> 2950</td><td>32864</td><td>Contig41249</td><td>19174</td><td>22167</td><td> 2950</td></tr>\n",
       "\t<tr><th scope=row>4</th><td> 29096</td><td> 28992</td><td>128637</td><td>Contig6923 </td><td> 3414</td><td>16465</td><td> 7070</td><td>13051</td><td>100</td><td>-1301.500</td><td>⋯</td><td>SD</td><td>both</td><td>NA  </td><td>Contig6923 </td><td> 2089</td><td>16330</td><td>Contig6923 </td><td> 3414</td><td>16465</td><td> 2089</td></tr>\n",
       "\t<tr><th scope=row>5</th><td> 52892</td><td> 52743</td><td> 50137</td><td>Contig41249</td><td>22170</td><td>25989</td><td>24141</td><td> 3819</td><td>100</td><td>-1362.500</td><td>⋯</td><td>SD</td><td>both</td><td>both</td><td>Contig41249</td><td> 2950</td><td>32864</td><td>Contig41249</td><td>22170</td><td>25989</td><td> 2950</td></tr>\n",
       "\t<tr><th scope=row>6</th><td>126774</td><td>126458</td><td>134512</td><td>Contig73375</td><td>46355</td><td>50246</td><td>47667</td><td> 3891</td><td>100</td><td>-2050.213</td><td>⋯</td><td>SD</td><td>both</td><td>both</td><td>Contig73375</td><td>35791</td><td>50552</td><td>Contig73375</td><td>46355</td><td>50246</td><td>35791</td></tr>\n",
       "</tbody>\n",
       "</table>\n"
      ],
      "text/latex": [
       "A data.frame: 6 × 76\n",
       "\\begin{tabular}{r|lllllllllllllllllllll}\n",
       "  & X.1 & output\\_order & X & scaffold.x & start.x & end.x & mid.x & win\\_size & sites & lnL & ⋯ & threshold.foot & differ & tissue\\_diff & seqname & gene\\_start & gene\\_end & scaffold.y & start.y & end.y & mid.y\\\\\n",
       "  & <int> & <int> & <int> & <chr> & <int> & <int> & <int> & <int> & <int> & <dbl> & ⋯ & <chr> & <chr> & <chr> & <chr> & <int> & <int> & <chr> & <int> & <int> & <int>\\\\\n",
       "\\hline\n",
       "\t1 &  57675 &  57509 &  55412 & Contig42421 & 23372 & 27132 & 25732 &  3760 & 100 &        NA & ⋯ & SD & both & NA   & Contig42421 & 12185 & 27487 & Contig42421 & 23372 & 27132 & 12185\\\\\n",
       "\t2 &  52893 &  52744 &  50138 & Contig41249 & 25994 & 32832 & 30709 &  6838 & 100 & -1302.102 & ⋯ & SD & both & both & Contig41249 &  2950 & 32864 & Contig41249 & 25994 & 32832 &  2950\\\\\n",
       "\t3 &  52891 &  52742 &  50136 & Contig41249 & 19174 & 22167 & 20862 &  2993 & 100 & -1438.198 & ⋯ & SD & both & both & Contig41249 &  2950 & 32864 & Contig41249 & 19174 & 22167 &  2950\\\\\n",
       "\t4 &  29096 &  28992 & 128637 & Contig6923  &  3414 & 16465 &  7070 & 13051 & 100 & -1301.500 & ⋯ & SD & both & NA   & Contig6923  &  2089 & 16330 & Contig6923  &  3414 & 16465 &  2089\\\\\n",
       "\t5 &  52892 &  52743 &  50137 & Contig41249 & 22170 & 25989 & 24141 &  3819 & 100 & -1362.500 & ⋯ & SD & both & both & Contig41249 &  2950 & 32864 & Contig41249 & 22170 & 25989 &  2950\\\\\n",
       "\t6 & 126774 & 126458 & 134512 & Contig73375 & 46355 & 50246 & 47667 &  3891 & 100 & -2050.213 & ⋯ & SD & both & both & Contig73375 & 35791 & 50552 & Contig73375 & 46355 & 50246 & 35791\\\\\n",
       "\\end{tabular}\n"
      ],
      "text/markdown": [
       "\n",
       "A data.frame: 6 × 76\n",
       "\n",
       "| <!--/--> | X.1 &lt;int&gt; | output_order &lt;int&gt; | X &lt;int&gt; | scaffold.x &lt;chr&gt; | start.x &lt;int&gt; | end.x &lt;int&gt; | mid.x &lt;int&gt; | win_size &lt;int&gt; | sites &lt;int&gt; | lnL &lt;dbl&gt; | ⋯ ⋯ | threshold.foot &lt;chr&gt; | differ &lt;chr&gt; | tissue_diff &lt;chr&gt; | seqname &lt;chr&gt; | gene_start &lt;int&gt; | gene_end &lt;int&gt; | scaffold.y &lt;chr&gt; | start.y &lt;int&gt; | end.y &lt;int&gt; | mid.y &lt;int&gt; |\n",
       "|---|---|---|---|---|---|---|---|---|---|---|---|---|---|---|---|---|---|---|---|---|---|\n",
       "| 1 |  57675 |  57509 |  55412 | Contig42421 | 23372 | 27132 | 25732 |  3760 | 100 |        NA | ⋯ | SD | both | NA   | Contig42421 | 12185 | 27487 | Contig42421 | 23372 | 27132 | 12185 |\n",
       "| 2 |  52893 |  52744 |  50138 | Contig41249 | 25994 | 32832 | 30709 |  6838 | 100 | -1302.102 | ⋯ | SD | both | both | Contig41249 |  2950 | 32864 | Contig41249 | 25994 | 32832 |  2950 |\n",
       "| 3 |  52891 |  52742 |  50136 | Contig41249 | 19174 | 22167 | 20862 |  2993 | 100 | -1438.198 | ⋯ | SD | both | both | Contig41249 |  2950 | 32864 | Contig41249 | 19174 | 22167 |  2950 |\n",
       "| 4 |  29096 |  28992 | 128637 | Contig6923  |  3414 | 16465 |  7070 | 13051 | 100 | -1301.500 | ⋯ | SD | both | NA   | Contig6923  |  2089 | 16330 | Contig6923  |  3414 | 16465 |  2089 |\n",
       "| 5 |  52892 |  52743 |  50137 | Contig41249 | 22170 | 25989 | 24141 |  3819 | 100 | -1362.500 | ⋯ | SD | both | both | Contig41249 |  2950 | 32864 | Contig41249 | 22170 | 25989 |  2950 |\n",
       "| 6 | 126774 | 126458 | 134512 | Contig73375 | 46355 | 50246 | 47667 |  3891 | 100 | -2050.213 | ⋯ | SD | both | both | Contig73375 | 35791 | 50552 | Contig73375 | 46355 | 50246 | 35791 |\n",
       "\n"
      ],
      "text/plain": [
       "  X.1    output_order X      scaffold.x  start.x end.x mid.x win_size sites\n",
       "1  57675  57509        55412 Contig42421 23372   27132 25732  3760    100  \n",
       "2  52893  52744        50138 Contig41249 25994   32832 30709  6838    100  \n",
       "3  52891  52742        50136 Contig41249 19174   22167 20862  2993    100  \n",
       "4  29096  28992       128637 Contig6923   3414   16465  7070 13051    100  \n",
       "5  52892  52743        50137 Contig41249 22170   25989 24141  3819    100  \n",
       "6 126774 126458       134512 Contig73375 46355   50246 47667  3891    100  \n",
       "  lnL       ⋯ threshold.foot differ tissue_diff seqname     gene_start gene_end\n",
       "1        NA ⋯ SD             both   NA          Contig42421 12185      27487   \n",
       "2 -1302.102 ⋯ SD             both   both        Contig41249  2950      32864   \n",
       "3 -1438.198 ⋯ SD             both   both        Contig41249  2950      32864   \n",
       "4 -1301.500 ⋯ SD             both   NA          Contig6923   2089      16330   \n",
       "5 -1362.500 ⋯ SD             both   both        Contig41249  2950      32864   \n",
       "6 -2050.213 ⋯ SD             both   both        Contig73375 35791      50552   \n",
       "  scaffold.y  start.y end.y mid.y\n",
       "1 Contig42421 23372   27132 12185\n",
       "2 Contig41249 25994   32832  2950\n",
       "3 Contig41249 19174   22167  2950\n",
       "4 Contig6923   3414   16465  2089\n",
       "5 Contig41249 22170   25989  2950\n",
       "6 Contig73375 46355   50246 35791"
      ]
     },
     "metadata": {},
     "output_type": "display_data"
    }
   ],
   "source": [
    "data <- subset(data, differ==\"both\" | differ == \"repro\")\n",
    "head(data)\n",
    "lenght(data$)"
   ]
  },
  {
   "cell_type": "code",
   "execution_count": null,
   "id": "47794e1a",
   "metadata": {},
   "outputs": [],
   "source": []
  }
 ],
 "metadata": {
  "kernelspec": {
   "display_name": "R",
   "language": "R",
   "name": "ir"
  },
  "language_info": {
   "codemirror_mode": "r",
   "file_extension": ".r",
   "mimetype": "text/x-r-source",
   "name": "R",
   "pygments_lexer": "r",
   "version": "4.1.3"
  }
 },
 "nbformat": 4,
 "nbformat_minor": 5
}
