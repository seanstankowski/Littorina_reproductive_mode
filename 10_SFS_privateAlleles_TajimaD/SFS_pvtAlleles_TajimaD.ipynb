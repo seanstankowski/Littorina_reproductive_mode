{
 "cells": [
  {
   "cell_type": "markdown",
   "id": "56638bce",
   "metadata": {},
   "source": [
    "# Ananlysis of private alleles, Tajima D and the folded SFS"
   ]
  },
  {
   "cell_type": "markdown",
   "id": "236dba1e",
   "metadata": {},
   "source": [
    "## Read in data and load packges"
   ]
  },
  {
   "cell_type": "code",
   "execution_count": 24,
   "id": "c2596a27",
   "metadata": {},
   "outputs": [
    {
     "data": {
      "text/html": [
       "<table class=\"dataframe\">\n",
       "<caption>A data.frame: 10 × 112</caption>\n",
       "<thead>\n",
       "\t<tr><th></th><th scope=col>entry_order</th><th scope=col>contig</th><th scope=col>cont</th><th scope=col>site</th><th scope=col>SP_1</th><th scope=col>SP_2</th><th scope=col>SP_3</th><th scope=col>SP_4</th><th scope=col>SP_5</th><th scope=col>SP_6</th><th scope=col>⋯</th><th scope=col>ARC_19</th><th scope=col>ARC_20</th><th scope=col>ARC_21</th><th scope=col>ARC_22</th><th scope=col>ARC_23</th><th scope=col>ARC_24</th><th scope=col>C_1</th><th scope=col>C_2</th><th scope=col>C_3</th><th scope=col>C_4</th></tr>\n",
       "\t<tr><th></th><th scope=col>&lt;int&gt;</th><th scope=col>&lt;chr&gt;</th><th scope=col>&lt;int&gt;</th><th scope=col>&lt;int&gt;</th><th scope=col>&lt;int&gt;</th><th scope=col>&lt;int&gt;</th><th scope=col>&lt;int&gt;</th><th scope=col>&lt;int&gt;</th><th scope=col>&lt;int&gt;</th><th scope=col>&lt;int&gt;</th><th scope=col>⋯</th><th scope=col>&lt;int&gt;</th><th scope=col>&lt;int&gt;</th><th scope=col>&lt;int&gt;</th><th scope=col>&lt;int&gt;</th><th scope=col>&lt;int&gt;</th><th scope=col>&lt;int&gt;</th><th scope=col>&lt;int&gt;</th><th scope=col>&lt;int&gt;</th><th scope=col>&lt;int&gt;</th><th scope=col>&lt;int&gt;</th></tr>\n",
       "</thead>\n",
       "<tbody>\n",
       "\t<tr><th scope=row>1</th><td>1312</td><td>Contig3970  </td><td>1312</td><td>  483</td><td>2</td><td>2</td><td>2</td><td>2</td><td>2</td><td>2</td><td>⋯</td><td>2</td><td>2</td><td>2</td><td>2</td><td>2</td><td>2</td><td>2</td><td>2</td><td>2</td><td>2</td></tr>\n",
       "\t<tr><th scope=row>2</th><td>1381</td><td>Contig3970  </td><td>1381</td><td> 1863</td><td>2</td><td>2</td><td>2</td><td>2</td><td>2</td><td>2</td><td>⋯</td><td>2</td><td>2</td><td>2</td><td>2</td><td>2</td><td>2</td><td>2</td><td>2</td><td>2</td><td>2</td></tr>\n",
       "\t<tr><th scope=row>3</th><td>2461</td><td>Contig43562 </td><td>2461</td><td>39372</td><td>2</td><td>2</td><td>2</td><td>2</td><td>2</td><td>2</td><td>⋯</td><td>2</td><td>2</td><td>2</td><td>2</td><td>2</td><td>2</td><td>2</td><td>2</td><td>2</td><td>2</td></tr>\n",
       "\t<tr><th scope=row>4</th><td>9073</td><td>Contig173651</td><td>9073</td><td> 2208</td><td>2</td><td>2</td><td>2</td><td>2</td><td>2</td><td>2</td><td>⋯</td><td>2</td><td>2</td><td>2</td><td>2</td><td>2</td><td>2</td><td>2</td><td>2</td><td>2</td><td>2</td></tr>\n",
       "\t<tr><th scope=row>5</th><td>5681</td><td>Contig67554 </td><td>5681</td><td> 5511</td><td>2</td><td>2</td><td>2</td><td>2</td><td>2</td><td>2</td><td>⋯</td><td>2</td><td>2</td><td>2</td><td>2</td><td>2</td><td>2</td><td>2</td><td>2</td><td>2</td><td>2</td></tr>\n",
       "\t<tr><th scope=row>6</th><td>6904</td><td>Contig81225 </td><td>6904</td><td>40805</td><td>2</td><td>2</td><td>2</td><td>2</td><td>2</td><td>2</td><td>⋯</td><td>2</td><td>2</td><td>2</td><td>2</td><td>2</td><td>2</td><td>2</td><td>2</td><td>2</td><td>2</td></tr>\n",
       "\t<tr><th scope=row>7</th><td>5307</td><td>Contig61890 </td><td>5307</td><td>14408</td><td>2</td><td>2</td><td>2</td><td>2</td><td>2</td><td>2</td><td>⋯</td><td>2</td><td>2</td><td>2</td><td>2</td><td>2</td><td>2</td><td>2</td><td>2</td><td>2</td><td>2</td></tr>\n",
       "\t<tr><th scope=row>8</th><td>9263</td><td>Contig181768</td><td>9263</td><td> 2545</td><td>2</td><td>2</td><td>2</td><td>2</td><td>2</td><td>2</td><td>⋯</td><td>2</td><td>2</td><td>2</td><td>2</td><td>2</td><td>2</td><td>2</td><td>2</td><td>2</td><td>2</td></tr>\n",
       "\t<tr><th scope=row>9</th><td> 671</td><td>Contig2245  </td><td> 671</td><td>11403</td><td>2</td><td>2</td><td>2</td><td>2</td><td>2</td><td>2</td><td>⋯</td><td>2</td><td>2</td><td>2</td><td>2</td><td>2</td><td>2</td><td>2</td><td>2</td><td>2</td><td>2</td></tr>\n",
       "\t<tr><th scope=row>10</th><td> 711</td><td>Contig2245  </td><td> 711</td><td>13610</td><td>2</td><td>2</td><td>2</td><td>2</td><td>2</td><td>2</td><td>⋯</td><td>2</td><td>2</td><td>2</td><td>2</td><td>2</td><td>2</td><td>2</td><td>2</td><td>2</td><td>2</td></tr>\n",
       "</tbody>\n",
       "</table>\n"
      ],
      "text/latex": [
       "A data.frame: 10 × 112\n",
       "\\begin{tabular}{r|lllllllllllllllllllll}\n",
       "  & entry\\_order & contig & cont & site & SP\\_1 & SP\\_2 & SP\\_3 & SP\\_4 & SP\\_5 & SP\\_6 & ⋯ & ARC\\_19 & ARC\\_20 & ARC\\_21 & ARC\\_22 & ARC\\_23 & ARC\\_24 & C\\_1 & C\\_2 & C\\_3 & C\\_4\\\\\n",
       "  & <int> & <chr> & <int> & <int> & <int> & <int> & <int> & <int> & <int> & <int> & ⋯ & <int> & <int> & <int> & <int> & <int> & <int> & <int> & <int> & <int> & <int>\\\\\n",
       "\\hline\n",
       "\t1 & 1312 & Contig3970   & 1312 &   483 & 2 & 2 & 2 & 2 & 2 & 2 & ⋯ & 2 & 2 & 2 & 2 & 2 & 2 & 2 & 2 & 2 & 2\\\\\n",
       "\t2 & 1381 & Contig3970   & 1381 &  1863 & 2 & 2 & 2 & 2 & 2 & 2 & ⋯ & 2 & 2 & 2 & 2 & 2 & 2 & 2 & 2 & 2 & 2\\\\\n",
       "\t3 & 2461 & Contig43562  & 2461 & 39372 & 2 & 2 & 2 & 2 & 2 & 2 & ⋯ & 2 & 2 & 2 & 2 & 2 & 2 & 2 & 2 & 2 & 2\\\\\n",
       "\t4 & 9073 & Contig173651 & 9073 &  2208 & 2 & 2 & 2 & 2 & 2 & 2 & ⋯ & 2 & 2 & 2 & 2 & 2 & 2 & 2 & 2 & 2 & 2\\\\\n",
       "\t5 & 5681 & Contig67554  & 5681 &  5511 & 2 & 2 & 2 & 2 & 2 & 2 & ⋯ & 2 & 2 & 2 & 2 & 2 & 2 & 2 & 2 & 2 & 2\\\\\n",
       "\t6 & 6904 & Contig81225  & 6904 & 40805 & 2 & 2 & 2 & 2 & 2 & 2 & ⋯ & 2 & 2 & 2 & 2 & 2 & 2 & 2 & 2 & 2 & 2\\\\\n",
       "\t7 & 5307 & Contig61890  & 5307 & 14408 & 2 & 2 & 2 & 2 & 2 & 2 & ⋯ & 2 & 2 & 2 & 2 & 2 & 2 & 2 & 2 & 2 & 2\\\\\n",
       "\t8 & 9263 & Contig181768 & 9263 &  2545 & 2 & 2 & 2 & 2 & 2 & 2 & ⋯ & 2 & 2 & 2 & 2 & 2 & 2 & 2 & 2 & 2 & 2\\\\\n",
       "\t9 &  671 & Contig2245   &  671 & 11403 & 2 & 2 & 2 & 2 & 2 & 2 & ⋯ & 2 & 2 & 2 & 2 & 2 & 2 & 2 & 2 & 2 & 2\\\\\n",
       "\t10 &  711 & Contig2245   &  711 & 13610 & 2 & 2 & 2 & 2 & 2 & 2 & ⋯ & 2 & 2 & 2 & 2 & 2 & 2 & 2 & 2 & 2 & 2\\\\\n",
       "\\end{tabular}\n"
      ],
      "text/markdown": [
       "\n",
       "A data.frame: 10 × 112\n",
       "\n",
       "| <!--/--> | entry_order &lt;int&gt; | contig &lt;chr&gt; | cont &lt;int&gt; | site &lt;int&gt; | SP_1 &lt;int&gt; | SP_2 &lt;int&gt; | SP_3 &lt;int&gt; | SP_4 &lt;int&gt; | SP_5 &lt;int&gt; | SP_6 &lt;int&gt; | ⋯ ⋯ | ARC_19 &lt;int&gt; | ARC_20 &lt;int&gt; | ARC_21 &lt;int&gt; | ARC_22 &lt;int&gt; | ARC_23 &lt;int&gt; | ARC_24 &lt;int&gt; | C_1 &lt;int&gt; | C_2 &lt;int&gt; | C_3 &lt;int&gt; | C_4 &lt;int&gt; |\n",
       "|---|---|---|---|---|---|---|---|---|---|---|---|---|---|---|---|---|---|---|---|---|---|\n",
       "| 1 | 1312 | Contig3970   | 1312 |   483 | 2 | 2 | 2 | 2 | 2 | 2 | ⋯ | 2 | 2 | 2 | 2 | 2 | 2 | 2 | 2 | 2 | 2 |\n",
       "| 2 | 1381 | Contig3970   | 1381 |  1863 | 2 | 2 | 2 | 2 | 2 | 2 | ⋯ | 2 | 2 | 2 | 2 | 2 | 2 | 2 | 2 | 2 | 2 |\n",
       "| 3 | 2461 | Contig43562  | 2461 | 39372 | 2 | 2 | 2 | 2 | 2 | 2 | ⋯ | 2 | 2 | 2 | 2 | 2 | 2 | 2 | 2 | 2 | 2 |\n",
       "| 4 | 9073 | Contig173651 | 9073 |  2208 | 2 | 2 | 2 | 2 | 2 | 2 | ⋯ | 2 | 2 | 2 | 2 | 2 | 2 | 2 | 2 | 2 | 2 |\n",
       "| 5 | 5681 | Contig67554  | 5681 |  5511 | 2 | 2 | 2 | 2 | 2 | 2 | ⋯ | 2 | 2 | 2 | 2 | 2 | 2 | 2 | 2 | 2 | 2 |\n",
       "| 6 | 6904 | Contig81225  | 6904 | 40805 | 2 | 2 | 2 | 2 | 2 | 2 | ⋯ | 2 | 2 | 2 | 2 | 2 | 2 | 2 | 2 | 2 | 2 |\n",
       "| 7 | 5307 | Contig61890  | 5307 | 14408 | 2 | 2 | 2 | 2 | 2 | 2 | ⋯ | 2 | 2 | 2 | 2 | 2 | 2 | 2 | 2 | 2 | 2 |\n",
       "| 8 | 9263 | Contig181768 | 9263 |  2545 | 2 | 2 | 2 | 2 | 2 | 2 | ⋯ | 2 | 2 | 2 | 2 | 2 | 2 | 2 | 2 | 2 | 2 |\n",
       "| 9 |  671 | Contig2245   |  671 | 11403 | 2 | 2 | 2 | 2 | 2 | 2 | ⋯ | 2 | 2 | 2 | 2 | 2 | 2 | 2 | 2 | 2 | 2 |\n",
       "| 10 |  711 | Contig2245   |  711 | 13610 | 2 | 2 | 2 | 2 | 2 | 2 | ⋯ | 2 | 2 | 2 | 2 | 2 | 2 | 2 | 2 | 2 | 2 |\n",
       "\n"
      ],
      "text/plain": [
       "   entry_order contig       cont site  SP_1 SP_2 SP_3 SP_4 SP_5 SP_6 ⋯ ARC_19\n",
       "1  1312        Contig3970   1312   483 2    2    2    2    2    2    ⋯ 2     \n",
       "2  1381        Contig3970   1381  1863 2    2    2    2    2    2    ⋯ 2     \n",
       "3  2461        Contig43562  2461 39372 2    2    2    2    2    2    ⋯ 2     \n",
       "4  9073        Contig173651 9073  2208 2    2    2    2    2    2    ⋯ 2     \n",
       "5  5681        Contig67554  5681  5511 2    2    2    2    2    2    ⋯ 2     \n",
       "6  6904        Contig81225  6904 40805 2    2    2    2    2    2    ⋯ 2     \n",
       "7  5307        Contig61890  5307 14408 2    2    2    2    2    2    ⋯ 2     \n",
       "8  9263        Contig181768 9263  2545 2    2    2    2    2    2    ⋯ 2     \n",
       "9   671        Contig2245    671 11403 2    2    2    2    2    2    ⋯ 2     \n",
       "10  711        Contig2245    711 13610 2    2    2    2    2    2    ⋯ 2     \n",
       "   ARC_20 ARC_21 ARC_22 ARC_23 ARC_24 C_1 C_2 C_3 C_4\n",
       "1  2      2      2      2      2      2   2   2   2  \n",
       "2  2      2      2      2      2      2   2   2   2  \n",
       "3  2      2      2      2      2      2   2   2   2  \n",
       "4  2      2      2      2      2      2   2   2   2  \n",
       "5  2      2      2      2      2      2   2   2   2  \n",
       "6  2      2      2      2      2      2   2   2   2  \n",
       "7  2      2      2      2      2      2   2   2   2  \n",
       "8  2      2      2      2      2      2   2   2   2  \n",
       "9  2      2      2      2      2      2   2   2   2  \n",
       "10 2      2      2      2      2      2   2   2   2  "
      ]
     },
     "metadata": {},
     "output_type": "display_data"
    }
   ],
   "source": [
    "## set working dir\n",
    "setwd(\"/Users/sstankow/Documents/GitHub/Littorina_reproductive_mode/012plot_privateAlleles\")\n",
    "\n",
    "## load data\n",
    "data <- read.csv(\"012_For_R_analysis.csv\", header=TRUE)\n",
    "\n",
    "## Install packages\n",
    "library(tidyverse)\n",
    "library(dplyr)\n",
    "library(DescTools)\n",
    "\n",
    "head(data,10)"
   ]
  },
  {
   "cell_type": "markdown",
   "id": "565475e7",
   "metadata": {},
   "source": [
    "## Function for calcuting Tajimas D"
   ]
  },
  {
   "cell_type": "code",
   "execution_count": 25,
   "id": "1712478c",
   "metadata": {},
   "outputs": [],
   "source": [
    " TajimaD <- function(sfs){\n",
    "    #' sfs (site frequency spectrum): number of singletons, doubletons, ..., etc\n",
    "    n <- length(sfs) + 1\n",
    "    ss <- sum(sfs)\n",
    "    a1 <- sum(1 / seq_len(n-1))\n",
    "    a2 <- sum(1 / seq_len(n-1)^2)\n",
    "    b1 <- (n + 1) / (3 * (n - 1))\n",
    "    b2 <- 2 * (n^2 + n + 3)/(9 * n * (n - 1))\n",
    "    c1 <- b1 - 1/a1\n",
    "    c2 <- b2 - (n + 2)/(a1 * n) + a2 / a1^2\n",
    "    e1 <- c1 / a1\n",
    "    e2 <- c2 / (a1^2 + a2)\n",
    "    Vd <- e1 * ss + e2 * ss * (ss - 1) \n",
    "    theta_pi <- sum(2 * seq_len(n-1) * (n - seq_len(n-1)) * sfs)/(n*(n-1))\n",
    "    theta_w <- ss / a1\n",
    "    res <- (theta_pi - theta_w) / sqrt(Vd)\n",
    "    return(res)\n",
    "}\n",
    "\n",
    "## usage \n",
    "##TajimaD(\"vector of folded sfs\")"
   ]
  },
  {
   "cell_type": "markdown",
   "id": "9455179a",
   "metadata": {},
   "source": [
    "## Egg-layers and brooders"
   ]
  },
  {
   "cell_type": "markdown",
   "id": "6367b816",
   "metadata": {},
   "source": [
    "### Calculate a bunch of new summary variables"
   ]
  },
  {
   "cell_type": "code",
   "execution_count": 26,
   "id": "b099b82a",
   "metadata": {},
   "outputs": [],
   "source": [
    "## for rerence of the columns that contain data for the key groups that we want to work with, these are commented out because dont want to run this cell\n",
    "\n",
    "#data[85:112] ## egg-layers\n",
    "#data[5:84] ## brooders\n",
    "#data[109:112] ## compressa\n",
    "#data[85:108] ## arcana\n",
    "#data[17:84] ## north\n",
    "#data[5:16]  ## spain  "
   ]
  },
  {
   "cell_type": "code",
   "execution_count": 27,
   "id": "5e8b1892",
   "metadata": {},
   "outputs": [],
   "source": [
    "#Set up same variables for total allele count for each groups\n",
    "n_egg <- 28\n",
    "n_brood <- 80\n",
    "n_spain <- 12\n",
    "n_north <- 68\n",
    "n_arc <- 24"
   ]
  },
  {
   "cell_type": "markdown",
   "id": "135acf25",
   "metadata": {},
   "source": [
    "Starting with brooders and egg-layers caculate the counts of the ref and alt alleles. The values of the genotypes are as follows: <br>\n",
    "Hom ref = 0 <br>\n",
    "Hom alt = 2 <br>\n",
    "Het = 1 <br>\n",
    "Therfore, the count for the alt alelle for a locus is just is the sum of of all of the genotypes, and for the ref alelle 2n-sumAlt. The frequencies of both allele classes is just the countAlt(Ref)/2n\n"
   ]
  },
  {
   "cell_type": "code",
   "execution_count": 30,
   "id": "c86a05e7",
   "metadata": {},
   "outputs": [
    {
     "data": {
      "text/html": [
       "<table class=\"dataframe\">\n",
       "<caption>A data.frame: 20 × 132</caption>\n",
       "<thead>\n",
       "\t<tr><th></th><th scope=col>entry_order</th><th scope=col>contig</th><th scope=col>cont</th><th scope=col>site</th><th scope=col>SP_1</th><th scope=col>SP_2</th><th scope=col>SP_3</th><th scope=col>SP_4</th><th scope=col>SP_5</th><th scope=col>SP_6</th><th scope=col>⋯</th><th scope=col>p_alt_north</th><th scope=col>p_ref_north</th><th scope=col>alt_count_spain</th><th scope=col>ref_count_spain</th><th scope=col>p_alt_spain</th><th scope=col>p_ref_spain</th><th scope=col>alt_count_arc</th><th scope=col>ref_count_arc</th><th scope=col>p_alt_arc</th><th scope=col>p_ref_arc</th></tr>\n",
       "\t<tr><th></th><th scope=col>&lt;int&gt;</th><th scope=col>&lt;chr&gt;</th><th scope=col>&lt;int&gt;</th><th scope=col>&lt;int&gt;</th><th scope=col>&lt;int&gt;</th><th scope=col>&lt;int&gt;</th><th scope=col>&lt;int&gt;</th><th scope=col>&lt;int&gt;</th><th scope=col>&lt;int&gt;</th><th scope=col>&lt;int&gt;</th><th scope=col>⋯</th><th scope=col>&lt;dbl&gt;</th><th scope=col>&lt;dbl&gt;</th><th scope=col>&lt;dbl&gt;</th><th scope=col>&lt;dbl&gt;</th><th scope=col>&lt;dbl&gt;</th><th scope=col>&lt;dbl&gt;</th><th scope=col>&lt;dbl&gt;</th><th scope=col>&lt;dbl&gt;</th><th scope=col>&lt;dbl&gt;</th><th scope=col>&lt;dbl&gt;</th></tr>\n",
       "</thead>\n",
       "<tbody>\n",
       "\t<tr><th scope=row>1</th><td>1312</td><td>Contig3970  </td><td>1312</td><td>  483</td><td>2</td><td>2</td><td>2</td><td>2</td><td>2</td><td>2</td><td>⋯</td><td>0.9926471</td><td>0.007352941</td><td>24</td><td>0</td><td>1</td><td>0</td><td>48</td><td> 0</td><td>1</td><td>0</td></tr>\n",
       "\t<tr><th scope=row>2</th><td>1381</td><td>Contig3970  </td><td>1381</td><td> 1863</td><td>2</td><td>2</td><td>2</td><td>2</td><td>2</td><td>2</td><td>⋯</td><td>0.9926471</td><td>0.007352941</td><td>24</td><td>0</td><td>1</td><td>0</td><td>48</td><td> 0</td><td>1</td><td>0</td></tr>\n",
       "\t<tr><th scope=row>3</th><td>2461</td><td>Contig43562 </td><td>2461</td><td>39372</td><td>2</td><td>2</td><td>2</td><td>2</td><td>2</td><td>2</td><td>⋯</td><td>0.9926471</td><td>0.007352941</td><td>24</td><td>0</td><td>1</td><td>0</td><td>48</td><td> 0</td><td>1</td><td>0</td></tr>\n",
       "\t<tr><th scope=row>4</th><td>9073</td><td>Contig173651</td><td>9073</td><td> 2208</td><td>2</td><td>2</td><td>2</td><td>2</td><td>2</td><td>2</td><td>⋯</td><td>0.9926471</td><td>0.007352941</td><td>24</td><td>0</td><td>1</td><td>0</td><td>48</td><td> 0</td><td>1</td><td>0</td></tr>\n",
       "\t<tr><th scope=row>5</th><td>5681</td><td>Contig67554 </td><td>5681</td><td> 5511</td><td>2</td><td>2</td><td>2</td><td>2</td><td>2</td><td>2</td><td>⋯</td><td>0.9705882</td><td>0.029411765</td><td>24</td><td>0</td><td>1</td><td>0</td><td>48</td><td> 0</td><td>1</td><td>0</td></tr>\n",
       "\t<tr><th scope=row>6</th><td>6904</td><td>Contig81225 </td><td>6904</td><td>40805</td><td>2</td><td>2</td><td>2</td><td>2</td><td>2</td><td>2</td><td>⋯</td><td>0.9632353</td><td>0.036764706</td><td>24</td><td>0</td><td>1</td><td>0</td><td>48</td><td> 0</td><td>1</td><td>0</td></tr>\n",
       "\t<tr><th scope=row>7</th><td>5307</td><td>Contig61890 </td><td>5307</td><td>14408</td><td>2</td><td>2</td><td>2</td><td>2</td><td>2</td><td>2</td><td>⋯</td><td>0.9485294</td><td>0.051470588</td><td>24</td><td>0</td><td>1</td><td>0</td><td>48</td><td> 0</td><td>1</td><td>0</td></tr>\n",
       "\t<tr><th scope=row>8</th><td>9263</td><td>Contig181768</td><td>9263</td><td> 2545</td><td>2</td><td>2</td><td>2</td><td>2</td><td>2</td><td>2</td><td>⋯</td><td>0.9485294</td><td>0.051470588</td><td>24</td><td>0</td><td>1</td><td>0</td><td>48</td><td> 0</td><td>1</td><td>0</td></tr>\n",
       "\t<tr><th scope=row>9</th><td> 671</td><td>Contig2245  </td><td> 671</td><td>11403</td><td>2</td><td>2</td><td>2</td><td>2</td><td>2</td><td>2</td><td>⋯</td><td>0.9411765</td><td>0.058823529</td><td>24</td><td>0</td><td>1</td><td>0</td><td>48</td><td> 0</td><td>1</td><td>0</td></tr>\n",
       "\t<tr><th scope=row>10</th><td> 711</td><td>Contig2245  </td><td> 711</td><td>13610</td><td>2</td><td>2</td><td>2</td><td>2</td><td>2</td><td>2</td><td>⋯</td><td>0.9411765</td><td>0.058823529</td><td>24</td><td>0</td><td>1</td><td>0</td><td>48</td><td> 0</td><td>1</td><td>0</td></tr>\n",
       "\t<tr><th scope=row>11</th><td>1465</td><td>Contig7286  </td><td>1465</td><td> 5777</td><td>2</td><td>2</td><td>2</td><td>2</td><td>2</td><td>2</td><td>⋯</td><td>0.9411765</td><td>0.058823529</td><td>24</td><td>0</td><td>1</td><td>0</td><td>48</td><td> 0</td><td>1</td><td>0</td></tr>\n",
       "\t<tr><th scope=row>12</th><td>5939</td><td>Contig76495 </td><td>5939</td><td> 8850</td><td>2</td><td>2</td><td>2</td><td>2</td><td>2</td><td>2</td><td>⋯</td><td>0.9411765</td><td>0.058823529</td><td>24</td><td>0</td><td>1</td><td>0</td><td>48</td><td> 0</td><td>1</td><td>0</td></tr>\n",
       "\t<tr><th scope=row>13</th><td>6144</td><td>Contig76495 </td><td>6144</td><td>15506</td><td>2</td><td>2</td><td>2</td><td>2</td><td>2</td><td>2</td><td>⋯</td><td>0.9411765</td><td>0.058823529</td><td>24</td><td>0</td><td>1</td><td>0</td><td>48</td><td> 0</td><td>1</td><td>0</td></tr>\n",
       "\t<tr><th scope=row>14</th><td>8991</td><td>Contig128971</td><td>8991</td><td>18346</td><td>2</td><td>2</td><td>2</td><td>2</td><td>2</td><td>2</td><td>⋯</td><td>0.9411765</td><td>0.058823529</td><td>24</td><td>0</td><td>1</td><td>0</td><td>48</td><td> 0</td><td>1</td><td>0</td></tr>\n",
       "\t<tr><th scope=row>15</th><td>8534</td><td>Contig108528</td><td>8534</td><td> 2299</td><td>2</td><td>2</td><td>2</td><td>2</td><td>2</td><td>2</td><td>⋯</td><td>0.9338235</td><td>0.066176471</td><td>24</td><td>0</td><td>1</td><td>0</td><td>48</td><td> 0</td><td>1</td><td>0</td></tr>\n",
       "\t<tr><th scope=row>16</th><td>4410</td><td>Contig60406 </td><td>4410</td><td> 1866</td><td>2</td><td>2</td><td>2</td><td>2</td><td>2</td><td>2</td><td>⋯</td><td>0.9191176</td><td>0.080882353</td><td>24</td><td>0</td><td>1</td><td>0</td><td>48</td><td> 0</td><td>1</td><td>0</td></tr>\n",
       "\t<tr><th scope=row>17</th><td>2738</td><td>Contig47979 </td><td>2738</td><td>10949</td><td>2</td><td>2</td><td>2</td><td>2</td><td>2</td><td>2</td><td>⋯</td><td>0.8897059</td><td>0.110294118</td><td>24</td><td>0</td><td>1</td><td>0</td><td>48</td><td> 0</td><td>1</td><td>0</td></tr>\n",
       "\t<tr><th scope=row>18</th><td>6819</td><td>Contig81225 </td><td>6819</td><td>31416</td><td>2</td><td>2</td><td>2</td><td>2</td><td>2</td><td>2</td><td>⋯</td><td>0.8750000</td><td>0.125000000</td><td>24</td><td>0</td><td>1</td><td>0</td><td>48</td><td> 0</td><td>1</td><td>0</td></tr>\n",
       "\t<tr><th scope=row>19</th><td>5849</td><td>Contig76495 </td><td>5849</td><td> 2431</td><td>2</td><td>2</td><td>2</td><td>2</td><td>2</td><td>2</td><td>⋯</td><td>0.8750000</td><td>0.125000000</td><td>24</td><td>0</td><td>1</td><td>0</td><td> 0</td><td>48</td><td>0</td><td>1</td></tr>\n",
       "\t<tr><th scope=row>20</th><td>7392</td><td>Contig81225 </td><td>7392</td><td>74500</td><td>2</td><td>2</td><td>2</td><td>2</td><td>2</td><td>2</td><td>⋯</td><td>0.8602941</td><td>0.139705882</td><td>24</td><td>0</td><td>1</td><td>0</td><td>48</td><td> 0</td><td>1</td><td>0</td></tr>\n",
       "</tbody>\n",
       "</table>\n"
      ],
      "text/latex": [
       "A data.frame: 20 × 132\n",
       "\\begin{tabular}{r|lllllllllllllllllllll}\n",
       "  & entry\\_order & contig & cont & site & SP\\_1 & SP\\_2 & SP\\_3 & SP\\_4 & SP\\_5 & SP\\_6 & ⋯ & p\\_alt\\_north & p\\_ref\\_north & alt\\_count\\_spain & ref\\_count\\_spain & p\\_alt\\_spain & p\\_ref\\_spain & alt\\_count\\_arc & ref\\_count\\_arc & p\\_alt\\_arc & p\\_ref\\_arc\\\\\n",
       "  & <int> & <chr> & <int> & <int> & <int> & <int> & <int> & <int> & <int> & <int> & ⋯ & <dbl> & <dbl> & <dbl> & <dbl> & <dbl> & <dbl> & <dbl> & <dbl> & <dbl> & <dbl>\\\\\n",
       "\\hline\n",
       "\t1 & 1312 & Contig3970   & 1312 &   483 & 2 & 2 & 2 & 2 & 2 & 2 & ⋯ & 0.9926471 & 0.007352941 & 24 & 0 & 1 & 0 & 48 &  0 & 1 & 0\\\\\n",
       "\t2 & 1381 & Contig3970   & 1381 &  1863 & 2 & 2 & 2 & 2 & 2 & 2 & ⋯ & 0.9926471 & 0.007352941 & 24 & 0 & 1 & 0 & 48 &  0 & 1 & 0\\\\\n",
       "\t3 & 2461 & Contig43562  & 2461 & 39372 & 2 & 2 & 2 & 2 & 2 & 2 & ⋯ & 0.9926471 & 0.007352941 & 24 & 0 & 1 & 0 & 48 &  0 & 1 & 0\\\\\n",
       "\t4 & 9073 & Contig173651 & 9073 &  2208 & 2 & 2 & 2 & 2 & 2 & 2 & ⋯ & 0.9926471 & 0.007352941 & 24 & 0 & 1 & 0 & 48 &  0 & 1 & 0\\\\\n",
       "\t5 & 5681 & Contig67554  & 5681 &  5511 & 2 & 2 & 2 & 2 & 2 & 2 & ⋯ & 0.9705882 & 0.029411765 & 24 & 0 & 1 & 0 & 48 &  0 & 1 & 0\\\\\n",
       "\t6 & 6904 & Contig81225  & 6904 & 40805 & 2 & 2 & 2 & 2 & 2 & 2 & ⋯ & 0.9632353 & 0.036764706 & 24 & 0 & 1 & 0 & 48 &  0 & 1 & 0\\\\\n",
       "\t7 & 5307 & Contig61890  & 5307 & 14408 & 2 & 2 & 2 & 2 & 2 & 2 & ⋯ & 0.9485294 & 0.051470588 & 24 & 0 & 1 & 0 & 48 &  0 & 1 & 0\\\\\n",
       "\t8 & 9263 & Contig181768 & 9263 &  2545 & 2 & 2 & 2 & 2 & 2 & 2 & ⋯ & 0.9485294 & 0.051470588 & 24 & 0 & 1 & 0 & 48 &  0 & 1 & 0\\\\\n",
       "\t9 &  671 & Contig2245   &  671 & 11403 & 2 & 2 & 2 & 2 & 2 & 2 & ⋯ & 0.9411765 & 0.058823529 & 24 & 0 & 1 & 0 & 48 &  0 & 1 & 0\\\\\n",
       "\t10 &  711 & Contig2245   &  711 & 13610 & 2 & 2 & 2 & 2 & 2 & 2 & ⋯ & 0.9411765 & 0.058823529 & 24 & 0 & 1 & 0 & 48 &  0 & 1 & 0\\\\\n",
       "\t11 & 1465 & Contig7286   & 1465 &  5777 & 2 & 2 & 2 & 2 & 2 & 2 & ⋯ & 0.9411765 & 0.058823529 & 24 & 0 & 1 & 0 & 48 &  0 & 1 & 0\\\\\n",
       "\t12 & 5939 & Contig76495  & 5939 &  8850 & 2 & 2 & 2 & 2 & 2 & 2 & ⋯ & 0.9411765 & 0.058823529 & 24 & 0 & 1 & 0 & 48 &  0 & 1 & 0\\\\\n",
       "\t13 & 6144 & Contig76495  & 6144 & 15506 & 2 & 2 & 2 & 2 & 2 & 2 & ⋯ & 0.9411765 & 0.058823529 & 24 & 0 & 1 & 0 & 48 &  0 & 1 & 0\\\\\n",
       "\t14 & 8991 & Contig128971 & 8991 & 18346 & 2 & 2 & 2 & 2 & 2 & 2 & ⋯ & 0.9411765 & 0.058823529 & 24 & 0 & 1 & 0 & 48 &  0 & 1 & 0\\\\\n",
       "\t15 & 8534 & Contig108528 & 8534 &  2299 & 2 & 2 & 2 & 2 & 2 & 2 & ⋯ & 0.9338235 & 0.066176471 & 24 & 0 & 1 & 0 & 48 &  0 & 1 & 0\\\\\n",
       "\t16 & 4410 & Contig60406  & 4410 &  1866 & 2 & 2 & 2 & 2 & 2 & 2 & ⋯ & 0.9191176 & 0.080882353 & 24 & 0 & 1 & 0 & 48 &  0 & 1 & 0\\\\\n",
       "\t17 & 2738 & Contig47979  & 2738 & 10949 & 2 & 2 & 2 & 2 & 2 & 2 & ⋯ & 0.8897059 & 0.110294118 & 24 & 0 & 1 & 0 & 48 &  0 & 1 & 0\\\\\n",
       "\t18 & 6819 & Contig81225  & 6819 & 31416 & 2 & 2 & 2 & 2 & 2 & 2 & ⋯ & 0.8750000 & 0.125000000 & 24 & 0 & 1 & 0 & 48 &  0 & 1 & 0\\\\\n",
       "\t19 & 5849 & Contig76495  & 5849 &  2431 & 2 & 2 & 2 & 2 & 2 & 2 & ⋯ & 0.8750000 & 0.125000000 & 24 & 0 & 1 & 0 &  0 & 48 & 0 & 1\\\\\n",
       "\t20 & 7392 & Contig81225  & 7392 & 74500 & 2 & 2 & 2 & 2 & 2 & 2 & ⋯ & 0.8602941 & 0.139705882 & 24 & 0 & 1 & 0 & 48 &  0 & 1 & 0\\\\\n",
       "\\end{tabular}\n"
      ],
      "text/markdown": [
       "\n",
       "A data.frame: 20 × 132\n",
       "\n",
       "| <!--/--> | entry_order &lt;int&gt; | contig &lt;chr&gt; | cont &lt;int&gt; | site &lt;int&gt; | SP_1 &lt;int&gt; | SP_2 &lt;int&gt; | SP_3 &lt;int&gt; | SP_4 &lt;int&gt; | SP_5 &lt;int&gt; | SP_6 &lt;int&gt; | ⋯ ⋯ | p_alt_north &lt;dbl&gt; | p_ref_north &lt;dbl&gt; | alt_count_spain &lt;dbl&gt; | ref_count_spain &lt;dbl&gt; | p_alt_spain &lt;dbl&gt; | p_ref_spain &lt;dbl&gt; | alt_count_arc &lt;dbl&gt; | ref_count_arc &lt;dbl&gt; | p_alt_arc &lt;dbl&gt; | p_ref_arc &lt;dbl&gt; |\n",
       "|---|---|---|---|---|---|---|---|---|---|---|---|---|---|---|---|---|---|---|---|---|---|\n",
       "| 1 | 1312 | Contig3970   | 1312 |   483 | 2 | 2 | 2 | 2 | 2 | 2 | ⋯ | 0.9926471 | 0.007352941 | 24 | 0 | 1 | 0 | 48 |  0 | 1 | 0 |\n",
       "| 2 | 1381 | Contig3970   | 1381 |  1863 | 2 | 2 | 2 | 2 | 2 | 2 | ⋯ | 0.9926471 | 0.007352941 | 24 | 0 | 1 | 0 | 48 |  0 | 1 | 0 |\n",
       "| 3 | 2461 | Contig43562  | 2461 | 39372 | 2 | 2 | 2 | 2 | 2 | 2 | ⋯ | 0.9926471 | 0.007352941 | 24 | 0 | 1 | 0 | 48 |  0 | 1 | 0 |\n",
       "| 4 | 9073 | Contig173651 | 9073 |  2208 | 2 | 2 | 2 | 2 | 2 | 2 | ⋯ | 0.9926471 | 0.007352941 | 24 | 0 | 1 | 0 | 48 |  0 | 1 | 0 |\n",
       "| 5 | 5681 | Contig67554  | 5681 |  5511 | 2 | 2 | 2 | 2 | 2 | 2 | ⋯ | 0.9705882 | 0.029411765 | 24 | 0 | 1 | 0 | 48 |  0 | 1 | 0 |\n",
       "| 6 | 6904 | Contig81225  | 6904 | 40805 | 2 | 2 | 2 | 2 | 2 | 2 | ⋯ | 0.9632353 | 0.036764706 | 24 | 0 | 1 | 0 | 48 |  0 | 1 | 0 |\n",
       "| 7 | 5307 | Contig61890  | 5307 | 14408 | 2 | 2 | 2 | 2 | 2 | 2 | ⋯ | 0.9485294 | 0.051470588 | 24 | 0 | 1 | 0 | 48 |  0 | 1 | 0 |\n",
       "| 8 | 9263 | Contig181768 | 9263 |  2545 | 2 | 2 | 2 | 2 | 2 | 2 | ⋯ | 0.9485294 | 0.051470588 | 24 | 0 | 1 | 0 | 48 |  0 | 1 | 0 |\n",
       "| 9 |  671 | Contig2245   |  671 | 11403 | 2 | 2 | 2 | 2 | 2 | 2 | ⋯ | 0.9411765 | 0.058823529 | 24 | 0 | 1 | 0 | 48 |  0 | 1 | 0 |\n",
       "| 10 |  711 | Contig2245   |  711 | 13610 | 2 | 2 | 2 | 2 | 2 | 2 | ⋯ | 0.9411765 | 0.058823529 | 24 | 0 | 1 | 0 | 48 |  0 | 1 | 0 |\n",
       "| 11 | 1465 | Contig7286   | 1465 |  5777 | 2 | 2 | 2 | 2 | 2 | 2 | ⋯ | 0.9411765 | 0.058823529 | 24 | 0 | 1 | 0 | 48 |  0 | 1 | 0 |\n",
       "| 12 | 5939 | Contig76495  | 5939 |  8850 | 2 | 2 | 2 | 2 | 2 | 2 | ⋯ | 0.9411765 | 0.058823529 | 24 | 0 | 1 | 0 | 48 |  0 | 1 | 0 |\n",
       "| 13 | 6144 | Contig76495  | 6144 | 15506 | 2 | 2 | 2 | 2 | 2 | 2 | ⋯ | 0.9411765 | 0.058823529 | 24 | 0 | 1 | 0 | 48 |  0 | 1 | 0 |\n",
       "| 14 | 8991 | Contig128971 | 8991 | 18346 | 2 | 2 | 2 | 2 | 2 | 2 | ⋯ | 0.9411765 | 0.058823529 | 24 | 0 | 1 | 0 | 48 |  0 | 1 | 0 |\n",
       "| 15 | 8534 | Contig108528 | 8534 |  2299 | 2 | 2 | 2 | 2 | 2 | 2 | ⋯ | 0.9338235 | 0.066176471 | 24 | 0 | 1 | 0 | 48 |  0 | 1 | 0 |\n",
       "| 16 | 4410 | Contig60406  | 4410 |  1866 | 2 | 2 | 2 | 2 | 2 | 2 | ⋯ | 0.9191176 | 0.080882353 | 24 | 0 | 1 | 0 | 48 |  0 | 1 | 0 |\n",
       "| 17 | 2738 | Contig47979  | 2738 | 10949 | 2 | 2 | 2 | 2 | 2 | 2 | ⋯ | 0.8897059 | 0.110294118 | 24 | 0 | 1 | 0 | 48 |  0 | 1 | 0 |\n",
       "| 18 | 6819 | Contig81225  | 6819 | 31416 | 2 | 2 | 2 | 2 | 2 | 2 | ⋯ | 0.8750000 | 0.125000000 | 24 | 0 | 1 | 0 | 48 |  0 | 1 | 0 |\n",
       "| 19 | 5849 | Contig76495  | 5849 |  2431 | 2 | 2 | 2 | 2 | 2 | 2 | ⋯ | 0.8750000 | 0.125000000 | 24 | 0 | 1 | 0 |  0 | 48 | 0 | 1 |\n",
       "| 20 | 7392 | Contig81225  | 7392 | 74500 | 2 | 2 | 2 | 2 | 2 | 2 | ⋯ | 0.8602941 | 0.139705882 | 24 | 0 | 1 | 0 | 48 |  0 | 1 | 0 |\n",
       "\n"
      ],
      "text/plain": [
       "   entry_order contig       cont site  SP_1 SP_2 SP_3 SP_4 SP_5 SP_6 ⋯\n",
       "1  1312        Contig3970   1312   483 2    2    2    2    2    2    ⋯\n",
       "2  1381        Contig3970   1381  1863 2    2    2    2    2    2    ⋯\n",
       "3  2461        Contig43562  2461 39372 2    2    2    2    2    2    ⋯\n",
       "4  9073        Contig173651 9073  2208 2    2    2    2    2    2    ⋯\n",
       "5  5681        Contig67554  5681  5511 2    2    2    2    2    2    ⋯\n",
       "6  6904        Contig81225  6904 40805 2    2    2    2    2    2    ⋯\n",
       "7  5307        Contig61890  5307 14408 2    2    2    2    2    2    ⋯\n",
       "8  9263        Contig181768 9263  2545 2    2    2    2    2    2    ⋯\n",
       "9   671        Contig2245    671 11403 2    2    2    2    2    2    ⋯\n",
       "10  711        Contig2245    711 13610 2    2    2    2    2    2    ⋯\n",
       "11 1465        Contig7286   1465  5777 2    2    2    2    2    2    ⋯\n",
       "12 5939        Contig76495  5939  8850 2    2    2    2    2    2    ⋯\n",
       "13 6144        Contig76495  6144 15506 2    2    2    2    2    2    ⋯\n",
       "14 8991        Contig128971 8991 18346 2    2    2    2    2    2    ⋯\n",
       "15 8534        Contig108528 8534  2299 2    2    2    2    2    2    ⋯\n",
       "16 4410        Contig60406  4410  1866 2    2    2    2    2    2    ⋯\n",
       "17 2738        Contig47979  2738 10949 2    2    2    2    2    2    ⋯\n",
       "18 6819        Contig81225  6819 31416 2    2    2    2    2    2    ⋯\n",
       "19 5849        Contig76495  5849  2431 2    2    2    2    2    2    ⋯\n",
       "20 7392        Contig81225  7392 74500 2    2    2    2    2    2    ⋯\n",
       "   p_alt_north p_ref_north alt_count_spain ref_count_spain p_alt_spain\n",
       "1  0.9926471   0.007352941 24              0               1          \n",
       "2  0.9926471   0.007352941 24              0               1          \n",
       "3  0.9926471   0.007352941 24              0               1          \n",
       "4  0.9926471   0.007352941 24              0               1          \n",
       "5  0.9705882   0.029411765 24              0               1          \n",
       "6  0.9632353   0.036764706 24              0               1          \n",
       "7  0.9485294   0.051470588 24              0               1          \n",
       "8  0.9485294   0.051470588 24              0               1          \n",
       "9  0.9411765   0.058823529 24              0               1          \n",
       "10 0.9411765   0.058823529 24              0               1          \n",
       "11 0.9411765   0.058823529 24              0               1          \n",
       "12 0.9411765   0.058823529 24              0               1          \n",
       "13 0.9411765   0.058823529 24              0               1          \n",
       "14 0.9411765   0.058823529 24              0               1          \n",
       "15 0.9338235   0.066176471 24              0               1          \n",
       "16 0.9191176   0.080882353 24              0               1          \n",
       "17 0.8897059   0.110294118 24              0               1          \n",
       "18 0.8750000   0.125000000 24              0               1          \n",
       "19 0.8750000   0.125000000 24              0               1          \n",
       "20 0.8602941   0.139705882 24              0               1          \n",
       "   p_ref_spain alt_count_arc ref_count_arc p_alt_arc p_ref_arc\n",
       "1  0           48             0            1         0        \n",
       "2  0           48             0            1         0        \n",
       "3  0           48             0            1         0        \n",
       "4  0           48             0            1         0        \n",
       "5  0           48             0            1         0        \n",
       "6  0           48             0            1         0        \n",
       "7  0           48             0            1         0        \n",
       "8  0           48             0            1         0        \n",
       "9  0           48             0            1         0        \n",
       "10 0           48             0            1         0        \n",
       "11 0           48             0            1         0        \n",
       "12 0           48             0            1         0        \n",
       "13 0           48             0            1         0        \n",
       "14 0           48             0            1         0        \n",
       "15 0           48             0            1         0        \n",
       "16 0           48             0            1         0        \n",
       "17 0           48             0            1         0        \n",
       "18 0           48             0            1         0        \n",
       "19 0            0            48            0         1        \n",
       "20 0           48             0            1         0        "
      ]
     },
     "metadata": {},
     "output_type": "display_data"
    }
   ],
   "source": [
    "## egg-layers\n",
    "data <- data %>% mutate(alt_count_egg = rowSums(.[85:112]))\n",
    "data <- data %>% mutate(ref_count_egg = 2*n_egg - rowSums(.[85:112]))\n",
    "data <- data %>% mutate(p_alt_egg = alt_count_egg/(2*n_egg))\n",
    "data <- data %>% mutate(p_ref_egg = ref_count_egg/(2*n_egg))\n",
    "## brooders \n",
    "data <- data %>% mutate(alt_count_brood = rowSums(.[5:84]))\n",
    "data <- data %>% mutate(ref_count_brood = 2*n_brood - rowSums(.[5:84]))\n",
    "data <- data %>% mutate(p_alt_brood = alt_count_brood/(2*n_brood))\n",
    "data <- data %>% mutate(p_ref_brood = ref_count_brood/(2*n_brood))\n",
    "## north \n",
    "data <- data %>% mutate(alt_count_north = rowSums(.[17:84]))\n",
    "data <- data %>% mutate(ref_count_north = 2*n_north - rowSums(.[17:84]))\n",
    "data <- data %>% mutate(p_alt_north = alt_count_north/(2*n_north))\n",
    "data <- data %>% mutate(p_ref_north = ref_count_north/(2*n_north))\n",
    "## spain\n",
    "data <- data %>% mutate(alt_count_spain = rowSums(.[5:16]))\n",
    "data <- data %>% mutate(ref_count_spain = 2*n_spain - rowSums(.[5:16]))\n",
    "data <- data %>% mutate(p_alt_spain = alt_count_spain/(2*n_spain))\n",
    "data <- data %>% mutate(p_ref_spain = ref_count_spain/(2*n_spain))\n",
    "## arcana\n",
    "data <- data %>% mutate(alt_count_arc = rowSums(.[85:108]))\n",
    "data <- data %>% mutate(ref_count_arc = 2*n_arc - rowSums(.[85:108]))\n",
    "data <- data %>% mutate(p_alt_arc = alt_count_arc/(2*n_arc))\n",
    "data <- data %>% mutate(p_ref_arc = ref_count_arc/(2*n_arc))\n",
    "\n",
    "head(data,20)"
   ]
  },
  {
   "cell_type": "code",
   "execution_count": 31,
   "id": "81535f91",
   "metadata": {},
   "outputs": [],
   "source": [
    "## for each locus we may as well just calucate the minor count for egg and brood as we will need these later\n",
    "data <- data %>% rowwise() %>% mutate(minor_count_egg = min(alt_count_egg,ref_count_egg))\n",
    "data <- data %>% rowwise() %>% mutate(minor_count_brood = min(alt_count_brood,ref_count_brood))\n",
    "data <- data %>% rowwise() %>% mutate(minor_count_north = min(alt_count_north,ref_count_north))\n",
    "data <- data %>% rowwise() %>% mutate(minor_count_spain = min(alt_count_spain,ref_count_spain))\n",
    "data <- data %>% rowwise() %>% mutate(minor_count_arc = min(alt_count_arc,ref_count_arc))"
   ]
  },
  {
   "cell_type": "markdown",
   "id": "13797500",
   "metadata": {},
   "source": [
    "## Identifying private alleles"
   ]
  },
  {
   "cell_type": "markdown",
   "id": "5ebfb80d",
   "metadata": {},
   "source": [
    "Now that we have the counts of alleles for the brooders and egglayers, we can identify aleles that are private to one of the groups (either egg-layers or brooders). "
   ]
  },
  {
   "cell_type": "code",
   "execution_count": 32,
   "id": "bedf3d34",
   "metadata": {},
   "outputs": [],
   "source": [
    "data <- data %>% mutate(priv_in = case_when(\n",
    "                           p_alt_egg ==1 & p_alt_brood==0 ~ 'fixed',\n",
    "                           p_alt_egg ==0 & p_alt_brood==1 ~ 'fixed',\n",
    "                           p_alt_egg > 0 & p_ref_egg > 0 & p_alt_brood > 0 & p_ref_brood > 0 ~ 'shared',\n",
    "                           p_alt_egg == 0 & p_alt_brood > 0 & p_alt_brood < 1 ~ 'brood',\n",
    "                           p_ref_egg == 0 & p_ref_brood > 0 & p_ref_brood < 1~ 'brood',\n",
    "                           p_alt_brood == 0 & p_alt_egg > 0 & p_alt_egg < 1 ~ 'egg',\n",
    "                           p_ref_brood == 0 & p_ref_egg > 0 & p_alt_egg < 1 ~ 'egg'))\n"
   ]
  },
  {
   "cell_type": "code",
   "execution_count": 33,
   "id": "02e99fa5",
   "metadata": {},
   "outputs": [],
   "source": [
    "write.csv(data,\"012_with_pvt.csv\")"
   ]
  },
  {
   "cell_type": "markdown",
   "id": "650c5f38",
   "metadata": {},
   "source": [
    "And here are the counts of private alleles in egg-layers and broorders, as well as the fixed diffrences and number of loci where both alleles are shared between the groups."
   ]
  },
  {
   "cell_type": "code",
   "execution_count": 34,
   "id": "76bbe3b3",
   "metadata": {},
   "outputs": [
    {
     "data": {
      "text/plain": [
       "\n",
       " brood    egg  fixed shared \n",
       "  3734   4715    269    761 "
      ]
     },
     "metadata": {},
     "output_type": "display_data"
    }
   ],
   "source": [
    "table(data$priv_in)"
   ]
  },
  {
   "cell_type": "markdown",
   "id": "8e87ec60",
   "metadata": {},
   "source": [
    "### Obtianing the foldded sfs for the egg layers and brooders"
   ]
  },
  {
   "cell_type": "code",
   "execution_count": 35,
   "id": "aec22de3",
   "metadata": {},
   "outputs": [
    {
     "data": {
      "text/html": [
       "-0.241088304370185"
      ],
      "text/latex": [
       "-0.241088304370185"
      ],
      "text/markdown": [
       "-0.241088304370185"
      ],
      "text/plain": [
       "[1] -0.2410883"
      ]
     },
     "metadata": {},
     "output_type": "display_data"
    }
   ],
   "source": [
    "## So here we are just computing a histogram of the minor allele counts for the group exlucing the monomorphic sites\n",
    "egg.hist.info <- hist(data$minor_count_egg[data$minor_count_egg > 0],  breaks = seq(0, n_egg, length.out = n_egg+1), plot=FALSE)\n",
    "eggSFS <- as.vector(egg.hist.info$counts)\n",
    "eggTotal <- sum(eggSFS)\n",
    "\n",
    "propEgg <- c()\n",
    "seq <- c(1:n_egg)\n",
    "for (i in seq){\n",
    "   temp <-eggSFS[i]/eggTotal\n",
    "propEgg[i]<-temp\n",
    "}\n",
    "## tajimas D\n",
    "tajEgg <- TajimaD(eggSFS)\n",
    "tajEgg\n"
   ]
  },
  {
   "cell_type": "code",
   "execution_count": 36,
   "id": "ff90d357",
   "metadata": {},
   "outputs": [
    {
     "data": {
      "text/html": [
       "-1.89257856307759"
      ],
      "text/latex": [
       "-1.89257856307759"
      ],
      "text/markdown": [
       "-1.89257856307759"
      ],
      "text/plain": [
       "[1] -1.892579"
      ]
     },
     "metadata": {},
     "output_type": "display_data"
    }
   ],
   "source": [
    "## same for brooders\n",
    "brood.hist.info <- hist(data$minor_count_brood[data$minor_count_brood > 0],  breaks = seq(0, n_brood, length.out = n_brood+1),plot=FALSE)\n",
    "broodSFS <- as.vector(brood.hist.info$counts)\n",
    "broodTotal <- sum(broodSFS)\n",
    "\n",
    "propBrood <- c()\n",
    "seq <- c(1:n_brood)\n",
    "for (i in seq){\n",
    "   temp <-broodSFS[i]/broodTotal\n",
    "propBrood[i]<-temp\n",
    "}\n",
    "\n",
    "tajBrood <- TajimaD(broodSFS)\n",
    "tajBrood\n"
   ]
  },
  {
   "cell_type": "code",
   "execution_count": 37,
   "id": "7a7722c6",
   "metadata": {},
   "outputs": [
    {
     "data": {
      "text/html": [
       "-1.74703161448074"
      ],
      "text/latex": [
       "-1.74703161448074"
      ],
      "text/markdown": [
       "-1.74703161448074"
      ],
      "text/plain": [
       "[1] -1.747032"
      ]
     },
     "metadata": {},
     "output_type": "display_data"
    }
   ],
   "source": [
    "## now north\n",
    "north.hist.info <- hist(data$minor_count_north[data$minor_count_north > 0],  breaks = seq(0, n_north, length.out = n_north+1),,plot=FALSE)\n",
    "northSFS <- as.vector(north.hist.info$counts)\n",
    "northTotal <- sum(northSFS)\n",
    "\n",
    "propNorth <- c()\n",
    "seq <- c(1:n_north)\n",
    "for (i in seq){\n",
    "   temp <-northSFS[i]/northTotal\n",
    "propNorth[i]<-temp\n",
    "}\n",
    "\n",
    "tajNorth <- TajimaD(northSFS)\n",
    "tajNorth\n"
   ]
  },
  {
   "cell_type": "code",
   "execution_count": 38,
   "id": "57308acb",
   "metadata": {},
   "outputs": [
    {
     "data": {
      "text/html": [
       "-0.589612745535338"
      ],
      "text/latex": [
       "-0.589612745535338"
      ],
      "text/markdown": [
       "-0.589612745535338"
      ],
      "text/plain": [
       "[1] -0.5896127"
      ]
     },
     "metadata": {},
     "output_type": "display_data"
    }
   ],
   "source": [
    "## and spain \n",
    "spain.hist.info <- hist(data$minor_count_spain[data$minor_count_spain > 0],  breaks = seq(0, n_spain, length.out = n_spain+1),,plot=FALSE)\n",
    "spainSFS <- as.vector(spain.hist.info$counts)\n",
    "spainTotal <- sum(spainSFS)\n",
    "\n",
    "propSpain <- c()\n",
    "seq <- c(1:n_spain)\n",
    "for (i in seq){\n",
    "   temp <-spainSFS[i]/spainTotal\n",
    "propSpain[i]<-temp\n",
    "}\n",
    "\n",
    "tajSpain <- TajimaD(spainSFS)\n",
    "tajSpain"
   ]
  },
  {
   "cell_type": "code",
   "execution_count": 39,
   "id": "a04bfd86",
   "metadata": {},
   "outputs": [
    {
     "data": {
      "text/html": [
       "0.0367080487007652"
      ],
      "text/latex": [
       "0.0367080487007652"
      ],
      "text/markdown": [
       "0.0367080487007652"
      ],
      "text/plain": [
       "[1] 0.03670805"
      ]
     },
     "metadata": {},
     "output_type": "display_data"
    }
   ],
   "source": [
    "## and arc\n",
    "arc.hist.info <- hist(data$minor_count_arc[data$minor_count_arc > 0],  breaks = seq(0, n_arc, length.out = n_arc+1),,plot=FALSE)\n",
    "arcSFS <- as.vector(arc.hist.info$counts)\n",
    "arcTotal <- sum(arcSFS)\n",
    "\n",
    "propArc <- c()\n",
    "seq <- c(1:n_arc)\n",
    "for (i in seq){\n",
    "   temp <-arcSFS[i]/arcTotal\n",
    "propArc[i]<-temp\n",
    "}\n",
    "\n",
    "tajArc <- TajimaD(arcSFS)\n",
    "tajArc"
   ]
  },
  {
   "cell_type": "code",
   "execution_count": 14,
   "id": "d0731029",
   "metadata": {},
   "outputs": [
    {
     "data": {
      "text/html": [
       "<strong>pdf:</strong> 2"
      ],
      "text/latex": [
       "\\textbf{pdf:} 2"
      ],
      "text/markdown": [
       "**pdf:** 2"
      ],
      "text/plain": [
       "pdf \n",
       "  2 "
      ]
     },
     "metadata": {},
     "output_type": "display_data"
    }
   ],
   "source": [
    "### make a plot of all four spectra\n",
    "#Open a pdf file\n",
    "pdf(\"brood_egg_full_spectra.pdf\", width = 10, height = 10) \n",
    "par(mfrow=c(2,2))\n",
    "barplot(propEgg, ylim=c(0,0.5), beside = TRUE)\n",
    "barplot(propBrood, ylim=c(0,0.5), beside = TRUE)\n",
    "barplot(propNorth, ylim=c(0,0.5), beside = TRUE)\n",
    "barplot(propSpain, ylim=c(0,0.5), beside = TRUE)\n",
    "#Close the pdf file\n",
    "dev.off() "
   ]
  },
  {
   "cell_type": "markdown",
   "id": "23e1b5f5",
   "metadata": {},
   "source": [
    "## Jackknifing estimates of Tajima's D"
   ]
  },
  {
   "cell_type": "markdown",
   "id": "d70e02e4",
   "metadata": {},
   "source": [
    "We will now obtain estimates of the variance in Tajima's D by Jackknifing for each group. This involves calculating Tajima's  "
   ]
  },
  {
   "cell_type": "code",
   "execution_count": 58,
   "id": "1c220e62",
   "metadata": {},
   "outputs": [
    {
     "data": {
      "text/plain": [
       "Time difference of 1.713341 secs"
      ]
     },
     "metadata": {},
     "output_type": "display_data"
    },
    {
     "data": {
      "text/html": [
       "0.104722501238809"
      ],
      "text/latex": [
       "0.104722501238809"
      ],
      "text/markdown": [
       "0.104722501238809"
      ],
      "text/plain": [
       "[1] 0.1047225"
      ]
     },
     "metadata": {},
     "output_type": "display_data"
    },
    {
     "data": {
      "text/html": [
       "-0.237209693213192"
      ],
      "text/latex": [
       "-0.237209693213192"
      ],
      "text/markdown": [
       "-0.237209693213192"
      ],
      "text/plain": [
       "[1] -0.2372097"
      ]
     },
     "metadata": {},
     "output_type": "display_data"
    },
    {
     "data": {
      "text/html": [
       "0.102024733976238"
      ],
      "text/latex": [
       "0.102024733976238"
      ],
      "text/markdown": [
       "0.102024733976238"
      ],
      "text/plain": [
       "[1] 0.1020247"
      ]
     },
     "metadata": {},
     "output_type": "display_data"
    },
    {
     "data": {
      "text/html": [
       "-0.037241214619765"
      ],
      "text/latex": [
       "-0.037241214619765"
      ],
      "text/markdown": [
       "-0.037241214619765"
      ],
      "text/plain": [
       "[1] -0.03724121"
      ]
     },
     "metadata": {},
     "output_type": "display_data"
    },
    {
     "data": {
      "text/html": [
       "-0.437178171806618"
      ],
      "text/latex": [
       "-0.437178171806618"
      ],
      "text/markdown": [
       "-0.437178171806618"
      ],
      "text/plain": [
       "[1] -0.4371782"
      ]
     },
     "metadata": {},
     "output_type": "display_data"
    },
    {
     "data": {
      "image/png": "[encoded data removed]",
      "text/plain": [
       "Plot with title “Histogram of jackknife_egg_tajimaD”"
      ]
     },
     "metadata": {
      "image/png": {
       "height": 420,
       "width": 420
      }
     },
     "output_type": "display_data"
    }
   ],
   "source": [
    "### egg-layers first\n",
    "start.time <- Sys.time()\n",
    "### start with empty vectors to catch variables\n",
    "jackknife_egg_tajimaD <- c()\n",
    "### set number of terms\n",
    "\n",
    "for(i in 1:n_egg){\n",
    "### grab the egglayers \n",
    "egg_layers <- data[85:112]\n",
    "egg_down_sample <-as.data.frame(egg_layers[-i])\n",
    "    \n",
    "### calculate allele counts and proportions\n",
    "egg_down_sample <- egg_down_sample %>% mutate(alt_count = rowSums(.[1:27]))\n",
    "egg_down_sample <- egg_down_sample %>% mutate(ref_count = (54) - rowSums(.[1:27]))\n",
    "egg_down_sample <- egg_down_sample %>% mutate(p_alt = alt_count/(54))\n",
    "egg_down_sample <- egg_down_sample %>% mutate(p_ref = ref_count/(54))\n",
    "\n",
    "## and the minor counts\n",
    "egg_down_sample <- egg_down_sample %>% rowwise() %>% mutate(minor_count = min(alt_count,ref_count))\n",
    "\n",
    "### produce folded sfs and calc Tajima's D\n",
    "temp_hist <- hist(egg_down_sample$minor_count[egg_down_sample$minor_count > 0], breaks = seq(0, 27, length.out = 28),plot=FALSE)\n",
    "tempSFS <- as.vector(temp_hist$counts)\n",
    "temp_tajima <- TajimaD(tempSFS)\n",
    "jackknife_egg_tajimaD[i] <- temp_tajima\n",
    "}\n",
    "### \n",
    "end.time <- Sys.time()\n",
    "time.taken <- end.time - start.time\n",
    "time.taken\n",
    "\n",
    "mean.jack.egg <- mean(jackknife_egg_tajimaD)          ##### jacknife mean\n",
    "bias <- (n_egg-1)*(mean.jack.egg-tajEgg)    ### bias\n",
    "jack.SE <- sqrt(((n_egg-1)/n_egg) * sum((jackknife_egg_tajimaD-mean.jack.egg)^2)) ## SE\n",
    "upper_95egg <- mean.jack.egg + jack.SE*1.96 ## upper 95\n",
    "lower_95egg <- mean.jack.egg - jack.SE*1.96 ## lower 95\n",
    "\n",
    "hist(jackknife_egg_tajimaD, breaks=5, xlim=c(-0.5,0))\n",
    "abline(v=mean(jackknife_egg_tajimaD), col=\"red\",lwd=2)\n",
    "abline(v=tajEgg, col=\"blue\",lwd=2)\n",
    "abline(v=upper_95egg,col=\"purple\",lwd=2)\n",
    "abline(v=lower_95egg,col=\"purple\",lwd=2)\n",
    "\n",
    "bias\n",
    "mean.jack.egg\n",
    "jack.SE\n",
    "upper_95egg\n",
    "lower_95egg"
   ]
  },
  {
   "cell_type": "code",
   "execution_count": 66,
   "id": "20d308d7",
   "metadata": {},
   "outputs": [
    {
     "data": {
      "text/plain": [
       "Time difference of 1.496626 secs"
      ]
     },
     "metadata": {},
     "output_type": "display_data"
    },
    {
     "data": {
      "text/html": [
       "0.0374508615494044"
      ],
      "text/latex": [
       "0.0374508615494044"
      ],
      "text/markdown": [
       "0.0374508615494044"
      ],
      "text/plain": [
       "[1] 0.03745086"
      ]
     },
     "metadata": {},
     "output_type": "display_data"
    },
    {
     "data": {
      "text/html": [
       "0.0383363470290002"
      ],
      "text/latex": [
       "0.0383363470290002"
      ],
      "text/markdown": [
       "0.0383363470290002"
      ],
      "text/plain": [
       "[1] 0.03833635"
      ]
     },
     "metadata": {},
     "output_type": "display_data"
    },
    {
     "data": {
      "text/html": [
       "0.12258824625956"
      ],
      "text/latex": [
       "0.12258824625956"
      ],
      "text/markdown": [
       "0.12258824625956"
      ],
      "text/plain": [
       "[1] 0.1225882"
      ]
     },
     "metadata": {},
     "output_type": "display_data"
    },
    {
     "data": {
      "text/html": [
       "0.278609309697737"
      ],
      "text/latex": [
       "0.278609309697737"
      ],
      "text/markdown": [
       "0.278609309697737"
      ],
      "text/plain": [
       "[1] 0.2786093"
      ]
     },
     "metadata": {},
     "output_type": "display_data"
    },
    {
     "data": {
      "text/html": [
       "-0.201936615639737"
      ],
      "text/latex": [
       "-0.201936615639737"
      ],
      "text/markdown": [
       "-0.201936615639737"
      ],
      "text/plain": [
       "[1] -0.2019366"
      ]
     },
     "metadata": {},
     "output_type": "display_data"
    },
    {
     "data": {
      "image/png": "[encoded data removed]",
      "text/plain": [
       "Plot with title “Histogram of jackknife_arc_tajimaD”"
      ]
     },
     "metadata": {
      "image/png": {
       "height": 420,
       "width": 420
      }
     },
     "output_type": "display_data"
    }
   ],
   "source": [
    "### arc\n",
    "start.time <- Sys.time()\n",
    "### start with empty vectors to catch variables\n",
    "jackknife_arc_tajimaD <- c()\n",
    "### set number of terms\n",
    "for(i in 1:n_arc){\n",
    "### grab the egglayers \n",
    "arc <- data[85:108]\n",
    "arc_down_sample <-as.data.frame(arc[-i])\n",
    "    \n",
    "### calculate allele counts and proportions\n",
    "arc_down_sample <- arc_down_sample %>% mutate(alt_count = rowSums(.[1:23]))\n",
    "arc_down_sample <- arc_down_sample %>% mutate(ref_count = (46) - rowSums(.[1:23]))\n",
    "arc_down_sample <- arc_down_sample %>% mutate(p_alt = alt_count/(46))\n",
    "arc_down_sample <- arc_down_sample %>% mutate(p_ref = ref_count/(46))\n",
    "\n",
    "## and the minor counts\n",
    "arc_down_sample <- arc_down_sample %>% rowwise() %>% mutate(minor_count = min(alt_count,ref_count))\n",
    "\n",
    "### produce folded sfs and calc Tajima's D\n",
    "temp_hist <- hist(arc_down_sample$minor_count[arc_down_sample$minor_count > 0], breaks = seq(0, 23, length.out = 24),plot=FALSE)\n",
    "tempSFS <- as.vector(temp_hist$counts)\n",
    "temp_tajima <- TajimaD(tempSFS)\n",
    "jackknife_arc_tajimaD[i] <- temp_tajima\n",
    "}\n",
    "### \n",
    "end.time <- Sys.time()\n",
    "time.taken <- end.time - start.time\n",
    "time.taken\n",
    "\n",
    "mean.jack.arc <- mean(jackknife_arc_tajimaD)          ##### jacknife mean\n",
    "bias <- (n_arc-1)*(mean.jack.arc-tajArc)    ### bias\n",
    "jack.SE <- sqrt(((n_arc-1)/n_arc) * sum((jackknife_arc_tajimaD-mean.jack.arc)^2)) ## SE\n",
    "upper_95arc <- mean.jack.arc + jack.SE*1.96 ## upper 95\n",
    "lower_95arc <- mean.jack.arc - jack.SE*1.96 ## lower 95\n",
    "\n",
    "hist(jackknife_arc_tajimaD, breaks=5, xlim=c(-0.5,0.5))\n",
    "abline(v=mean(jackknife_arc_tajimaD), col=\"red\",lwd=2)\n",
    "abline(v=tajArc, col=\"blue\",lwd=2)\n",
    "abline(v=upper_95arc,col=\"purple\",lwd=2)\n",
    "abline(v=lower_95arc,col=\"purple\",lwd=2)\n",
    "\n",
    "bias\n",
    "mean.jack.arc\n",
    "jack.SE\n",
    "upper_95arc\n",
    "lower_95arc\n",
    "\n",
    "    \n"
   ]
  },
  {
   "cell_type": "code",
   "execution_count": 60,
   "id": "987add90",
   "metadata": {},
   "outputs": [
    {
     "data": {
      "text/plain": [
       "Time difference of 5.609497 secs"
      ]
     },
     "metadata": {},
     "output_type": "display_data"
    },
    {
     "data": {
      "text/html": [
       "-1.88874779506361"
      ],
      "text/latex": [
       "-1.88874779506361"
      ],
      "text/markdown": [
       "-1.88874779506361"
      ],
      "text/plain": [
       "[1] -1.888748"
      ]
     },
     "metadata": {},
     "output_type": "display_data"
    },
    {
     "data": {
      "text/html": [
       "0.302630673104768"
      ],
      "text/latex": [
       "0.302630673104768"
      ],
      "text/markdown": [
       "0.302630673104768"
      ],
      "text/plain": [
       "[1] 0.3026307"
      ]
     },
     "metadata": {},
     "output_type": "display_data"
    },
    {
     "data": {
      "text/html": [
       "0.0605383134429639"
      ],
      "text/latex": [
       "0.0605383134429639"
      ],
      "text/markdown": [
       "0.0605383134429639"
      ],
      "text/plain": [
       "[1] 0.06053831"
      ]
     },
     "metadata": {},
     "output_type": "display_data"
    },
    {
     "data": {
      "text/html": [
       "-1.7700927007154"
      ],
      "text/latex": [
       "-1.7700927007154"
      ],
      "text/markdown": [
       "-1.7700927007154"
      ],
      "text/plain": [
       "[1] -1.770093"
      ]
     },
     "metadata": {},
     "output_type": "display_data"
    },
    {
     "data": {
      "text/html": [
       "-2.00740288941182"
      ],
      "text/latex": [
       "-2.00740288941182"
      ],
      "text/markdown": [
       "-2.00740288941182"
      ],
      "text/plain": [
       "[1] -2.007403"
      ]
     },
     "metadata": {},
     "output_type": "display_data"
    },
    {
     "data": {
      "image/png": "[encoded data removed]",
      "text/plain": [
       "Plot with title “Histogram of jackknife_brood_tajimaD”"
      ]
     },
     "metadata": {
      "image/png": {
       "height": 420,
       "width": 420
      }
     },
     "output_type": "display_data"
    }
   ],
   "source": [
    "### brooders next\n",
    "start.time <- Sys.time()\n",
    "### start with empty vectors to catch variables\n",
    "jackknife_brood_tajimaD <- c()\n",
    "\n",
    "for(i in 1:n_brood){\n",
    "### grab the brooders\n",
    "brooders <- data[5:84]\n",
    "brood_down_sample <-as.data.frame(brooders[-i])    \n",
    "\n",
    "### calculate allele counts and proportions\n",
    "brood_down_sample <- brood_down_sample  %>% mutate(alt_count = rowSums(.[1:79]))\n",
    "brood_down_sample  <- brood_down_sample %>% mutate(ref_count = (158) - rowSums(.[1:79]))\n",
    "brood_down_sample  <- brood_down_sample %>% mutate(p_alt = alt_count/(158))\n",
    "brood_down_sample <- brood_down_sample %>% mutate(p_ref = ref_count/(158))\n",
    "\n",
    "## and the minor counts\n",
    "brood_down_sample <- brood_down_sample %>% rowwise() %>% mutate(minor_count = min(alt_count,ref_count))\n",
    "\n",
    "### produce folded sfs and calc Tajima's D\n",
    "temp_hist <- hist(brood_down_sample$minor_count[brood_down_sample$minor_count > 0], breaks = seq(0, 79, length.out = 80),plot=FALSE)\n",
    "tempSFS <- as.vector(temp_hist$counts)\n",
    "temp_tajima <- TajimaD(tempSFS)\n",
    "jackknife_brood_tajimaD[i] <- temp_tajima\n",
    "}\n",
    "### \n",
    "end.time <- Sys.time()\n",
    "time.taken <- end.time - start.time\n",
    "time.taken\n",
    "\n",
    "mean.jack.brood <- mean(jackknife_brood_tajimaD)          ##### jacknife mean\n",
    "bias <- (n_brood-1)*(mean.jack.brood-tajBrood)    ### bias\n",
    "jack.SE <- sqrt(((n_brood-1)/n_brood) * sum((jackknife_brood_tajimaD-mean.jack.brood)^2)) ## SE\n",
    "upper_95brood <- mean.jack.brood + jack.SE*1.96 ## upper 95\n",
    "lower_95brood <- mean.jack.brood - jack.SE*1.96 ## lower 95\n",
    "\n",
    "hist(jackknife_brood_tajimaD, xlim=c(-2.10,-1.7))\n",
    "abline(v=mean(jackknife_brood_tajimaD), col=\"red\",lwd=2)\n",
    "abline(v=tajBrood, col=\"blue\",lwd=2)\n",
    "abline(v=upper_95brood,col=\"purple\",lwd=2)\n",
    "abline(v=lower_95brood,col=\"purple\",lwd=2)\n",
    "\n",
    "mean.jack.brood\n",
    "bias\n",
    "jack.SE\n",
    "upper_95brood\n",
    "lower_95brood"
   ]
  },
  {
   "cell_type": "code",
   "execution_count": 17,
   "id": "34e4ccb6",
   "metadata": {},
   "outputs": [
    {
     "data": {
      "text/plain": [
       "Time difference of 4.457862 secs"
      ]
     },
     "metadata": {},
     "output_type": "display_data"
    },
    {
     "data": {
      "text/html": [
       "-1.7418190118968"
      ],
      "text/latex": [
       "-1.7418190118968"
      ],
      "text/markdown": [
       "-1.7418190118968"
      ],
      "text/plain": [
       "[1] -1.741819"
      ]
     },
     "metadata": {},
     "output_type": "display_data"
    },
    {
     "data": {
      "text/html": [
       "0.349244373124238"
      ],
      "text/latex": [
       "0.349244373124238"
      ],
      "text/markdown": [
       "0.349244373124238"
      ],
      "text/plain": [
       "[1] 0.3492444"
      ]
     },
     "metadata": {},
     "output_type": "display_data"
    },
    {
     "data": {
      "text/html": [
       "0.0662650318005926"
      ],
      "text/latex": [
       "0.0662650318005926"
      ],
      "text/markdown": [
       "0.0662650318005926"
      ],
      "text/plain": [
       "[1] 0.06626503"
      ]
     },
     "metadata": {},
     "output_type": "display_data"
    },
    {
     "data": {
      "text/html": [
       "-1.61193954956763"
      ],
      "text/latex": [
       "-1.61193954956763"
      ],
      "text/markdown": [
       "-1.61193954956763"
      ],
      "text/plain": [
       "[1] -1.61194"
      ]
     },
     "metadata": {},
     "output_type": "display_data"
    },
    {
     "data": {
      "text/html": [
       "-1.87169847422596"
      ],
      "text/latex": [
       "-1.87169847422596"
      ],
      "text/markdown": [
       "-1.87169847422596"
      ],
      "text/plain": [
       "[1] -1.871698"
      ]
     },
     "metadata": {},
     "output_type": "display_data"
    },
    {
     "data": {
      "image/png": "[encoded data removed]",
      "text/plain": [
       "Plot with title “Histogram of jackknife_north_tajimaD”"
      ]
     },
     "metadata": {
      "image/png": {
       "height": 420,
       "width": 420
      }
     },
     "output_type": "display_data"
    }
   ],
   "source": [
    "## north next\n",
    "start.time <- Sys.time()\n",
    "### start with empty vectors to catch variables\n",
    "jackknife_north_tajimaD <- c()\n",
    "\n",
    "for(i in 1:n_north){\n",
    "north <- data[17:84]\n",
    "north_down_sample <-as.data.frame(north[-i])  \n",
    "\n",
    "### calculate allele counts and proportions\n",
    "north_down_sample <- north_down_sample  %>% mutate(alt_count = rowSums(.[1:67]))\n",
    "north_down_sample  <- north_down_sample %>% mutate(ref_count = (134) - rowSums(.[1:67]))\n",
    "north_down_sample  <- north_down_sample %>% mutate(p_alt = alt_count/(134))\n",
    "north_down_sample <- north_down_sample %>% mutate(p_ref = ref_count/(134))\n",
    "\n",
    "## and the minor counts\n",
    "north_down_sample <- north_down_sample %>% rowwise() %>% mutate(minor_count = min(alt_count,ref_count))\n",
    "\n",
    "### produce folded sfs and calc Tajima's D\n",
    "temp_hist <- hist(north_down_sample$minor_count[north_down_sample$minor_count > 0], breaks = seq(0, 67, length.out = 68),plot=FALSE)\n",
    "tempSFS <- as.vector(temp_hist$counts)\n",
    "temp_tajima <- TajimaD(tempSFS)\n",
    "jackknife_north_tajimaD[i] <- temp_tajima\n",
    "}\n",
    "### \n",
    "end.time <- Sys.time()\n",
    "time.taken <- end.time - start.time\n",
    "time.taken\n",
    "\n",
    "mean.jack.north <- mean(jackknife_north_tajimaD)          ##### jacknife mean\n",
    "bias <- (n_north-1)*(mean.jack.north-tajNorth)    ### bias\n",
    "jack.SE <- sqrt(((n_north-1)/n_north) * sum((jackknife_north_tajimaD-mean.jack.north)^2)) ## SE\n",
    "upper_95north <- mean.jack.north + jack.SE*1.96 ## upper 95\n",
    "lower_95north <- mean.jack.north - jack.SE*1.96 ## lower 95\n",
    "\n",
    "hist(jackknife_north_tajimaD, xlim=c(-2,-1.5))\n",
    "abline(v=mean(jackknife_north_tajimaD), col=\"red\")\n",
    "abline(v=tajNorth, col=\"blue\")\n",
    "abline(v=upper_95north,col=\"purple\",lwd=2)\n",
    "abline(v=lower_95north,col=\"purple\",lwd=2)\n",
    "\n",
    "mean.jack.north\n",
    "bias\n",
    "jack.SE\n",
    "upper_95north\n",
    "lower_95north\n",
    "\n"
   ]
  },
  {
   "cell_type": "code",
   "execution_count": 18,
   "id": "324d1a9d",
   "metadata": {},
   "outputs": [
    {
     "data": {
      "text/plain": [
       "Time difference of 0.857892 secs"
      ]
     },
     "metadata": {},
     "output_type": "display_data"
    },
    {
     "data": {
      "text/html": [
       "-0.541820601744247"
      ],
      "text/latex": [
       "-0.541820601744247"
      ],
      "text/markdown": [
       "-0.541820601744247"
      ],
      "text/plain": [
       "[1] -0.5418206"
      ]
     },
     "metadata": {},
     "output_type": "display_data"
    },
    {
     "data": {
      "text/html": [
       "0.525713581702001"
      ],
      "text/latex": [
       "0.525713581702001"
      ],
      "text/markdown": [
       "0.525713581702001"
      ],
      "text/plain": [
       "[1] 0.5257136"
      ]
     },
     "metadata": {},
     "output_type": "display_data"
    },
    {
     "data": {
      "text/html": [
       "0.133853796460599"
      ],
      "text/latex": [
       "0.133853796460599"
      ],
      "text/markdown": [
       "0.133853796460599"
      ],
      "text/plain": [
       "[1] 0.1338538"
      ]
     },
     "metadata": {},
     "output_type": "display_data"
    },
    {
     "data": {
      "text/html": [
       "-0.279467160681473"
      ],
      "text/latex": [
       "-0.279467160681473"
      ],
      "text/markdown": [
       "-0.279467160681473"
      ],
      "text/plain": [
       "[1] -0.2794672"
      ]
     },
     "metadata": {},
     "output_type": "display_data"
    },
    {
     "data": {
      "text/html": [
       "-0.804174042807022"
      ],
      "text/latex": [
       "-0.804174042807022"
      ],
      "text/markdown": [
       "-0.804174042807022"
      ],
      "text/plain": [
       "[1] -0.804174"
      ]
     },
     "metadata": {},
     "output_type": "display_data"
    },
    {
     "data": {
      "image/png": "[encoded data removed]",
      "text/plain": [
       "Plot with title “Histogram of jackknife_spain_tajimaD”"
      ]
     },
     "metadata": {
      "image/png": {
       "height": 420,
       "width": 420
      }
     },
     "output_type": "display_data"
    }
   ],
   "source": [
    "## spain next\n",
    "start.time <- Sys.time()\n",
    "### start with empty vectors to catch variables\n",
    "jackknife_spain_tajimaD <- c()\n",
    "\n",
    "for(i in 1:n_spain){\n",
    "spain <- data[5:16]\n",
    "\n",
    "### convert to a dataframe\n",
    "spain_down_sample <-as.data.frame(spain[-i])  \n",
    "\n",
    "### calculate allele counts and proportions\n",
    "spain_down_sample <- spain_down_sample  %>% mutate(alt_count = rowSums(.[1:11]))\n",
    "spain_down_sample  <- spain_down_sample %>% mutate(ref_count = (22) - rowSums(.[1:11]))\n",
    "spain_down_sample  <- spain_down_sample %>% mutate(p_alt = alt_count/(22))\n",
    "spain_down_sample <- spain_down_sample %>% mutate(p_ref = ref_count/(22))\n",
    "\n",
    "## and the minor counts\n",
    "spain_down_sample <- spain_down_sample %>% rowwise() %>% mutate(minor_count = min(alt_count,ref_count))\n",
    "\n",
    "### produce folded sfs and calc Tajima's D\n",
    "temp_hist <- hist(spain_down_sample$minor_count[spain_down_sample$minor_count > 0], breaks = seq(0, 11, length.out = 12),plot=FALSE)\n",
    "tempSFS <- as.vector(temp_hist$counts)\n",
    "temp_tajima <- TajimaD(tempSFS)\n",
    "jackknife_spain_tajimaD[i] <- temp_tajima\n",
    "}\n",
    "### \n",
    "end.time <- Sys.time()\n",
    "time.taken <- end.time - start.time\n",
    "time.taken\n",
    "\n",
    "mean.jack.spain <- mean(jackknife_spain_tajimaD)          ##### jacknife mean\n",
    "bias <- (n_spain-1)*(mean.jack.spain-tajSpain)    ### bias\n",
    "jack.SE <- sqrt(((n_spain-1)/n_spain) * sum((jackknife_spain_tajimaD-mean.jack.spain)^2)) ## SE\n",
    "upper_95spain <- mean.jack.spain + jack.SE*1.96 ## upper 95\n",
    "lower_95spain <- mean.jack.spain - jack.SE*1.96 ## lower 95\n",
    "\n",
    "hist(jackknife_spain_tajimaD, xlim=c(-0.9,-0.2))\n",
    "abline(v=mean(jackknife_spain_tajimaD), col=\"red\")\n",
    "abline(v=tajSpain, col=\"blue\")\n",
    "abline(v=upper_95spain,col=\"purple\",lwd=2)\n",
    "abline(v=lower_95spain,col=\"purple\",lwd=2)\n",
    "\n",
    "mean.jack.spain\n",
    "bias\n",
    "jack.SE\n",
    "upper_95spain\n",
    "lower_95spain\n",
    "\n"
   ]
  },
  {
   "cell_type": "markdown",
   "id": "a8da6d5d",
   "metadata": {},
   "source": [
    "## Print jackknife distributions for all 4 groups"
   ]
  },
  {
   "cell_type": "code",
   "execution_count": 78,
   "id": "2f995e54",
   "metadata": {},
   "outputs": [
    {
     "data": {
      "text/html": [
       "0.0374508615494044"
      ],
      "text/latex": [
       "0.0374508615494044"
      ],
      "text/markdown": [
       "0.0374508615494044"
      ],
      "text/plain": [
       "[1] 0.03745086"
      ]
     },
     "metadata": {},
     "output_type": "display_data"
    },
    {
     "data": {
      "text/html": [
       "0.0367080487007652"
      ],
      "text/latex": [
       "0.0367080487007652"
      ],
      "text/markdown": [
       "0.0367080487007652"
      ],
      "text/plain": [
       "[1] 0.03670805"
      ]
     },
     "metadata": {},
     "output_type": "display_data"
    },
    {
     "data": {
      "text/html": [
       "0.0383363470290002"
      ],
      "text/latex": [
       "0.0383363470290002"
      ],
      "text/markdown": [
       "0.0383363470290002"
      ],
      "text/plain": [
       "[1] 0.03833635"
      ]
     },
     "metadata": {},
     "output_type": "display_data"
    },
    {
     "data": {
      "text/html": [
       "0.12258824625956"
      ],
      "text/latex": [
       "0.12258824625956"
      ],
      "text/markdown": [
       "0.12258824625956"
      ],
      "text/plain": [
       "[1] 0.1225882"
      ]
     },
     "metadata": {},
     "output_type": "display_data"
    },
    {
     "data": {
      "text/html": [
       "0.278609309697737"
      ],
      "text/latex": [
       "0.278609309697737"
      ],
      "text/markdown": [
       "0.278609309697737"
      ],
      "text/plain": [
       "[1] 0.2786093"
      ]
     },
     "metadata": {},
     "output_type": "display_data"
    },
    {
     "data": {
      "text/html": [
       "-0.201936615639737"
      ],
      "text/latex": [
       "-0.201936615639737"
      ],
      "text/markdown": [
       "-0.201936615639737"
      ],
      "text/plain": [
       "[1] -0.2019366"
      ]
     },
     "metadata": {},
     "output_type": "display_data"
    },
    {
     "data": {
      "image/png": "[encoded data removed]",
      "text/plain": [
       "Plot with title “Histogram of jackknife_arc_tajimaD”"
      ]
     },
     "metadata": {
      "image/png": {
       "height": 420,
       "width": 420
      }
     },
     "output_type": "display_data"
    }
   ],
   "source": [
    "#pdf(\"Jackknifed_tajD_dists.pdf\", width = 6.5, height = 8.5) \n",
    "par(mfrow=c(3,2))\n",
    "\n",
    "hist(jackknife_egg_tajimaD, breaks=5, xlim=c(-0.5,0), border=F)\n",
    "abline(v=mean(jackknife_egg_tajimaD), col=\"red\",lwd=2)\n",
    "abline(v=tajEgg, col=\"blue\",lwd=2)\n",
    "abline(v=upper_95egg,col=\"purple\",lwd=2)\n",
    "abline(v=lower_95egg,col=\"purple\",lwd=2)\n",
    "\n",
    "hist(jackknife_brood_tajimaD, xlim=c(-2.10,-1.7), border=F)\n",
    "abline(v=mean(jackknife_brood_tajimaD), col=\"red\",lwd=2)\n",
    "abline(v=tajBrood, col=\"blue\",lwd=2)\n",
    "abline(v=upper_95brood,col=\"purple\",lwd=2)\n",
    "abline(v=lower_95brood,col=\"purple\",lwd=2)\n",
    "\n",
    "hist(jackknife_north_tajimaD, xlim=c(-2,-1.5), border=F)\n",
    "abline(v=mean(jackknife_north_tajimaD), col=\"red\")\n",
    "abline(v=tajNorth, col=\"blue\")\n",
    "abline(v=upper_95north,col=\"purple\",lwd=2)\n",
    "abline(v=lower_95north,col=\"purple\",lwd=2)\n",
    "\n",
    "hist(jackknife_spain_tajimaD, xlim=c(-0.9,-0.2), border=F)\n",
    "abline(v=mean(jackknife_spain_tajimaD), col=\"red\")\n",
    "abline(v=tajSpain, col=\"blue\")\n",
    "abline(v=upper_95spain,col=\"purple\",lwd=2)\n",
    "abline(v=lower_95spain,col=\"purple\",lwd=2)\n",
    "\n",
    "hist(jackknife_arc_tajimaD, xlim=c(-0.5,0.5), border=F)\n",
    "abline(v=mean(jackknife_arc_tajimaD), col=\"red\")\n",
    "abline(v=tajArc, col=\"blue\")\n",
    "abline(v=upper_95arc,col=\"purple\",lwd=2)\n",
    "abline(v=lower_95arc,col=\"purple\",lwd=2)\n",
    "\n",
    "bias\n",
    "tajArc\n",
    "mean.jack.arc\n",
    "jack.SE\n",
    "upper_95arc\n",
    "lower_95arc\n",
    "#dev.off() \n",
    "\n",
    "border=F\n",
    "\n"
   ]
  },
  {
   "cell_type": "code",
   "execution_count": 81,
   "id": "8602aa24",
   "metadata": {},
   "outputs": [
    {
     "data": {
      "text/html": [
       "<strong>pdf:</strong> 2"
      ],
      "text/latex": [
       "\\textbf{pdf:} 2"
      ],
      "text/markdown": [
       "**pdf:** 2"
      ],
      "text/plain": [
       "pdf \n",
       "  2 "
      ]
     },
     "metadata": {},
     "output_type": "display_data"
    }
   ],
   "source": [
    "## tajima D with confidence intervals\n",
    "pdf(\"tajimaD_dotsCIs_arc.pdf\", width = 10, height = 5) \n",
    "par(mfrow=c(1,1))\n",
    "\n",
    "groups <- c(5,4,3,2,1)\n",
    "est <- c(-0.241, -1.893, -1.747, -0.59, 0.0374)\n",
    "jack <- c(-0.237, -1.889, -1.742, -0.542, 0.0367)\n",
    "plot(jack,groups, xlim=c(-2.1,0.3), pch=groups, cex=2)\n",
    "points(est,groups, pch=3)\n",
    "\n",
    "CI1 <- c(-0.037, -1.77, -1.612, -0.279, -0.201)\n",
    "CI2 <- c(-0.437, -2.007, -1.872, -0.804, 0.278)\n",
    "points(CI1,groups)\n",
    "points(CI2,groups)\n",
    "dev.off()"
   ]
  },
  {
   "cell_type": "markdown",
   "id": "bf007d86",
   "metadata": {},
   "source": [
    "## Estimating proportions of private alleles: adjusting for differences in sample size downsampling"
   ]
  },
  {
   "cell_type": "markdown",
   "id": "70c3a651",
   "metadata": {},
   "source": [
    "Here Im just getting the code worked out for a single replcate before I put all of this into a for-loop"
   ]
  },
  {
   "cell_type": "code",
   "execution_count": 23,
   "id": "13dc9cc5",
   "metadata": {},
   "outputs": [],
   "source": [
    "### sample 28 individuals from the northern group with replacement\n",
    "sample_north <- data[,sample(5:84,28, replace=T)]"
   ]
  },
  {
   "cell_type": "code",
   "execution_count": 24,
   "id": "1cf0a09e",
   "metadata": {},
   "outputs": [],
   "source": [
    "### sample the egg-layers\n",
    "egg_layers <- data[,sample(85:112,28, replace=T)]"
   ]
  },
  {
   "cell_type": "code",
   "execution_count": 25,
   "id": "47e3cf37",
   "metadata": {},
   "outputs": [],
   "source": [
    "#bind the dataframes together\n",
    "bound_data <- cbind(sample_north,egg_layers)\n",
    "## rename the individuals so they are uniqe as this is required for the calculations underneath\n",
    "colnames(bound_data) <-c(1:56)"
   ]
  },
  {
   "cell_type": "code",
   "execution_count": 26,
   "id": "0bc459b3",
   "metadata": {},
   "outputs": [],
   "source": [
    "##### now compute variables as above but specifying new ranges\n",
    "#bound_data[1:28] brooders\n",
    "#bound_data[29:56] egg-layers\n",
    "## egg-layers\n",
    "bound_data <- bound_data %>% mutate(alt_count_egg = rowSums(.[29:56]))\n",
    "bound_data <- bound_data %>% mutate(ref_count_egg = (56) - rowSums(.[29:56]))\n",
    "bound_data <- bound_data %>% mutate(p_alt_egg = alt_count_egg/(56))\n",
    "bound_data <- bound_data %>% mutate(p_ref_egg = ref_count_egg/(56))\n",
    "## brooders \n",
    "bound_data <- bound_data %>% mutate(alt_count_brood = rowSums(.[1:28]))\n",
    "bound_data <- bound_data %>% mutate(ref_count_brood = (56) - rowSums(.[1:28]))\n",
    "bound_data <- bound_data %>% mutate(p_alt_brood = alt_count_brood/(56))\n",
    "bound_data <- bound_data %>% mutate(p_ref_brood = ref_count_brood/(56))\n",
    "## and the minor counts\n",
    "bound_data <- bound_data %>% rowwise() %>% mutate(minor_count_egg = min(alt_count_egg,ref_count_egg))\n",
    "bound_data <- bound_data %>% rowwise() %>% mutate(minor_count_brood = min(alt_count_brood,ref_count_brood))\n"
   ]
  },
  {
   "cell_type": "code",
   "execution_count": 27,
   "id": "00fc147f",
   "metadata": {},
   "outputs": [],
   "source": [
    "### now classify the alleles\n",
    "bound_data <- bound_data %>% mutate(priv_in = case_when(\n",
    "                           p_alt_egg ==1 & p_alt_brood==0 ~ 'fixed',\n",
    "                           p_alt_egg ==0 & p_alt_brood==1 ~ 'fixed',\n",
    "                           p_alt_egg > 0 & p_ref_egg > 0 & p_alt_brood > 0 & p_ref_brood > 0 ~ 'shared',\n",
    "                           p_alt_egg == 0 & p_alt_brood > 0 & p_alt_brood < 1 ~ 'brood',\n",
    "                           p_ref_egg == 0 & p_ref_brood > 0 & p_ref_brood < 1~ 'brood',\n",
    "                           p_alt_brood == 0 & p_alt_egg > 0 & p_alt_egg < 1 ~ 'egg',\n",
    "                           p_ref_brood == 0 & p_ref_egg > 0 & p_alt_egg < 1 ~ 'egg'))"
   ]
  },
  {
   "cell_type": "code",
   "execution_count": 28,
   "id": "52e86a28",
   "metadata": {},
   "outputs": [],
   "source": [
    "boot_brood.hist.info <- hist(bound_data$minor_count_brood[bound_data$minor_count_brood > 0],  breaks = seq(0, 28, length.out = 29),,plot=FALSE)\n",
    "boot_broodSFS <- as.vector(boot_brood.hist.info$counts)\n",
    "boot_egg.hist.info <- hist(bound_data$minor_count_egg[bound_data$minor_count_egg > 0],  breaks = seq(0, 28, length.out = 29),,plot=FALSE)\n",
    "boot_eggSFS <- as.vector(boot_egg.hist.info$counts)\n",
    "joinedSFS <- cbind(boot_broodSFS,boot_eggSFS)\n",
    "g<-as.vector(GTest(joinedSFS))\n",
    "\n"
   ]
  },
  {
   "cell_type": "code",
   "execution_count": 29,
   "id": "0bd78184",
   "metadata": {},
   "outputs": [],
   "source": [
    "## calculate some summary stats\n",
    "#counts <- table(bound_data$priv_in)\n",
    "#pvt_brood <- counts[1]\n",
    "#pvt_egg <- counts[2]\n",
    "#fixed <- counts[3]\n",
    "#shared <- counts[4]\n",
    "#prop_pvt_brood <- pvt_brood/(pvt_brood+shared)\n",
    "#prop_pvt_egg <- pvt_egg/(pvt_egg+shared)\n",
    "#count_higher_egg <- pvt_egg > pvt_brood\n",
    "#prop_higer_egg <- prop_pvt_egg > prop_pvt_brood"
   ]
  },
  {
   "cell_type": "markdown",
   "id": "6618cfe2",
   "metadata": {},
   "source": [
    "## Obtaining a distributions of private alleles thought iterative downsampling"
   ]
  },
  {
   "cell_type": "code",
   "execution_count": 30,
   "id": "a38a003f",
   "metadata": {},
   "outputs": [],
   "source": [
    "## start a run clock\n",
    "start.time <- Sys.time()\n",
    "### start with empty vectors to catch variables\n",
    "pvt_brood_temp <- c()\n",
    "pvt_egg_temp <- c()\n",
    "fixed_temp <- c() \n",
    "shared_temp <- c()\n",
    "prop_pvt_brood_temp <- c()\n",
    "prop_pvt_egg_temp <- c()\n",
    "count_higher_egg_temp <- c()\n",
    "prop_higer_egg_temp <- c()\n",
    "Gtest_p <- c()\n",
    "\n",
    "### set number of permutations\n",
    "n_perms <- 10000\n",
    "for(i in 1:n_perms){\n",
    "\n",
    "### grab the egg-layers\n",
    "egg_layers <- data[85:112]\n",
    "    \n",
    "### sample n brooders without replacement\n",
    "set.seed(i) \n",
    "sample_brood <- data[,sample(5:84,28, replace=F)]\n",
    "    \n",
    "#bind the dataframes together\n",
    "bound_data <- cbind(sample_brood,egg_layers)\n",
    "## rename the individuals so they are uniqe as this is required for the calculations underneath\n",
    "colnames(bound_data) <-c(1:56)\n",
    "    \n",
    "##### now compute variables as above but specifying new ranges\n",
    "#bound_data[1:28] brooders\n",
    "#bound_data[29:56] egg-layers\n",
    "## egg-layers\n",
    "bound_data <- bound_data %>% mutate(alt_count_egg = rowSums(.[29:56]))\n",
    "bound_data <- bound_data %>% mutate(ref_count_egg = (56) - rowSums(.[29:56]))\n",
    "bound_data <- bound_data %>% mutate(p_alt_egg = alt_count_egg/(56))\n",
    "bound_data <- bound_data %>% mutate(p_ref_egg = ref_count_egg/(56))\n",
    "## brooders \n",
    "bound_data <- bound_data %>% mutate(alt_count_brood = rowSums(.[1:28]))\n",
    "bound_data <- bound_data %>% mutate(ref_count_brood = (56) - rowSums(.[1:28]))\n",
    "bound_data <- bound_data %>% mutate(p_alt_brood = alt_count_brood/(56))\n",
    "bound_data <- bound_data %>% mutate(p_ref_brood = ref_count_brood/(56))\n",
    "\n",
    "    ## and the minor counts\n",
    "bound_data <- bound_data %>% rowwise() %>% mutate(minor_count_egg = min(alt_count_egg,ref_count_egg))\n",
    "bound_data <- bound_data %>% rowwise() %>% mutate(minor_count_brood = min(alt_count_brood,ref_count_brood))\n",
    "\n",
    "### now classify the alleles\n",
    "bound_data <- bound_data %>% mutate(priv_in = case_when(\n",
    "    p_alt_egg ==1 & p_alt_brood==0 ~ 'fixed',\n",
    "    p_alt_egg ==0 & p_alt_brood==1 ~ 'fixed',\n",
    "    p_alt_egg > 0 & p_ref_egg > 0 & p_alt_brood > 0 & p_ref_brood > 0 ~ 'shared',\n",
    "    p_alt_egg == 0 & p_alt_brood > 0 & p_alt_brood < 1 ~ 'brood',\n",
    "    p_ref_egg == 0 & p_ref_brood > 0 & p_ref_brood < 1~ 'brood',\n",
    "    p_alt_brood == 0 & p_alt_egg > 0 & p_alt_egg < 1 ~ 'egg',\n",
    "    p_ref_brood == 0 & p_ref_egg > 0 & p_alt_egg < 1 ~ 'egg'))\n",
    "\n",
    "## tabulate results\n",
    "counts <- table(bound_data$priv_in)    \n",
    "    \n",
    "## calculate some summary stats; could take this of the loop and calculate from the dataframe later\n",
    "pvt_brood <- counts[1]\n",
    "pvt_egg <- counts[2]\n",
    "fixed <- counts[3]\n",
    "shared <- counts[4]\n",
    "prop_pvt_brood <- pvt_brood/(pvt_brood+shared)\n",
    "prop_pvt_egg <- pvt_egg/(pvt_egg+shared)\n",
    "\n",
    "pvt_brood_temp[i] <- pvt_brood \n",
    "pvt_egg_temp[i] <- pvt_egg \n",
    "fixed_temp[i] <- fixed \n",
    "shared_temp[i] <- shared\n",
    "prop_pvt_brood_temp[i] <- prop_pvt_brood\n",
    "prop_pvt_egg_temp[i] <- prop_pvt_egg\n",
    "\n",
    "### compare the bootstrap sfs with a g-test\n",
    "boot_brood.hist.info <- hist(bound_data$minor_count_brood[bound_data$minor_count_brood > 0],  breaks = seq(0, 28, length.out = 29),plot=FALSE)\n",
    "boot_broodSFS <- as.vector(boot_brood.hist.info$counts)\n",
    "boot_egg.hist.info <- hist(bound_data$minor_count_egg[bound_data$minor_count_egg > 0],  breaks = seq(0, 28, length.out = 29),plot=FALSE)\n",
    "boot_eggSFS <- as.vector(boot_egg.hist.info$counts)\n",
    "joinedSFS <- cbind(boot_broodSFS,boot_eggSFS)\n",
    "g <- GTest(joinedSFS)\n",
    "Gtest_p[i]<-as.character(g[3]<0.05)\n",
    "}\n",
    "### \n",
    "end.time <- Sys.time()\n",
    "time.taken <- end.time - start.time\n",
    "time.taken"
   ]
  },
  {
   "cell_type": "code",
   "execution_count": null,
   "id": "ea7bf56e",
   "metadata": {},
   "outputs": [],
   "source": [
    "bootstrap_out <- as.data.frame(cbind(pvt_brood_temp,pvt_egg_temp,fixed_temp,shared_temp,prop_pvt_brood_temp,prop_pvt_egg_temp))\n",
    "bootstrap_out <- bootstrap_out %>% mutate(diff_p_priv_EggBrood = prop_pvt_egg_temp - prop_pvt_brood_temp)\n",
    "bootstrap_out <- cbind(bootstrap_out,Gtest_p)\n",
    "#write.csv(bootstrap_out, \"bootstrap_out_broodEgg.csv\")"
   ]
  },
  {
   "cell_type": "code",
   "execution_count": null,
   "id": "7e11985d",
   "metadata": {},
   "outputs": [],
   "source": [
    "### summarise the results of the G-tests\n",
    "table(bootstrap_out$Gtest_p)"
   ]
  },
  {
   "cell_type": "markdown",
   "id": "d4af95a1",
   "metadata": {},
   "source": [
    "So here all 1000 pairs of bootrapped spectra are singnificantly different according to G-tests"
   ]
  },
  {
   "cell_type": "code",
   "execution_count": null,
   "id": "132a5f3f",
   "metadata": {},
   "outputs": [],
   "source": [
    "### calulcate means for the replicates\n",
    "head(bootstrap_out)\n",
    "mean(bootstrap_out$pvt_brood_temp)\n",
    "mean(bootstrap_out$pvt_egg_temp)\n",
    "mean(bootstrap_out$prop_pvt_brood_temp)\n",
    "mean(bootstrap_out$prop_pvt_egg_temp)\n",
    "mean(bootstrap_out$diff_p_priv_EggBrood)\n"
   ]
  },
  {
   "cell_type": "markdown",
   "id": "703db33a",
   "metadata": {},
   "source": [
    "## Spain vs north"
   ]
  },
  {
   "cell_type": "markdown",
   "id": "a844141c",
   "metadata": {},
   "source": [
    "Now we need to do the same for north vs spain. There are 12 Spain individuals, so we can just use the code above, sampling only 12 north, and replacing the arcana group with the spain group and adjust the sample size in the calculations. Also, we can strict this analysis only to SNPs that are private to brooders that we identified in the previous analysis (subset by pvt_in)"
   ]
  },
  {
   "cell_type": "code",
   "execution_count": null,
   "id": "1d4ece3f",
   "metadata": {},
   "outputs": [],
   "source": [
    "start.time <- Sys.time()\n",
    "## redfine the datframe\n",
    "S_data <- subset(data, priv_in == \"brood\")\n",
    "\n",
    "### start with empty vectors to catch variables\n",
    "S_pvt_north_temp <- c()\n",
    "S_pvt_spain_temp <- c()\n",
    "S_shared_temp <- c()\n",
    "S_prop_pvt_north_temp <- c()\n",
    "S_prop_pvt_spain_temp <- c()\n",
    "S_count_higher_spain_temp <- c()\n",
    "S_prop_higer_spain_temp <- c()\n",
    "S_Gtest_p <- c()\n",
    "\n",
    "### set number of permutations\n",
    "n_perms <- 10000\n",
    "for(i in 1:n_perms){\n",
    "\n",
    "## grab the spanish samples\n",
    "spain <- S_data[5:16]\n",
    "    \n",
    "### sample 12 individuals from the northern group with replacement\n",
    "sample_north <- S_data[,sample(17:84,12, replace=F)]\n",
    "\n",
    "### bind the data frames\n",
    "S_bound_data <- cbind(sample_north,spain)\n",
    "colnames(S_bound_data) <-c(1:24)\n",
    "\n",
    "## spain\n",
    "S_bound_data <- S_bound_data %>% mutate(alt_count_spain = rowSums(.[13:24]))\n",
    "S_bound_data <- S_bound_data %>% mutate(ref_count_spain = (24) - rowSums(.[13:24]))\n",
    "S_bound_data <- S_bound_data %>% mutate(p_alt_spain = alt_count_spain/(24))\n",
    "S_bound_data <- S_bound_data %>% mutate(p_ref_spain = ref_count_spain/(24))\n",
    "\n",
    "## north\n",
    "S_bound_data <- S_bound_data %>% mutate(alt_count_north = rowSums(.[1:12]))\n",
    "S_bound_data <- S_bound_data %>% mutate(ref_count_north = (24) - rowSums(.[1:12]))\n",
    "S_bound_data <- S_bound_data %>% mutate(p_alt_north = alt_count_north/(24))\n",
    "S_bound_data <- S_bound_data %>% mutate(p_ref_north = ref_count_north/(24))\n",
    "\n",
    "## and the minor counts\n",
    "S_bound_data <- S_bound_data %>% rowwise() %>% mutate(minor_count_spain = min(alt_count_spain,ref_count_spain))\n",
    "S_bound_data <- S_bound_data %>% rowwise() %>% mutate(minor_count_north = min(alt_count_north,ref_count_north))\n",
    "\n",
    "### now classify the alleles  ### removed teh fixed categories because this is very stochasitc and ruins the indexing\n",
    "S_bound_data <- S_bound_data %>% mutate(priv_in = case_when(\n",
    "    p_alt_spain > 0 & p_ref_spain > 0 & p_alt_north > 0 & p_ref_north > 0 ~ 'shared',\n",
    "    p_alt_spain == 0 & p_alt_north > 0 & p_alt_north < 1 ~ 'north',\n",
    "    p_ref_spain == 0 & p_ref_north > 0 & p_ref_north < 1~ 'north',\n",
    "    p_alt_north == 0 & p_alt_spain > 0 & p_alt_spain < 1 ~ 'spain',\n",
    "    p_ref_north == 0 & p_ref_spain > 0 & p_alt_spain < 1 ~ 'spain'))\n",
    "\n",
    "## tabulate results\n",
    "S_counts <- table(S_bound_data$priv_in)\n",
    "\n",
    "## calculate some summary stats; could Take this out of the loop and calculate from the dataframe later\n",
    "pvt_spain <- S_counts[3]\n",
    "pvt_north <- S_counts[1]\n",
    "shared <- S_counts[2]\n",
    "prop_pvt_north <- pvt_north/(pvt_north+shared)\n",
    "prop_pvt_spain <- pvt_spain/(pvt_spain+shared)\n",
    "count_higher_spain <- pvt_spain > pvt_north\n",
    "prop_higer_spain <- prop_pvt_spain > prop_pvt_north\n",
    "\n",
    "## Save these to variables\n",
    "S_pvt_north_temp[i] <- pvt_north\n",
    "S_pvt_spain_temp[i] <- pvt_spain \n",
    "S_shared_temp[i] <- shared\n",
    "S_prop_pvt_north_temp[i] <- prop_pvt_north\n",
    "S_prop_pvt_spain_temp[i] <- prop_pvt_spain\n",
    "S_count_higher_spain_temp[i] <- count_higher_spain\n",
    "S_prop_higer_spain_temp[i] <- prop_higer_spain\n",
    "    \n",
    "### compare the bootstrap sfs with a g-test\n",
    "boot_spain.hist.info <- hist(S_bound_data$minor_count_spain[S_bound_data$minor_count_spain > 0],  breaks = seq(0, 12, length.out = 13),plot=FALSE)\n",
    "boot_spainSFS <- as.vector(boot_spain.hist.info$counts)\n",
    "boot_north.hist.info <- hist(S_bound_data$minor_count_north[S_bound_data$minor_count_north > 0],  breaks = seq(0, 12, length.out = 13),plot=FALSE)\n",
    "boot_northSFS <- as.vector(boot_north.hist.info$counts)\n",
    "joinedSFS <- cbind(boot_spainSFS,boot_northSFS)\n",
    "g <- GTest(joinedSFS)\n",
    "S_Gtest_p [i]<-as.character(g[3]<0.05)\n",
    "}\n",
    "### \n",
    "end.time <- Sys.time()\n",
    "time.taken <- end.time - start.time\n",
    "time.taken"
   ]
  },
  {
   "cell_type": "code",
   "execution_count": null,
   "id": "49b136be",
   "metadata": {},
   "outputs": [],
   "source": [
    "## print the file and save as a csv\n",
    "S_bootstrap_out <- as.data.frame(cbind(S_pvt_north_temp,S_pvt_spain_temp,S_shared_temp,S_prop_pvt_north_temp,S_prop_pvt_spain_temp,S_count_higher_spain_temp,S_prop_higer_spain_temp))\n",
    "S_bootstrap_out <- S_bootstrap_out %>% mutate(diff_p_priv_SpainNorth = S_prop_pvt_spain_temp - S_prop_pvt_north_temp)\n",
    "S_bootstrap_out <- cbind(S_bootstrap_out,S_Gtest_p)\n",
    "write.csv(S_bootstrap_out, \"bootstrap_out_SpainNorthAllVarSItes_pvtSPAINNORTHonly.csv\")\n",
    "\n"
   ]
  },
  {
   "cell_type": "code",
   "execution_count": null,
   "id": "6b96cb76",
   "metadata": {},
   "outputs": [],
   "source": [
    "### summarise the results of the G-tests\n",
    "table(S_bootstrap_out$S_Gtest_p)\n"
   ]
  },
  {
   "cell_type": "markdown",
   "id": "90743bb0",
   "metadata": {},
   "source": [
    "So here, all 1000 boostrapped spectra are significantly different from one another according to the g-test"
   ]
  },
  {
   "cell_type": "markdown",
   "id": "41907813",
   "metadata": {},
   "source": [
    "## Make figures of private alleles in spain and north"
   ]
  },
  {
   "cell_type": "code",
   "execution_count": null,
   "id": "2aecc558",
   "metadata": {},
   "outputs": [],
   "source": [
    "############# make pdf plots Pgroup1 - Pgroup2\n",
    "#Open a pdf file\n",
    "### first plots\n",
    "pdf(\"private_alleles_Jackknife_northSpainOnly.pdf\", width = 12, height = 6.5) \n",
    "\n",
    "par(mfrow=c(2,3))\n",
    "### one\n",
    "hist(bootstrap_out$pvt_egg_temp, xlim=c(0,6000), col=\"gray\",border=F, main=\"\", breaks = seq(0, 6000, length.out = 1000))\n",
    "abline(v=(mean(bootstrap_out$pvt_egg_temp)), col=\"red\")\n",
    "hist(bootstrap_out$pvt_brood_temp, xlim=c(0,6000), col=\"orange\",add=T,border=F, main=\"\", breaks = seq(0, 6000, length.out = 1000))\n",
    "abline(v=(mean(bootstrap_out$pvt_brood_temp)), col=\"red\")\n",
    "\n",
    "### two \n",
    "hist(bootstrap_out$prop_pvt_egg_temp, xlim=c(0,1), col=\"red\",border=F, main=\"\", breaks = seq(0, 1, length.out = 1000))\n",
    "abline(v=(mean(bootstrap_out$prop_pvt_egg_temp)), col=\"red\")\n",
    "hist(bootstrap_out$prop_pvt_brood_temp, xlim=c(0,1), col=\"blue\",add=T,border=F, main=\"\", breaks =seq(0, 1, length.out = 1000))\n",
    "abline(v=(mean(bootstrap_out$prop_pvt_brood_temp)), col=\"red\")\n",
    "\n",
    "### three\n",
    "hist(bootstrap_out$diff_p_priv_EggBrood, xlim=c(-0.2,0.2), col=\"purple\", border=F, main=\"\", breaks = seq(-0.2, 0.2, length.out = 1000))\n",
    "abline(v=0)\n",
    "abline(v=(mean(bootstrap_out$diff_p_priv_EggBrood)),col=\"red\")\n",
    "\n",
    "### four\n",
    "hist(S_bootstrap_out$S_pvt_spain_temp, xlim=c(0,1500), col=\"green\", border=F, main=\"\", breaks = seq(0, 1500, length.out = 1000))\n",
    "abline(v=(mean(S_bootstrap_out$S_pvt_spain_temp)), col=\"red\")\n",
    "hist(S_bootstrap_out$S_pvt_north_temp, xlim=c(0,1500), col=\"gray\", border=F, main=\"\", breaks = seq(0, 1500, length.out = 1000),add=T,)\n",
    "abline(v=(mean(S_bootstrap_out$S_pvt_north_temp)), col=\"red\")\n",
    "\n",
    "### five\n",
    "hist(S_bootstrap_out$S_prop_pvt_spain_temp, xlim=c(0,1), border=F, col=\"gray\", main=\"\", breaks = seq(0, 1, length.out = 1000))\n",
    "abline(v=(mean(S_bootstrap_out$S_prop_pvt_spain_)), col=\"red\")\n",
    "hist(S_bootstrap_out$S_prop_pvt_north_temp, xlim=c(0,11), border=F, col=\"blue\",add=T, main=\"\", breaks = seq(0, 1, length.out = 1000))\n",
    "abline(v=(mean(S_bootstrap_out$S_prop_pvt_north_temp)), col=\"red\")\n",
    "\n",
    "### six\n",
    "### four\n",
    "hist(S_bootstrap_out$diff_p_priv_SpainNorth, xlim=c(-0.2,0.2), border=F, col=\"cyan\", main=\"\", breaks = seq(-0.2, 0.2, length.out = 1000))\n",
    "abline(v=0)\n",
    "abline(v=(mean(S_bootstrap_out$diff_p_priv_SpainNorth)), col=\"red\")\n",
    "\n",
    "# Close the pdf file\n",
    "dev.off() "
   ]
  },
  {
   "cell_type": "code",
   "execution_count": null,
   "id": "6fcec582",
   "metadata": {},
   "outputs": [],
   "source": [
    "## print means across all replicates\n",
    "head(S_bootstrap_out)\n",
    "mean(S_bootstrap_out$S_pvt_north_temp)\n",
    "mean(S_bootstrap_out$S_pvt_spain_temp)\n",
    "mean(S_bootstrap_out$S_prop_pvt_north_temp)\n",
    "mean(S_bootstrap_out$S_prop_pvt_spain_temp)\n",
    "mean(S_bootstrap_out$diff_p_priv_SpainNorth)"
   ]
  },
  {
   "cell_type": "markdown",
   "id": "04aaecee",
   "metadata": {},
   "source": [
    "## making some scaled spectra for the main text"
   ]
  },
  {
   "cell_type": "markdown",
   "id": "40847bd1",
   "metadata": {},
   "source": [
    "The boostrapped spectra are useful for statistical testing, but the spectra are often not a good visual approximation for actualt spectra, becuase the sampling with replacement causes singletons to become doubletons. Here, for visulisation purposes, I will produce some spectra by downsampling without replacement the larger populaltion and using the actual individuals from the smaller population, which will allow better qualitaative comparison of how the spectra differ. Another issue is that the number of loci that are polymorhic in each group varies, so, rathern than plotting the counts, we need to scale each bar as a fraction of the total number of loci that sum to one. \n",
    "\n",
    "This is for all variable loci, not just the alleles that are private to each group"
   ]
  },
  {
   "cell_type": "code",
   "execution_count": null,
   "id": "bdc1564d",
   "metadata": {},
   "outputs": [],
   "source": [
    "######## take only alleles private to brooders or all egg layers \n",
    "data <- subset(data, priv_in == \"brood\" | priv_in == \"egg\")              ############ comment out to analyse all loci\n",
    "### sample 28 individuals from the northern group with replacement\n",
    "sample_north <- data[,sample(5:84,28)]\n",
    "### grab the egg-layers\n",
    "egg_layers <- data[85:112]\n",
    "#bind the dataframes together\n",
    "bound_data <- cbind(sample_north,egg_layers)\n",
    "## rename the individuals so they are unique as this is required for the calculations underneath\n",
    "colnames(bound_data) <-c(1:56)\n",
    "\n",
    "##### calculate some counts of major/minor alleles\n",
    "## egg-layers\n",
    "bound_data <- bound_data %>% mutate(alt_count_egg = rowSums(.[29:56]))\n",
    "bound_data <- bound_data %>% mutate(ref_count_egg = (56) - rowSums(.[29:56]))\n",
    "bound_data <- bound_data %>% mutate(p_alt_egg = alt_count_egg/(56))\n",
    "bound_data <- bound_data %>% mutate(p_ref_egg = ref_count_egg/(56))\n",
    "## brooders \n",
    "bound_data <- bound_data %>% mutate(alt_count_brood = rowSums(.[1:28]))\n",
    "bound_data <- bound_data %>% mutate(ref_count_brood = (56) - rowSums(.[1:28]))\n",
    "bound_data <- bound_data %>% mutate(p_alt_brood = alt_count_brood/(56))\n",
    "bound_data <- bound_data %>% mutate(p_ref_brood = ref_count_brood/(56))\n",
    "\n",
    "## and the minor allele counts\n",
    "bound_data <- bound_data %>% rowwise() %>% mutate(minor_count_egg = min(alt_count_egg,ref_count_egg))\n",
    "bound_data <- bound_data %>% rowwise() %>% mutate(minor_count_brood = min(alt_count_brood,ref_count_brood))\n",
    "\n",
    "## Compute the sfs for each population\n",
    "boot_brood.hist.info <- hist(bound_data$minor_count_brood[bound_data$minor_count_brood > 0],  breaks = seq(0, 28, length.out = 29),plot=FALSE)\n",
    "boot_broodSFS <- as.vector(boot_brood.hist.info$counts)\n",
    "boot_egg.hist.info <- hist(bound_data$minor_count_egg[bound_data$minor_count_egg > 0],  breaks = seq(0, 28, length.out = 29),plot=FALSE)\n",
    "boot_eggSFS <- as.vector(boot_egg.hist.info$counts)\n",
    "\n",
    "## we need to make beight of the bars of the percentage of the number of loci rather than the counts \n",
    "totalEgg <- sum(boot_eggSFS)\n",
    "prop_loci_egg <- c()\n",
    "seq <- c(1:28)\n",
    "for (i in seq){\n",
    "   temp <-boot_eggSFS[i]/totalEgg\n",
    "prop_loci_egg[i]<-temp\n",
    "}\n",
    "\n",
    "totalBrood <- sum(boot_broodSFS)\n",
    "prop_loci_brood <- c()\n",
    "seq <- c(1:28)\n",
    "for (i in seq){\n",
    "   temp <-boot_broodSFS[i]/totalBrood\n",
    "prop_loci_brood[i]<-temp\n",
    "}\n",
    "\n",
    "## calculate Tajima's D for them\n",
    "TajimaD(boot_eggSFS)\n",
    "TajimaD(boot_broodSFS)\n",
    "\n",
    "## Gtest of the spectra\n",
    "bound.Spectra <- cbind(prop_loci_brood,prop_loci_egg)\n",
    "bound.Spectra.counts <- cbind(boot_eggSFS,boot_broodSFS)\n",
    "GTest(bound.Spectra.counts) "
   ]
  },
  {
   "cell_type": "code",
   "execution_count": null,
   "id": "51d7a797",
   "metadata": {},
   "outputs": [],
   "source": [
    "#pdf(\"boot_histograms.pdf_private_only\", width = 4, height = 4) \n",
    "par(mfrow=c(1,1))\n",
    "barplot(bound.Spectra, ylim=c(0,0.5), beside = TRUE)\n",
    "#dev.off() "
   ]
  },
  {
   "cell_type": "code",
   "execution_count": null,
   "id": "ef9ab219",
   "metadata": {},
   "outputs": [],
   "source": [
    "### Sample 12 individuals from the northern group WITHOUT replacement\n",
    "sample_north <- data[,sample(17:84,12)]\n",
    "\n",
    "### grab the spanish samples\n",
    "spain <- data[5:16]\n",
    "\n",
    "### bind the data frames\n",
    "S_bound_data <- cbind(sample_north,spain)\n",
    "colnames(S_bound_data) <-c(1:24)\n",
    "\n",
    "## spain\n",
    "S_bound_data <- S_bound_data %>% mutate(alt_count_spain = rowSums(.[13:24]))\n",
    "S_bound_data <- S_bound_data %>% mutate(ref_count_spain = (24) - rowSums(.[13:24]))\n",
    "S_bound_data <- S_bound_data %>% mutate(p_alt_spain = alt_count_spain/(24))\n",
    "S_bound_data <- S_bound_data %>% mutate(p_ref_spain = ref_count_spain/(24))\n",
    "\n",
    "## north\n",
    "S_bound_data <- S_bound_data %>% mutate(alt_count_north = rowSums(.[1:12]))\n",
    "S_bound_data <- S_bound_data %>% mutate(ref_count_north = (24) - rowSums(.[1:12]))\n",
    "S_bound_data <- S_bound_data %>% mutate(p_alt_north = alt_count_north/(24))\n",
    "S_bound_data <- S_bound_data %>% mutate(p_ref_north = ref_count_north/(24))\n",
    "\n",
    "## and the minor counts\n",
    "S_bound_data <- S_bound_data %>% rowwise() %>% mutate(minor_count_spain = min(alt_count_spain,ref_count_spain))\n",
    "S_bound_data <- S_bound_data %>% rowwise() %>% mutate(minor_count_north = min(alt_count_north,ref_count_north))\n",
    "\n",
    "### now classify the alleles  ### removed the 'fixed' category because when not present this ruins the indexing\n",
    "S_bound_data <- S_bound_data %>% mutate(priv_in = case_when(\n",
    "    p_alt_spain > 0 & p_ref_spain > 0 & p_alt_north > 0 & p_ref_north > 0 ~ 'shared',\n",
    "    p_alt_spain == 0 & p_alt_north > 0 & p_alt_north < 1 ~ 'north',\n",
    "    p_ref_spain == 0 & p_ref_north > 0 & p_ref_north < 1~ 'north',\n",
    "    p_alt_north == 0 & p_alt_spain > 0 & p_alt_spain < 1 ~ 'spain',\n",
    "    p_ref_north == 0 & p_ref_spain > 0 & p_alt_spain < 1 ~ 'spain'))\n",
    "\n",
    "## Compute the sfs for each population\n",
    "## uncommment line below to analyse all polymorphic loci within groups\n",
    "boot_spain.hist.info <- hist(S_bound_data$minor_count_spain[S_bound_data$minor_count_spain > 0],  breaks = seq(0, 12, length.out = 13),plot=FALSE)\n",
    "## uncommment line below to analyse only alleles that are private in to group\n",
    "#boot_spain.hist.info <- hist(S_bound_data$minor_count_spain[S_bound_data$minor_count_spain > 0 & S_bound_data$priv_in=='spain'],  breaks = seq(0, 12, length.out = 13),plot=FALSE)\n",
    "boot_spainSFS <- as.vector(boot_spain.hist.info$counts)\n",
    "## uncommment line below to analyse all polymorphic loci within groups\n",
    "boot_north.hist.info <- hist(S_bound_data$minor_count_north[S_bound_data$minor_count_north > 0],  breaks = seq(0, 12, length.out = 13),plot=FALSE)\n",
    "## uncommment line below to analyse only alleles that are private in to group\n",
    "#boot_north.hist.info <- hist(S_bound_data$minor_count_north[S_bound_data$minor_count_north > 0 & S_bound_data$priv_in=='north'],  breaks = seq(0, 12, length.out = 13),plot=FALSE)\n",
    "boot_northSFS <- as.vector(boot_north.hist.info$counts)\n",
    "\n",
    "## we need to make beight of the bars of the percentage of the number of loci rather than the counts \n",
    "totalspain <- sum(boot_spainSFS)\n",
    "prop_loci_spain <- c()\n",
    "seq <- c(1:12)\n",
    "for (i in seq){\n",
    "   temp <-boot_spainSFS[i]/totalspain\n",
    "prop_loci_spain[i]<-temp\n",
    "}\n",
    "\n",
    "totalnorth <- sum(boot_northSFS)\n",
    "prop_loci_north <- c()\n",
    "seq <- c(1:12)\n",
    "for (i in seq){\n",
    "   temp <-boot_northSFS[i]/totalnorth\n",
    "prop_loci_north[i]<-temp\n",
    "}\n",
    "\n",
    "## calculate Tajima's D for them\n",
    "TajimaD(boot_spainSFS)\n",
    "TajimaD(boot_northSFS)\n",
    "\n",
    "## Gtest of the spectra\n",
    "bound.Spectra <- cbind(prop_loci_spain,prop_loci_north)\n",
    "bound.Spectra.counts <- cbind(boot_spainSFS,boot_northSFS)\n",
    "GTest(bound.Spectra.counts) "
   ]
  },
  {
   "cell_type": "code",
   "execution_count": null,
   "id": "4079d36f",
   "metadata": {},
   "outputs": [],
   "source": [
    "#pdf(\"downsampled_histograms_spainNorth_allLoci.pdf\", width = 4, height = 4) \n",
    "par(mfrow=c(1,1))\n",
    "barplot(bound.Spectra, ylim=c(0,0.5), beside = TRUE)\n",
    "#dev.off() "
   ]
  },
  {
   "cell_type": "code",
   "execution_count": null,
   "id": "05a1740b",
   "metadata": {},
   "outputs": [],
   "source": [
    "sum(prop_loci_north)"
   ]
  },
  {
   "cell_type": "markdown",
   "id": "db539b7a",
   "metadata": {},
   "source": [
    "## Genome-wide SFS"
   ]
  },
  {
   "cell_type": "code",
   "execution_count": null,
   "id": "245d7d55",
   "metadata": {},
   "outputs": [],
   "source": [
    "sfs_folded_brooders <- c(4566926, 2007056, 1234187,  880260,  663499,  534727,  444250,  373074,  316044, 275880,  242370,  212232,  187422,  167411,  151314,  137693,  125927,  116394,  106678, 100001,   91609,   85951,   80708,   76257,   71507,   67415,   64468,   61230,   59195, 55261,   52643,   51158,   48436,   46995,   45751,   43591,   42445,   40517,   38970, 38532,   37506,   36191,   35175,   33957,   33141,   32571,   31768,   31565,   30485, 29524,   29449,   28915,   28043,   27787,   27237,   26770,   26355,   25900,   25647,   25337,   25111,   24662,   24734,   24689,   24498,   24369,   24071,   23935,   23709, 23960,   23544,   23077,   23686,   23178,   23308,   23328,   23921,   23646,  24461, 12933)\n",
    "sfs_folded_egglayers <- c(2856588, 1357510,  809996,  579725,  436923,  362702,  321576,  257678,  204031, 176815,  153589,  137330, 124974,  114072,  105734,   99703,   92188,  86228, 77735,   75187,   72985,   70686,   70205,   71246,   68526,   70100,   37234) \n",
    "arc <- c(756814, 357520, 219050, 159948, 124351, 103675,  87015,  75489,  64953,  56872, 50616, 46775,  42488,  39779,  35973,  34965,  32590,  31936,  31082,  30936,  15879)\n",
    "north <- c(986433, 451236, 272416, 187280, 138844, 108806,  87230,  72504,  61065,  53806,  48038,  43178, 39382, 36462,  33918,  32677,  31477,  29847,  29796, 29597,  15063)\n",
    "spain <- c(745474, 360294, 223519, 159547, 122630, 103056,  88604,  79592,  73134, 70199,  69336,  34374)\n",
    "comp <- c(577085, 289775, 198750, 93467)"
   ]
  },
  {
   "cell_type": "code",
   "execution_count": null,
   "id": "1bad2992",
   "metadata": {},
   "outputs": [],
   "source": [
    "### tajima D for these\n",
    "TajimaD(sfs_folded_brooders)\n",
    "TajimaD(sfs_folded_egglayers)\n",
    "\n",
    "print(\"\")\n",
    "\n",
    "TajimaD(arc)\n",
    "TajimaD(north)\n",
    "TajimaD(spain)\n",
    "TajimaD(comp)"
   ]
  },
  {
   "cell_type": "code",
   "execution_count": null,
   "id": "0a903fad",
   "metadata": {},
   "outputs": [],
   "source": [
    "barplot(arc)\n",
    "barplot(north)\n",
    "barplot(spain)\n",
    "barplot(comp)"
   ]
  }
 ],
 "metadata": {
  "kernelspec": {
   "display_name": "R",
   "language": "R",
   "name": "ir"
  },
  "language_info": {
   "codemirror_mode": "r",
   "file_extension": ".r",
   "mimetype": "text/x-r-source",
   "name": "R",
   "pygments_lexer": "r",
   "version": "4.1.3"
  }
 },
 "nbformat": 4,
 "nbformat_minor": 5
}
