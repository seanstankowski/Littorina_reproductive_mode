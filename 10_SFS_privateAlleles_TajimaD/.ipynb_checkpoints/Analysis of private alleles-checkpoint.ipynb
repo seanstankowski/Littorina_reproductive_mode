{
 "cells": [
  {
   "cell_type": "markdown",
   "id": "56638bce",
   "metadata": {},
   "source": [
    "# Private alleles and folded SFS"
   ]
  },
  {
   "cell_type": "markdown",
   "id": "236dba1e",
   "metadata": {},
   "source": [
    "## Read in data and load packges"
   ]
  },
  {
   "cell_type": "code",
   "execution_count": 393,
   "id": "c2596a27",
   "metadata": {},
   "outputs": [
    {
     "data": {
      "text/html": [
       "<table class=\"dataframe\">\n",
       "<caption>A data.frame: 5 × 112</caption>\n",
       "<thead>\n",
       "\t<tr><th></th><th scope=col>entry_order</th><th scope=col>contig</th><th scope=col>cont</th><th scope=col>site</th><th scope=col>SP_1</th><th scope=col>SP_2</th><th scope=col>SP_3</th><th scope=col>SP_4</th><th scope=col>SP_5</th><th scope=col>SP_6</th><th scope=col>⋯</th><th scope=col>ARC_19</th><th scope=col>ARC_20</th><th scope=col>ARC_21</th><th scope=col>ARC_22</th><th scope=col>ARC_23</th><th scope=col>ARC_24</th><th scope=col>C_1</th><th scope=col>C_2</th><th scope=col>C_3</th><th scope=col>C_4</th></tr>\n",
       "\t<tr><th></th><th scope=col>&lt;int&gt;</th><th scope=col>&lt;chr&gt;</th><th scope=col>&lt;int&gt;</th><th scope=col>&lt;int&gt;</th><th scope=col>&lt;int&gt;</th><th scope=col>&lt;int&gt;</th><th scope=col>&lt;int&gt;</th><th scope=col>&lt;int&gt;</th><th scope=col>&lt;int&gt;</th><th scope=col>&lt;int&gt;</th><th scope=col>⋯</th><th scope=col>&lt;int&gt;</th><th scope=col>&lt;int&gt;</th><th scope=col>&lt;int&gt;</th><th scope=col>&lt;int&gt;</th><th scope=col>&lt;int&gt;</th><th scope=col>&lt;int&gt;</th><th scope=col>&lt;int&gt;</th><th scope=col>&lt;int&gt;</th><th scope=col>&lt;int&gt;</th><th scope=col>&lt;int&gt;</th></tr>\n",
       "</thead>\n",
       "<tbody>\n",
       "\t<tr><th scope=row>1</th><td>1312</td><td>Contig3970  </td><td>1312</td><td>  483</td><td>2</td><td>2</td><td>2</td><td>2</td><td>2</td><td>2</td><td>⋯</td><td>2</td><td>2</td><td>2</td><td>2</td><td>2</td><td>2</td><td>2</td><td>2</td><td>2</td><td>2</td></tr>\n",
       "\t<tr><th scope=row>2</th><td>1381</td><td>Contig3970  </td><td>1381</td><td> 1863</td><td>2</td><td>2</td><td>2</td><td>2</td><td>2</td><td>2</td><td>⋯</td><td>2</td><td>2</td><td>2</td><td>2</td><td>2</td><td>2</td><td>2</td><td>2</td><td>2</td><td>2</td></tr>\n",
       "\t<tr><th scope=row>3</th><td>2461</td><td>Contig43562 </td><td>2461</td><td>39372</td><td>2</td><td>2</td><td>2</td><td>2</td><td>2</td><td>2</td><td>⋯</td><td>2</td><td>2</td><td>2</td><td>2</td><td>2</td><td>2</td><td>2</td><td>2</td><td>2</td><td>2</td></tr>\n",
       "\t<tr><th scope=row>4</th><td>9073</td><td>Contig173651</td><td>9073</td><td> 2208</td><td>2</td><td>2</td><td>2</td><td>2</td><td>2</td><td>2</td><td>⋯</td><td>2</td><td>2</td><td>2</td><td>2</td><td>2</td><td>2</td><td>2</td><td>2</td><td>2</td><td>2</td></tr>\n",
       "\t<tr><th scope=row>5</th><td>5681</td><td>Contig67554 </td><td>5681</td><td> 5511</td><td>2</td><td>2</td><td>2</td><td>2</td><td>2</td><td>2</td><td>⋯</td><td>2</td><td>2</td><td>2</td><td>2</td><td>2</td><td>2</td><td>2</td><td>2</td><td>2</td><td>2</td></tr>\n",
       "</tbody>\n",
       "</table>\n"
      ],
      "text/latex": [
       "A data.frame: 5 × 112\n",
       "\\begin{tabular}{r|lllllllllllllllllllll}\n",
       "  & entry\\_order & contig & cont & site & SP\\_1 & SP\\_2 & SP\\_3 & SP\\_4 & SP\\_5 & SP\\_6 & ⋯ & ARC\\_19 & ARC\\_20 & ARC\\_21 & ARC\\_22 & ARC\\_23 & ARC\\_24 & C\\_1 & C\\_2 & C\\_3 & C\\_4\\\\\n",
       "  & <int> & <chr> & <int> & <int> & <int> & <int> & <int> & <int> & <int> & <int> & ⋯ & <int> & <int> & <int> & <int> & <int> & <int> & <int> & <int> & <int> & <int>\\\\\n",
       "\\hline\n",
       "\t1 & 1312 & Contig3970   & 1312 &   483 & 2 & 2 & 2 & 2 & 2 & 2 & ⋯ & 2 & 2 & 2 & 2 & 2 & 2 & 2 & 2 & 2 & 2\\\\\n",
       "\t2 & 1381 & Contig3970   & 1381 &  1863 & 2 & 2 & 2 & 2 & 2 & 2 & ⋯ & 2 & 2 & 2 & 2 & 2 & 2 & 2 & 2 & 2 & 2\\\\\n",
       "\t3 & 2461 & Contig43562  & 2461 & 39372 & 2 & 2 & 2 & 2 & 2 & 2 & ⋯ & 2 & 2 & 2 & 2 & 2 & 2 & 2 & 2 & 2 & 2\\\\\n",
       "\t4 & 9073 & Contig173651 & 9073 &  2208 & 2 & 2 & 2 & 2 & 2 & 2 & ⋯ & 2 & 2 & 2 & 2 & 2 & 2 & 2 & 2 & 2 & 2\\\\\n",
       "\t5 & 5681 & Contig67554  & 5681 &  5511 & 2 & 2 & 2 & 2 & 2 & 2 & ⋯ & 2 & 2 & 2 & 2 & 2 & 2 & 2 & 2 & 2 & 2\\\\\n",
       "\\end{tabular}\n"
      ],
      "text/markdown": [
       "\n",
       "A data.frame: 5 × 112\n",
       "\n",
       "| <!--/--> | entry_order &lt;int&gt; | contig &lt;chr&gt; | cont &lt;int&gt; | site &lt;int&gt; | SP_1 &lt;int&gt; | SP_2 &lt;int&gt; | SP_3 &lt;int&gt; | SP_4 &lt;int&gt; | SP_5 &lt;int&gt; | SP_6 &lt;int&gt; | ⋯ ⋯ | ARC_19 &lt;int&gt; | ARC_20 &lt;int&gt; | ARC_21 &lt;int&gt; | ARC_22 &lt;int&gt; | ARC_23 &lt;int&gt; | ARC_24 &lt;int&gt; | C_1 &lt;int&gt; | C_2 &lt;int&gt; | C_3 &lt;int&gt; | C_4 &lt;int&gt; |\n",
       "|---|---|---|---|---|---|---|---|---|---|---|---|---|---|---|---|---|---|---|---|---|---|\n",
       "| 1 | 1312 | Contig3970   | 1312 |   483 | 2 | 2 | 2 | 2 | 2 | 2 | ⋯ | 2 | 2 | 2 | 2 | 2 | 2 | 2 | 2 | 2 | 2 |\n",
       "| 2 | 1381 | Contig3970   | 1381 |  1863 | 2 | 2 | 2 | 2 | 2 | 2 | ⋯ | 2 | 2 | 2 | 2 | 2 | 2 | 2 | 2 | 2 | 2 |\n",
       "| 3 | 2461 | Contig43562  | 2461 | 39372 | 2 | 2 | 2 | 2 | 2 | 2 | ⋯ | 2 | 2 | 2 | 2 | 2 | 2 | 2 | 2 | 2 | 2 |\n",
       "| 4 | 9073 | Contig173651 | 9073 |  2208 | 2 | 2 | 2 | 2 | 2 | 2 | ⋯ | 2 | 2 | 2 | 2 | 2 | 2 | 2 | 2 | 2 | 2 |\n",
       "| 5 | 5681 | Contig67554  | 5681 |  5511 | 2 | 2 | 2 | 2 | 2 | 2 | ⋯ | 2 | 2 | 2 | 2 | 2 | 2 | 2 | 2 | 2 | 2 |\n",
       "\n"
      ],
      "text/plain": [
       "  entry_order contig       cont site  SP_1 SP_2 SP_3 SP_4 SP_5 SP_6 ⋯ ARC_19\n",
       "1 1312        Contig3970   1312   483 2    2    2    2    2    2    ⋯ 2     \n",
       "2 1381        Contig3970   1381  1863 2    2    2    2    2    2    ⋯ 2     \n",
       "3 2461        Contig43562  2461 39372 2    2    2    2    2    2    ⋯ 2     \n",
       "4 9073        Contig173651 9073  2208 2    2    2    2    2    2    ⋯ 2     \n",
       "5 5681        Contig67554  5681  5511 2    2    2    2    2    2    ⋯ 2     \n",
       "  ARC_20 ARC_21 ARC_22 ARC_23 ARC_24 C_1 C_2 C_3 C_4\n",
       "1 2      2      2      2      2      2   2   2   2  \n",
       "2 2      2      2      2      2      2   2   2   2  \n",
       "3 2      2      2      2      2      2   2   2   2  \n",
       "4 2      2      2      2      2      2   2   2   2  \n",
       "5 2      2      2      2      2      2   2   2   2  "
      ]
     },
     "metadata": {},
     "output_type": "display_data"
    }
   ],
   "source": [
    "## set working dir\n",
    "setwd(\"/Users/sstankow/Documents/GitHub/Littorina_reproductive_mode/012plot_privateAlleles\")\n",
    "\n",
    "## load data\n",
    "data <- read.csv(\"012_For_R_analysis.csv\", header=TRUE)\n",
    "\n",
    "## Install packages\n",
    "library(tidyverse)\n",
    "library(dplyr)\n",
    "library(DescTools)\n",
    "\n",
    "head(data,5)"
   ]
  },
  {
   "cell_type": "markdown",
   "id": "565475e7",
   "metadata": {},
   "source": [
    "## Function for calcuting Tajimas D"
   ]
  },
  {
   "cell_type": "code",
   "execution_count": 394,
   "id": "1712478c",
   "metadata": {},
   "outputs": [],
   "source": [
    " TajimaD <- function(sfs){\n",
    "    #' sfs (site frequency spectrum): number of singletons, doubletons, ..., etc\n",
    "    n <- length(sfs) + 1\n",
    "    ss <- sum(sfs)\n",
    "    a1 <- sum(1 / seq_len(n-1))\n",
    "    a2 <- sum(1 / seq_len(n-1)^2)\n",
    "    b1 <- (n + 1) / (3 * (n - 1))\n",
    "    b2 <- 2 * (n^2 + n + 3)/(9 * n * (n - 1))\n",
    "    c1 <- b1 - 1/a1\n",
    "    c2 <- b2 - (n + 2)/(a1 * n) + a2 / a1^2\n",
    "    e1 <- c1 / a1\n",
    "    e2 <- c2 / (a1^2 + a2)\n",
    "    Vd <- e1 * ss + e2 * ss * (ss - 1) \n",
    "    theta_pi <- sum(2 * seq_len(n-1) * (n - seq_len(n-1)) * sfs)/(n*(n-1))\n",
    "    theta_w <- ss / a1\n",
    "    res <- (theta_pi - theta_w) / sqrt(Vd)\n",
    "    return(res)\n",
    "}\n",
    "\n",
    "## usage \n",
    "##TajimaD(\"vector of folded sfs\")"
   ]
  },
  {
   "cell_type": "markdown",
   "id": "9455179a",
   "metadata": {},
   "source": [
    "## Egg-layers and brooders"
   ]
  },
  {
   "cell_type": "markdown",
   "id": "6367b816",
   "metadata": {},
   "source": [
    "### Calculate a bunch of new summary variables"
   ]
  },
  {
   "cell_type": "code",
   "execution_count": 395,
   "id": "b099b82a",
   "metadata": {},
   "outputs": [],
   "source": [
    "## for rerence of the columns that contain data for the key groups that we want to work with\n",
    "\n",
    "#data[85:112] ## egg-layers\n",
    "#data[5:84] ## brooders\n",
    "#data[109:112] ## compressa\n",
    "#data[85:108] ## arcana\n",
    "#data[17:84] ## north\n",
    "#data[5:16]  ## spain  "
   ]
  },
  {
   "cell_type": "code",
   "execution_count": 396,
   "id": "5e8b1892",
   "metadata": {},
   "outputs": [],
   "source": [
    "#Set up same variables for total allele count for each groups\n",
    "n_egg <- 28\n",
    "n_brood <- 80\n",
    "n_spain <- 12\n",
    "n_north <- 68"
   ]
  },
  {
   "cell_type": "markdown",
   "id": "135acf25",
   "metadata": {},
   "source": [
    "Starting with brooders and egg-layers caculate the counts of the ref and alt alleles. The values of the genotypes are as follows: <br>\n",
    "Hom ref = 0 <br>\n",
    "Hom alt = 2 <br>\n",
    "Het = 1 <br>\n",
    "Therfore, the count for the alt alelle for a locus is just is the sum of of all of the genotypes, and for the ref alelle 2n-sumAlt. The frequencies of both allele classes is just the countAlt(Ref)/2n\n"
   ]
  },
  {
   "cell_type": "code",
   "execution_count": 397,
   "id": "c86a05e7",
   "metadata": {},
   "outputs": [],
   "source": [
    "## egg-layers\n",
    "data <- data %>% mutate(alt_count_egg = rowSums(.[85:112]))\n",
    "data <- data %>% mutate(ref_count_egg = 2*n_egg - rowSums(.[85:112]))\n",
    "data <- data %>% mutate(p_alt_egg = alt_count_egg/(2*n_egg))\n",
    "data <- data %>% mutate(p_ref_egg = ref_count_egg/(2*n_egg))\n",
    "## brooders \n",
    "data <- data %>% mutate(alt_count_brood = rowSums(.[5:84]))\n",
    "data <- data %>% mutate(ref_count_brood = 2*n_brood - rowSums(.[5:84]))\n",
    "data <- data %>% mutate(p_alt_brood = alt_count_brood/(2*n_brood))\n",
    "data <- data %>% mutate(p_ref_brood = ref_count_brood/(2*n_brood))\n",
    "## north \n",
    "data <- data %>% mutate(alt_count_north = rowSums(.[17:84]))\n",
    "data <- data %>% mutate(ref_count_north = 2*n_north - rowSums(.[17:84]))\n",
    "data <- data %>% mutate(p_alt_north = alt_count_north/(2*n_north))\n",
    "data <- data %>% mutate(p_ref_north = ref_count_north/(2*n_north))\n",
    "## spain\n",
    "data <- data %>% mutate(alt_count_spain = rowSums(.[5:16]))\n",
    "data <- data %>% mutate(ref_count_spain = 2*n_spain - rowSums(.[5:16]))\n",
    "data <- data %>% mutate(p_alt_spain = alt_count_spain/(2*n_spain))\n",
    "data <- data %>% mutate(p_ref_spain = ref_count_spain/(2*n_spain))"
   ]
  },
  {
   "cell_type": "code",
   "execution_count": 398,
   "id": "81535f91",
   "metadata": {},
   "outputs": [],
   "source": [
    "## for each locus we may as well just calucate the minor count for egg and brood as we will need these later\n",
    "data <- data %>% rowwise() %>% mutate(minor_count_egg = min(alt_count_egg,ref_count_egg))\n",
    "data <- data %>% rowwise() %>% mutate(minor_count_brood = min(alt_count_brood,ref_count_brood))\n",
    "data <- data %>% rowwise() %>% mutate(minor_count_north = min(alt_count_north,ref_count_north))\n",
    "data <- data %>% rowwise() %>% mutate(minor_count_spain = min(alt_count_spain,ref_count_spain))"
   ]
  },
  {
   "cell_type": "markdown",
   "id": "13797500",
   "metadata": {},
   "source": [
    "## Identifying private alleles"
   ]
  },
  {
   "cell_type": "markdown",
   "id": "5ebfb80d",
   "metadata": {},
   "source": [
    "Now that we have the counts of alleles for the brooders and egglayers, we can identify aleles that are private to one of the groups (either egg-layers or brooders). "
   ]
  },
  {
   "cell_type": "code",
   "execution_count": 399,
   "id": "bedf3d34",
   "metadata": {},
   "outputs": [],
   "source": [
    "data <- data %>% mutate(priv_in = case_when(\n",
    "                           p_alt_egg ==1 & p_alt_brood==0 ~ 'fixed',\n",
    "                           p_alt_egg ==0 & p_alt_brood==1 ~ 'fixed',\n",
    "                           p_alt_egg > 0 & p_ref_egg > 0 & p_alt_brood > 0 & p_ref_brood > 0 ~ 'shared',\n",
    "                           p_alt_egg == 0 & p_alt_brood > 0 & p_alt_brood < 1 ~ 'brood',\n",
    "                           p_ref_egg == 0 & p_ref_brood > 0 & p_ref_brood < 1~ 'brood',\n",
    "                           p_alt_brood == 0 & p_alt_egg > 0 & p_alt_egg < 1 ~ 'egg',\n",
    "                           p_ref_brood == 0 & p_ref_egg > 0 & p_alt_egg < 1 ~ 'egg'))\n"
   ]
  },
  {
   "cell_type": "markdown",
   "id": "fb771928",
   "metadata": {},
   "source": [
    "And here are the counts of private alleles in egg-layers and broorders, as well as the fixed diffrences and number of loci where both alleles are shared between the groups."
   ]
  },
  {
   "cell_type": "code",
   "execution_count": 400,
   "id": "76bbe3b3",
   "metadata": {},
   "outputs": [
    {
     "data": {
      "text/plain": [
       "\n",
       " brood    egg  fixed shared \n",
       "  3734   4715    269    761 "
      ]
     },
     "metadata": {},
     "output_type": "display_data"
    }
   ],
   "source": [
    "table(data$priv_in)"
   ]
  },
  {
   "cell_type": "markdown",
   "id": "8e87ec60",
   "metadata": {},
   "source": [
    "### Obtianing the foldded sfs for the egg layers and brooders"
   ]
  },
  {
   "cell_type": "code",
   "execution_count": 477,
   "id": "aec22de3",
   "metadata": {},
   "outputs": [
    {
     "data": {
      "text/html": [
       "-0.241088304370185"
      ],
      "text/latex": [
       "-0.241088304370185"
      ],
      "text/markdown": [
       "-0.241088304370185"
      ],
      "text/plain": [
       "[1] -0.2410883"
      ]
     },
     "metadata": {},
     "output_type": "display_data"
    }
   ],
   "source": [
    "## So here we are just computing a histogram of the minor allele counts for the group exlucing the monomorphic sites\n",
    "egg.hist.info <- hist(data$minor_count_egg[data$minor_count_egg > 0],  breaks = seq(0, n_egg, length.out = n_egg+1), plot=FALSE)\n",
    "eggSFS <- as.vector(egg.hist.info$counts)\n",
    "eggTotal <- sum(eggSFS)\n",
    "\n",
    "propEgg <- c()\n",
    "seq <- c(1:n_egg)\n",
    "for (i in seq){\n",
    "   temp <-eggSFS[i]/eggTotal\n",
    "propEgg[i]<-temp\n",
    "}\n",
    "## tajimas D\n",
    "tajEgg <- TajimaD(eggSFS)\n",
    "tajEgg\n"
   ]
  },
  {
   "cell_type": "code",
   "execution_count": 478,
   "id": "ff90d357",
   "metadata": {},
   "outputs": [
    {
     "data": {
      "text/html": [
       "-1.89257856307759"
      ],
      "text/latex": [
       "-1.89257856307759"
      ],
      "text/markdown": [
       "-1.89257856307759"
      ],
      "text/plain": [
       "[1] -1.892579"
      ]
     },
     "metadata": {},
     "output_type": "display_data"
    }
   ],
   "source": [
    "## same for brooders\n",
    "brood.hist.info <- hist(data$minor_count_brood[data$minor_count_brood > 0],  breaks = seq(0, n_brood, length.out = n_brood+1),plot=FALSE)\n",
    "broodSFS <- as.vector(brood.hist.info$counts)\n",
    "broodTotal <- sum(broodSFS)\n",
    "\n",
    "propBrood <- c()\n",
    "seq <- c(1:n_brood)\n",
    "for (i in seq){\n",
    "   temp <-broodSFS[i]/broodTotal\n",
    "propBrood[i]<-temp\n",
    "}\n",
    "\n",
    "tajBrood <- TajimaD(broodSFS)\n",
    "tajBrood\n"
   ]
  },
  {
   "cell_type": "code",
   "execution_count": 484,
   "id": "7a7722c6",
   "metadata": {},
   "outputs": [
    {
     "data": {
      "text/html": [
       "-1.74703161448074"
      ],
      "text/latex": [
       "-1.74703161448074"
      ],
      "text/markdown": [
       "-1.74703161448074"
      ],
      "text/plain": [
       "[1] -1.747032"
      ]
     },
     "metadata": {},
     "output_type": "display_data"
    }
   ],
   "source": [
    "## now north\n",
    "north.hist.info <- hist(data$minor_count_north[data$minor_count_north > 0],  breaks = seq(0, n_north, length.out = n_north+1),,plot=FALSE)\n",
    "northSFS <- as.vector(north.hist.info$counts)\n",
    "northTotal <- sum(northSFS)\n",
    "\n",
    "propNorth <- c()\n",
    "seq <- c(1:n_north)\n",
    "for (i in seq){\n",
    "   temp <-northSFS[i]/northTotal\n",
    "propNorth[i]<-temp\n",
    "}\n",
    "\n",
    "tajNorth <- TajimaD(northSFS)\n",
    "tajNorth\n"
   ]
  },
  {
   "cell_type": "code",
   "execution_count": 486,
   "id": "57308acb",
   "metadata": {},
   "outputs": [
    {
     "data": {
      "text/html": [
       "-0.589612745535338"
      ],
      "text/latex": [
       "-0.589612745535338"
      ],
      "text/markdown": [
       "-0.589612745535338"
      ],
      "text/plain": [
       "[1] -0.5896127"
      ]
     },
     "metadata": {},
     "output_type": "display_data"
    }
   ],
   "source": [
    "## and spain \n",
    "spain.hist.info <- hist(data$minor_count_spain[data$minor_count_spain > 0],  breaks = seq(0, n_spain, length.out = n_spain+1),,plot=FALSE)\n",
    "spainSFS <- as.vector(spain.hist.info$counts)\n",
    "spainTotal <- sum(spainSFS)\n",
    "\n",
    "propSpain <- c()\n",
    "seq <- c(1:n_spain)\n",
    "for (i in seq){\n",
    "   temp <-spainSFS[i]/spainTotal\n",
    "propSpain[i]<-temp\n",
    "}\n",
    "\n",
    "tajSpain <- TajimaD(spainSFS)\n",
    "tajSpain"
   ]
  },
  {
   "cell_type": "code",
   "execution_count": 489,
   "id": "d0731029",
   "metadata": {},
   "outputs": [
    {
     "data": {
      "text/html": [
       "<strong>pdf:</strong> 2"
      ],
      "text/latex": [
       "\\textbf{pdf:} 2"
      ],
      "text/markdown": [
       "**pdf:** 2"
      ],
      "text/plain": [
       "pdf \n",
       "  2 "
      ]
     },
     "metadata": {},
     "output_type": "display_data"
    }
   ],
   "source": [
    "### make a plot of all four spectra\n",
    "#Open a pdf file\n",
    "pdf(\"brood_egg_full_spectra.pdf\", width = 10, height = 10) \n",
    "par(mfrow=c(2,2))\n",
    "barplot(propEgg, ylim=c(0,0.5), beside = TRUE)\n",
    "barplot(propBrood, ylim=c(0,0.5), beside = TRUE)\n",
    "barplot(propNorth, ylim=c(0,0.5), beside = TRUE)\n",
    "barplot(propSpain, ylim=c(0,0.5), beside = TRUE)\n",
    "#Close the pdf file\n",
    "dev.off() "
   ]
  },
  {
   "cell_type": "code",
   "execution_count": null,
   "id": "bd746f3b",
   "metadata": {},
   "outputs": [],
   "source": []
  },
  {
   "cell_type": "markdown",
   "id": "23e1b5f5",
   "metadata": {},
   "source": [
    "## Bootstrapping the estimates of Tajima's D"
   ]
  },
  {
   "cell_type": "markdown",
   "id": "d70e02e4",
   "metadata": {},
   "source": [
    "We will now produce bootstrap replicates by resampling each group n times and estimating Tajima's D for each resampled dataset.  "
   ]
  },
  {
   "cell_type": "code",
   "execution_count": 12,
   "id": "1c220e62",
   "metadata": {},
   "outputs": [
    {
     "data": {
      "text/plain": [
       "Time difference of 58.38097 secs"
      ]
     },
     "metadata": {},
     "output_type": "display_data"
    }
   ],
   "source": [
    "### egg-layers first\n",
    "start.time <- Sys.time()\n",
    "### start with empty vectors to catch variables\n",
    "boot_egg_tajimaD <- c()\n",
    "### set number of terms\n",
    "n_perms <- 1000\n",
    "\n",
    "for(i in 1:n_perms){\n",
    "### sample n egglayers \n",
    "set.seed(i+2)\n",
    "egg_D_sample <- data[,sample(85:112,28, replace=T)]\n",
    "colnames(egg_D_sample) <-c(1:28)\n",
    "\n",
    "### convert to a dataframe\n",
    "egg_D_sample <- as.data.frame(egg_D_sample)\n",
    "\n",
    "### calculate allele counts and proportions\n",
    "egg_D_sample <- egg_D_sample %>% mutate(alt_count = rowSums(.[1:28]))\n",
    "egg_D_sample <- egg_D_sample %>% mutate(ref_count = (56) - rowSums(.[1:28]))\n",
    "egg_D_sample <- egg_D_sample %>% mutate(p_alt = alt_count/(56))\n",
    "egg_D_sample <- egg_D_sample %>% mutate(p_ref = ref_count/(56))\n",
    "\n",
    "## and the minor counts\n",
    "egg_D_sample <- egg_D_sample %>% rowwise() %>% mutate(minor_count = min(alt_count,ref_count))\n",
    "\n",
    "### produce folded sfs and calc Tajima's D\n",
    "temp_hist <- hist(egg_D_sample$minor_count[egg_D_sample$minor_count > 0], breaks = seq(0, 28, length.out = 29),plot=FALSE)\n",
    "tempSFS <- as.vector(temp_hist$counts)\n",
    "temp_tajima <- TajimaD(tempSFS)\n",
    "boot_egg_tajimaD[i] <- temp_tajima\n",
    "}\n",
    "### \n",
    "end.time <- Sys.time()\n",
    "time.taken <- end.time - start.time\n",
    "time.taken\n"
   ]
  },
  {
   "cell_type": "code",
   "execution_count": 13,
   "id": "987add90",
   "metadata": {},
   "outputs": [
    {
     "data": {
      "text/plain": [
       "Time difference of 1.105399 mins"
      ]
     },
     "metadata": {},
     "output_type": "display_data"
    }
   ],
   "source": [
    "### brooders next\n",
    "start.time <- Sys.time()\n",
    "### start with empty vectors to catch variables\n",
    "boot_brood_tajimaD <- c()\n",
    "### set number of terms\n",
    "n_perms <- 1000\n",
    "\n",
    "for(i in 1:n_perms){\n",
    "### sample n brooders\n",
    "set.seed(i+1)\n",
    "brood_D_sample <- data[,sample(5:84,80, replace=T)]\n",
    "colnames(brood_D_sample) <-c(1:80)\n",
    "\n",
    "### convert to a dataframe\n",
    "brood_D_sample <- as.data.frame(brood_D_sample)\n",
    "\n",
    "### calculate allele counts and proportions\n",
    "brood_D_sample <- brood_D_sample  %>% mutate(alt_count = rowSums(.[1:80]))\n",
    "brood_D_sample  <- brood_D_sample %>% mutate(ref_count = (160) - rowSums(.[1:80]))\n",
    "brood_D_sample  <- brood_D_sample %>% mutate(p_alt = alt_count/(160))\n",
    "brood_D_sample <- brood_D_sample %>% mutate(p_ref = ref_count/(160))\n",
    "\n",
    "## and the minor counts\n",
    "brood_D_sample <- brood_D_sample %>% rowwise() %>% mutate(minor_count = min(alt_count,ref_count))\n",
    "\n",
    "### produce folded sfs and calc Tajima's D\n",
    "temp_hist <- hist(brood_D_sample$minor_count[brood_D_sample$minor_count > 0], breaks = seq(0, 80, length.out = 81),plot=FALSE)\n",
    "tempSFS <- as.vector(temp_hist$counts)\n",
    "temp_tajima <- TajimaD(tempSFS)\n",
    "boot_brood_tajimaD[i] <- temp_tajima\n",
    "}\n",
    "### \n",
    "end.time <- Sys.time()\n",
    "time.taken <- end.time - start.time\n",
    "time.taken"
   ]
  },
  {
   "cell_type": "code",
   "execution_count": 14,
   "id": "34e4ccb6",
   "metadata": {},
   "outputs": [
    {
     "data": {
      "text/plain": [
       "Time difference of 1.071951 mins"
      ]
     },
     "metadata": {},
     "output_type": "display_data"
    }
   ],
   "source": [
    "## north next\n",
    "start.time <- Sys.time()\n",
    "### start with empty vectors to catch variables\n",
    "boot_north_tajimaD <- c()\n",
    "### set number of terms\n",
    "n_perms <- 1000\n",
    "\n",
    "for(i in 1:n_perms){\n",
    "### sample n north\n",
    "set.seed(i+1)\n",
    "north_D_sample <- data[,sample(17:84,68, replace=T)]\n",
    "colnames(north_D_sample) <-c(1:68)\n",
    "\n",
    "### convert to a dataframe\n",
    "north_D_sample <- as.data.frame(north_D_sample)\n",
    "\n",
    "### calculate allele counts and proportions\n",
    "north_D_sample <- north_D_sample  %>% mutate(alt_count = rowSums(.[1:68]))\n",
    "north_D_sample  <- north_D_sample %>% mutate(ref_count = (136) - rowSums(.[1:68]))\n",
    "north_D_sample  <- north_D_sample %>% mutate(p_alt = alt_count/(136))\n",
    "north_D_sample <- north_D_sample %>% mutate(p_ref = ref_count/(136))\n",
    "\n",
    "## and the minor counts\n",
    "north_D_sample <- north_D_sample %>% rowwise() %>% mutate(minor_count = min(alt_count,ref_count))\n",
    "\n",
    "### produce folded sfs and calc Tajima's D\n",
    "temp_hist <- hist(north_D_sample$minor_count[north_D_sample$minor_count > 0], breaks = seq(0, 68, length.out = 69),plot=FALSE)\n",
    "tempSFS <- as.vector(temp_hist$counts)\n",
    "temp_tajima <- TajimaD(tempSFS)\n",
    "boot_north_tajimaD[i] <- temp_tajima\n",
    "}\n",
    "### \n",
    "end.time <- Sys.time()\n",
    "time.taken <- end.time - start.time\n",
    "time.taken"
   ]
  },
  {
   "cell_type": "code",
   "execution_count": 15,
   "id": "a7b5d98f",
   "metadata": {},
   "outputs": [
    {
     "data": {
      "text/plain": [
       "Time difference of 56.04894 secs"
      ]
     },
     "metadata": {},
     "output_type": "display_data"
    }
   ],
   "source": [
    "## spain next\n",
    "start.time <- Sys.time()\n",
    "### start with empty vectors to catch variables\n",
    "boot_spain_tajimaD <- c()\n",
    "### set number of terms\n",
    "n_perms <- 1000\n",
    "\n",
    "for(i in 1:n_perms){\n",
    "### sample n spain\n",
    "set.seed(i+1)\n",
    "spain_D_sample <- data[,sample(5:16,12, replace=T)]\n",
    "colnames(spain_D_sample) <-c(5:16)\n",
    "\n",
    "### convert to a dataframe\n",
    "spain_D_sample <- as.data.frame(spain_D_sample)\n",
    "\n",
    "### calculate allele counts and proportions\n",
    "spain_D_sample <- spain_D_sample  %>% mutate(alt_count = rowSums(.[1:12]))\n",
    "spain_D_sample  <- spain_D_sample %>% mutate(ref_count = (24) - rowSums(.[1:12]))\n",
    "spain_D_sample  <- spain_D_sample %>% mutate(p_alt = alt_count/(24))\n",
    "spain_D_sample <- spain_D_sample %>% mutate(p_ref = ref_count/(24))\n",
    "\n",
    "## and the minor counts\n",
    "spain_D_sample <- spain_D_sample %>% rowwise() %>% mutate(minor_count = min(alt_count,ref_count))\n",
    "\n",
    "### produce folded sfs and calc Tajima's D\n",
    "temp_hist <- hist(spain_D_sample$minor_count[spain_D_sample$minor_count > 0], breaks = seq(0, 12, length.out = 13),plot=FALSE)\n",
    "tempSFS <- as.vector(temp_hist$counts)\n",
    "temp_tajima <- TajimaD(tempSFS)\n",
    "boot_spain_tajimaD[i] <- temp_tajima\n",
    "}\n",
    "### \n",
    "end.time <- Sys.time()\n",
    "time.taken <- end.time - start.time\n",
    "time.taken"
   ]
  },
  {
   "cell_type": "code",
   "execution_count": 16,
   "id": "2f995e54",
   "metadata": {},
   "outputs": [
    {
     "data": {
      "image/png": "[encoded data removed]",
      "text/plain": [
       "Plot with title “”"
      ]
     },
     "metadata": {
      "image/png": {
       "height": 420,
       "width": 420
      }
     },
     "output_type": "display_data"
    }
   ],
   "source": [
    "#pdf(\"bootstrappedTajimasD.pdf\", width = 6.5, height = 6.5) \n",
    "par(mfrow=c(2,2))\n",
    "hist(boot_egg_tajimaD, breaks=50, xlim=c(-2,2), main=\"\", border=F)\n",
    "abline(v=tajEgg,col=\"red\")\n",
    "abline(v=mean(boot_egg_tajimaD), col=\"cyan\")\n",
    "hist(boot_brood_tajimaD, breaks=50, xlim=c(-2,2), main=\"\", border=F)\n",
    "abline(v=tajBrood,col=\"red\")\n",
    "abline(v=mean(boot_brood_tajimaD), col=\"cyan\")\n",
    "hist(boot_north_tajimaD, breaks=50, xlim=c(-2,2), main=\"\", border=F)\n",
    "abline(v=tajNorth,col=\"red\")\n",
    "abline(v=mean(boot_north_tajimaD), col=\"cyan\")\n",
    "hist(boot_spain_tajimaD, breaks=50, xlim=c(-2,2), main=\"\", border=F)\n",
    "abline(v=mean(boot_spain_tajimaD), col=\"cyan\")\n",
    "abline(v=tajSpain,col=\"red\")\n",
    "#dev.off() "
   ]
  },
  {
   "cell_type": "markdown",
   "id": "bf007d86",
   "metadata": {},
   "source": [
    "## Estimating proportions of private alleles: adjusting for differences in sample size by boostrapping"
   ]
  },
  {
   "cell_type": "markdown",
   "id": "d4a46c13",
   "metadata": {},
   "source": [
    "Here Im just getting the code worked out for a single replcate before I put all of this into a for-loop"
   ]
  },
  {
   "cell_type": "code",
   "execution_count": 19,
   "id": "13dc9cc5",
   "metadata": {},
   "outputs": [],
   "source": [
    "### sample 28 individuals from the northern group with replacement\n",
    "sample_north <- data[,sample(5:84,28, replace=T)]"
   ]
  },
  {
   "cell_type": "code",
   "execution_count": 39,
   "id": "1cf0a09e",
   "metadata": {},
   "outputs": [],
   "source": [
    "### sample the egg-layers\n",
    "egg_layers <- data[,sample(85:112,28, replace=T)]"
   ]
  },
  {
   "cell_type": "code",
   "execution_count": 21,
   "id": "47e3cf37",
   "metadata": {},
   "outputs": [],
   "source": [
    "#bind the dataframes together\n",
    "bound_data <- cbind(sample_north,egg_layers)\n",
    "## rename the individuals so they are uniqe as this is required for the calculations underneath\n",
    "colnames(bound_data) <-c(1:56)"
   ]
  },
  {
   "cell_type": "code",
   "execution_count": 22,
   "id": "0bc459b3",
   "metadata": {},
   "outputs": [],
   "source": [
    "##### now compute variables as above but specifying new ranges\n",
    "#bound_data[1:28] brooders\n",
    "#bound_data[29:56] egg-layers\n",
    "## egg-layers\n",
    "bound_data <- bound_data %>% mutate(alt_count_egg = rowSums(.[29:56]))\n",
    "bound_data <- bound_data %>% mutate(ref_count_egg = (56) - rowSums(.[29:56]))\n",
    "bound_data <- bound_data %>% mutate(p_alt_egg = alt_count_egg/(56))\n",
    "bound_data <- bound_data %>% mutate(p_ref_egg = ref_count_egg/(56))\n",
    "## brooders \n",
    "bound_data <- bound_data %>% mutate(alt_count_brood = rowSums(.[1:28]))\n",
    "bound_data <- bound_data %>% mutate(ref_count_brood = (56) - rowSums(.[1:28]))\n",
    "bound_data <- bound_data %>% mutate(p_alt_brood = alt_count_brood/(56))\n",
    "bound_data <- bound_data %>% mutate(p_ref_brood = ref_count_brood/(56))\n",
    "## and the minor counts\n",
    "bound_data <- bound_data %>% rowwise() %>% mutate(minor_count_egg = min(alt_count_egg,ref_count_egg))\n",
    "bound_data <- bound_data %>% rowwise() %>% mutate(minor_count_brood = min(alt_count_brood,ref_count_brood))\n"
   ]
  },
  {
   "cell_type": "code",
   "execution_count": 23,
   "id": "00fc147f",
   "metadata": {},
   "outputs": [],
   "source": [
    "### now classify the alleles\n",
    "bound_data <- bound_data %>% mutate(priv_in = case_when(\n",
    "                           p_alt_egg ==1 & p_alt_brood==0 ~ 'fixed',\n",
    "                           p_alt_egg ==0 & p_alt_brood==1 ~ 'fixed',\n",
    "                           p_alt_egg > 0 & p_ref_egg > 0 & p_alt_brood > 0 & p_ref_brood > 0 ~ 'shared',\n",
    "                           p_alt_egg == 0 & p_alt_brood > 0 & p_alt_brood < 1 ~ 'brood',\n",
    "                           p_ref_egg == 0 & p_ref_brood > 0 & p_ref_brood < 1~ 'brood',\n",
    "                           p_alt_brood == 0 & p_alt_egg > 0 & p_alt_egg < 1 ~ 'egg',\n",
    "                           p_ref_brood == 0 & p_ref_egg > 0 & p_alt_egg < 1 ~ 'egg'))"
   ]
  },
  {
   "cell_type": "code",
   "execution_count": 24,
   "id": "52e86a28",
   "metadata": {},
   "outputs": [],
   "source": [
    "boot_brood.hist.info <- hist(bound_data$minor_count_brood[bound_data$minor_count_brood > 0],  breaks = seq(0, 28, length.out = 29),,plot=FALSE)\n",
    "boot_broodSFS <- as.vector(boot_brood.hist.info$counts)\n",
    "boot_egg.hist.info <- hist(bound_data$minor_count_egg[bound_data$minor_count_egg > 0],  breaks = seq(0, 28, length.out = 29),,plot=FALSE)\n",
    "boot_eggSFS <- as.vector(boot_egg.hist.info$counts)\n",
    "joinedSFS <- cbind(boot_broodSFS,boot_eggSFS)\n",
    "g<-as.vector(GTest(joinedSFS))\n",
    "\n"
   ]
  },
  {
   "cell_type": "code",
   "execution_count": 25,
   "id": "0bd78184",
   "metadata": {},
   "outputs": [],
   "source": [
    "## calculate some summary stats\n",
    "#counts <- table(bound_data$priv_in)\n",
    "#pvt_brood <- counts[1]\n",
    "#pvt_egg <- counts[2]\n",
    "#fixed <- counts[3]\n",
    "#shared <- counts[4]\n",
    "#prop_pvt_brood <- pvt_brood/(pvt_brood+shared)\n",
    "#prop_pvt_egg <- pvt_egg/(pvt_egg+shared)\n",
    "#count_higher_egg <- pvt_egg > pvt_brood\n",
    "#prop_higer_egg <- prop_pvt_egg > prop_pvt_brood"
   ]
  },
  {
   "cell_type": "markdown",
   "id": "6618cfe2",
   "metadata": {},
   "source": [
    "## Obtianing a distribution of boostrap estimates using a for loop"
   ]
  },
  {
   "cell_type": "code",
   "execution_count": 247,
   "id": "a38a003f",
   "metadata": {},
   "outputs": [
    {
     "data": {
      "text/plain": [
       "Time difference of 45.52773 mins"
      ]
     },
     "metadata": {},
     "output_type": "display_data"
    }
   ],
   "source": [
    "## start a run clock\n",
    "start.time <- Sys.time()\n",
    "### start with empty vectors to catch variables\n",
    "pvt_brood_temp <- c()\n",
    "pvt_egg_temp <- c()\n",
    "fixed_temp <- c() \n",
    "shared_temp <- c()\n",
    "prop_pvt_brood_temp <- c()\n",
    "prop_pvt_egg_temp <- c()\n",
    "count_higher_egg_temp <- c()\n",
    "prop_higer_egg_temp <- c()\n",
    "Gtest_p <- c()\n",
    "\n",
    "### set number of permutations\n",
    "n_perms <- 1000\n",
    "for(i in 1:n_perms){\n",
    "\n",
    "### sample 28 individuals from the northern group with replacement\n",
    "set.seed(i) \n",
    "sample_brood <- data[,sample(5:84,28, replace=T)]\n",
    "\n",
    "### grab the egg-layers\n",
    "set.seed(i+1)\n",
    "egg_layers <- data[,sample(85:112,28, replace=T)]\n",
    "    \n",
    "#bind the dataframes together\n",
    "bound_data <- cbind(sample_brood,egg_layers)\n",
    "## rename the individuals so they are uniqe as this is required for the calculations underneath\n",
    "colnames(bound_data) <-c(1:56)\n",
    "    \n",
    "##### now compute variables as above but specifying new ranges\n",
    "#bound_data[1:28] brooders\n",
    "#bound_data[29:56] egg-layers\n",
    "## egg-layers\n",
    "bound_data <- bound_data %>% mutate(alt_count_egg = rowSums(.[29:56]))\n",
    "bound_data <- bound_data %>% mutate(ref_count_egg = (56) - rowSums(.[29:56]))\n",
    "bound_data <- bound_data %>% mutate(p_alt_egg = alt_count_egg/(56))\n",
    "bound_data <- bound_data %>% mutate(p_ref_egg = ref_count_egg/(56))\n",
    "## brooders \n",
    "bound_data <- bound_data %>% mutate(alt_count_brood = rowSums(.[1:28]))\n",
    "bound_data <- bound_data %>% mutate(ref_count_brood = (56) - rowSums(.[1:28]))\n",
    "bound_data <- bound_data %>% mutate(p_alt_brood = alt_count_brood/(56))\n",
    "bound_data <- bound_data %>% mutate(p_ref_brood = ref_count_brood/(56))\n",
    "\n",
    "    ## and the minor counts\n",
    "bound_data <- bound_data %>% rowwise() %>% mutate(minor_count_egg = min(alt_count_egg,ref_count_egg))\n",
    "bound_data <- bound_data %>% rowwise() %>% mutate(minor_count_brood = min(alt_count_brood,ref_count_brood))\n",
    "\n",
    "### now classify the alleles\n",
    "bound_data <- bound_data %>% mutate(priv_in = case_when(\n",
    "    p_alt_egg ==1 & p_alt_brood==0 ~ 'fixed',\n",
    "    p_alt_egg ==0 & p_alt_brood==1 ~ 'fixed',\n",
    "    p_alt_egg > 0 & p_ref_egg > 0 & p_alt_brood > 0 & p_ref_brood > 0 ~ 'shared',\n",
    "    p_alt_egg == 0 & p_alt_brood > 0 & p_alt_brood < 1 ~ 'brood',\n",
    "    p_ref_egg == 0 & p_ref_brood > 0 & p_ref_brood < 1~ 'brood',\n",
    "    p_alt_brood == 0 & p_alt_egg > 0 & p_alt_egg < 1 ~ 'egg',\n",
    "    p_ref_brood == 0 & p_ref_egg > 0 & p_alt_egg < 1 ~ 'egg'))\n",
    "\n",
    "## tabulate results\n",
    "counts <- table(bound_data$priv_in)    \n",
    "    \n",
    "## calculate some summary stats; could take this of the loop and calculate from the dataframe later\n",
    "pvt_brood <- counts[1]\n",
    "pvt_egg <- counts[2]\n",
    "fixed <- counts[3]\n",
    "shared <- counts[4]\n",
    "prop_pvt_brood <- pvt_brood/(pvt_brood+shared)\n",
    "prop_pvt_egg <- pvt_egg/(pvt_egg+shared)\n",
    "\n",
    "pvt_brood_temp[i] <- pvt_brood \n",
    "pvt_egg_temp[i] <- pvt_egg \n",
    "fixed_temp[i] <- fixed \n",
    "shared_temp[i] <- shared\n",
    "prop_pvt_brood_temp[i] <- prop_pvt_brood\n",
    "prop_pvt_egg_temp[i] <- prop_pvt_egg\n",
    "\n",
    "### compare the bootstrap sfs with a g-test\n",
    "boot_brood.hist.info <- hist(bound_data$minor_count_brood[bound_data$minor_count_brood > 0],  breaks = seq(0, 28, length.out = 29),plot=FALSE)\n",
    "boot_broodSFS <- as.vector(boot_brood.hist.info$counts)\n",
    "boot_egg.hist.info <- hist(bound_data$minor_count_egg[bound_data$minor_count_egg > 0],  breaks = seq(0, 28, length.out = 29),plot=FALSE)\n",
    "boot_eggSFS <- as.vector(boot_egg.hist.info$counts)\n",
    "joinedSFS <- cbind(boot_broodSFS,boot_eggSFS)\n",
    "g <- GTest(joinedSFS)\n",
    "Gtest_p[i]<-as.character(g[3]<0.05)\n",
    "}\n",
    "### \n",
    "end.time <- Sys.time()\n",
    "time.taken <- end.time - start.time\n",
    "time.taken"
   ]
  },
  {
   "cell_type": "code",
   "execution_count": 248,
   "id": "ea7bf56e",
   "metadata": {},
   "outputs": [],
   "source": [
    "bootstrap_out <- as.data.frame(cbind(pvt_brood_temp,pvt_egg_temp,fixed_temp,shared_temp,prop_pvt_brood_temp,prop_pvt_egg_temp))\n",
    "bootstrap_out <- bootstrap_out %>% mutate(diff_p_priv_EggBrood = prop_pvt_egg_temp - prop_pvt_brood_temp)\n",
    "bootstrap_out <- cbind(bootstrap_out,Gtest_p)\n",
    "#write.csv(bootstrap_out, \"bootstrap_out_broodEgg.csv\")"
   ]
  },
  {
   "cell_type": "code",
   "execution_count": 260,
   "id": "57e7114b",
   "metadata": {},
   "outputs": [
    {
     "data": {
      "text/plain": [
       "\n",
       "TRUE \n",
       "1000 "
      ]
     },
     "metadata": {},
     "output_type": "display_data"
    }
   ],
   "source": [
    "### summarise the results of the G-tests\n",
    "table(bootstrap_out$Gtest_p)"
   ]
  },
  {
   "cell_type": "markdown",
   "id": "4029edc1",
   "metadata": {},
   "source": [
    "So here all 1000 pairs of bootrapped spectra are singnificantly different according to G-tests"
   ]
  },
  {
   "cell_type": "markdown",
   "id": "703db33a",
   "metadata": {},
   "source": [
    "## Spain vs north"
   ]
  },
  {
   "cell_type": "markdown",
   "id": "a844141c",
   "metadata": {},
   "source": [
    "Now we need to do the same for north vs spain. There are 12 Spain individuals, so we can just use the code above, sampling only 12 north, and replacing the arcana group with the spain group and adjust the sample size in the calculations. Also, we can strict this analysis only to SNPs that are private to brooders that we identified in the previous analysis (subset by pvt_in)"
   ]
  },
  {
   "cell_type": "code",
   "execution_count": 249,
   "id": "1d4ece3f",
   "metadata": {},
   "outputs": [
    {
     "data": {
      "text/plain": [
       "Time difference of 13.82916 mins"
      ]
     },
     "metadata": {},
     "output_type": "display_data"
    }
   ],
   "source": [
    "start.time <- Sys.time()\n",
    "## redfine the datframe\n",
    "S_data <- subset(data, priv_in == \"brood\")\n",
    "\n",
    "### start with empty vectors to catch variables\n",
    "S_pvt_north_temp <- c()\n",
    "S_pvt_spain_temp <- c()\n",
    "S_shared_temp <- c()\n",
    "S_prop_pvt_north_temp <- c()\n",
    "S_prop_pvt_spain_temp <- c()\n",
    "S_count_higher_spain_temp <- c()\n",
    "S_prop_higer_spain_temp <- c()\n",
    "S_Gtest_p <- c()\n",
    "\n",
    "### set number of permutations\n",
    "n_perms <- 1000\n",
    "for(i in 1:n_perms){\n",
    "\n",
    "### sample 12 individuals from the northern group with replacement\n",
    "set.seed(i+4)\n",
    "sample_north <- S_data[,sample(17:84,12, replace=T)]\n",
    "### grab the spanish samples\n",
    "set.seed(i+4)\n",
    "spain <- S_data[,sample(5:16,12, replace=T)]\n",
    "\n",
    "### bind the data frames\n",
    "S_bound_data <- cbind(sample_north,spain)\n",
    "colnames(S_bound_data) <-c(1:24)\n",
    "\n",
    "## spain\n",
    "S_bound_data <- S_bound_data %>% mutate(alt_count_spain = rowSums(.[13:24]))\n",
    "S_bound_data <- S_bound_data %>% mutate(ref_count_spain = (24) - rowSums(.[13:24]))\n",
    "S_bound_data <- S_bound_data %>% mutate(p_alt_spain = alt_count_spain/(24))\n",
    "S_bound_data <- S_bound_data %>% mutate(p_ref_spain = ref_count_spain/(24))\n",
    "\n",
    "## north\n",
    "S_bound_data <- S_bound_data %>% mutate(alt_count_north = rowSums(.[1:12]))\n",
    "S_bound_data <- S_bound_data %>% mutate(ref_count_north = (24) - rowSums(.[1:12]))\n",
    "S_bound_data <- S_bound_data %>% mutate(p_alt_north = alt_count_north/(24))\n",
    "S_bound_data <- S_bound_data %>% mutate(p_ref_north = ref_count_north/(24))\n",
    "\n",
    "## and the minor counts\n",
    "S_bound_data <- S_bound_data %>% rowwise() %>% mutate(minor_count_spain = min(alt_count_spain,ref_count_spain))\n",
    "S_bound_data <- S_bound_data %>% rowwise() %>% mutate(minor_count_north = min(alt_count_north,ref_count_north))\n",
    "\n",
    "### now classify the alleles  ### removed teh fixed categories because this is very stochasitc and ruis the indexing\n",
    "S_bound_data <- S_bound_data %>% mutate(priv_in = case_when(\n",
    "    p_alt_spain > 0 & p_ref_spain > 0 & p_alt_north > 0 & p_ref_north > 0 ~ 'shared',\n",
    "    p_alt_spain == 0 & p_alt_north > 0 & p_alt_north < 1 ~ 'north',\n",
    "    p_ref_spain == 0 & p_ref_north > 0 & p_ref_north < 1~ 'north',\n",
    "    p_alt_north == 0 & p_alt_spain > 0 & p_alt_spain < 1 ~ 'spain',\n",
    "    p_ref_north == 0 & p_ref_spain > 0 & p_alt_spain < 1 ~ 'spain'))\n",
    "\n",
    "## tabulate results\n",
    "S_counts <- table(S_bound_data$priv_in)\n",
    "\n",
    "## calculate some summary stats; could Take this out of the loop and calculate from the dataframe later\n",
    "pvt_spain <- S_counts[3]\n",
    "pvt_north <- S_counts[1]\n",
    "shared <- S_counts[2]\n",
    "prop_pvt_north <- pvt_north/(pvt_north+shared)\n",
    "prop_pvt_spain <- pvt_spain/(pvt_spain+shared)\n",
    "count_higher_spain <- pvt_spain > pvt_north\n",
    "prop_higer_spain <- prop_pvt_spain > prop_pvt_north\n",
    "\n",
    "## Save these to variables\n",
    "S_pvt_north_temp[i] <- pvt_north\n",
    "S_pvt_spain_temp[i] <- pvt_spain \n",
    "S_shared_temp[i] <- shared\n",
    "S_prop_pvt_north_temp[i] <- prop_pvt_north\n",
    "S_prop_pvt_spain_temp[i] <- prop_pvt_spain\n",
    "S_count_higher_spain_temp[i] <- count_higher_spain\n",
    "S_prop_higer_spain_temp[i] <- prop_higer_spain\n",
    "    \n",
    "### compare the bootstrap sfs with a g-test\n",
    "boot_spain.hist.info <- hist(S_bound_data$minor_count_spain[S_bound_data$minor_count_spain > 0],  breaks = seq(0, 12, length.out = 13),plot=FALSE)\n",
    "boot_spainSFS <- as.vector(boot_spain.hist.info$counts)\n",
    "boot_north.hist.info <- hist(S_bound_data$minor_count_north[S_bound_data$minor_count_north > 0],  breaks = seq(0, 12, length.out = 13),plot=FALSE)\n",
    "boot_northSFS <- as.vector(boot_north.hist.info$counts)\n",
    "joinedSFS <- cbind(boot_spainSFS,boot_northSFS)\n",
    "g <- GTest(joinedSFS)\n",
    "S_Gtest_p [i]<-as.character(g[3]<0.05)\n",
    "}\n",
    "### \n",
    "end.time <- Sys.time()\n",
    "time.taken <- end.time - start.time\n",
    "time.taken"
   ]
  },
  {
   "cell_type": "code",
   "execution_count": 250,
   "id": "49b136be",
   "metadata": {},
   "outputs": [],
   "source": [
    "## print the file and save as a csv\n",
    "S_bootstrap_out <- as.data.frame(cbind(S_pvt_north_temp,S_pvt_spain_temp,S_shared_temp,S_prop_pvt_north_temp,S_prop_pvt_spain_temp,S_count_higher_spain_temp,S_prop_higer_spain_temp))\n",
    "S_bootstrap_out <- S_bootstrap_out %>% mutate(diff_p_priv_SpainNorth = S_prop_pvt_spain_temp - S_prop_pvt_north_temp)\n",
    "S_bootstrap_out <- cbind(S_bootstrap_out,S_Gtest_p)\n",
    "write.csv(S_bootstrap_out, \"bootstrap_out_SpainNorthAllVarSItes_pvtSPAINNORTHonly.csv\")\n",
    "\n"
   ]
  },
  {
   "cell_type": "code",
   "execution_count": 258,
   "id": "33f4bfb5",
   "metadata": {},
   "outputs": [
    {
     "data": {
      "text/plain": [
       "\n",
       "TRUE \n",
       "1000 "
      ]
     },
     "metadata": {},
     "output_type": "display_data"
    }
   ],
   "source": [
    "### summarise the results of the G-tests\n",
    "table(S_bootstrap_out$S_Gtest_p)\n"
   ]
  },
  {
   "cell_type": "markdown",
   "id": "725d35d5",
   "metadata": {},
   "source": [
    "So here, all 1000 boostrapped spectra are significantly different from one another according to the g-test"
   ]
  },
  {
   "cell_type": "markdown",
   "id": "41907813",
   "metadata": {},
   "source": [
    "## Make figures of private alleles in spain and north"
   ]
  },
  {
   "cell_type": "code",
   "execution_count": 253,
   "id": "2aecc558",
   "metadata": {},
   "outputs": [
    {
     "data": {
      "text/html": [
       "<strong>pdf:</strong> 2"
      ],
      "text/latex": [
       "\\textbf{pdf:} 2"
      ],
      "text/markdown": [
       "**pdf:** 2"
      ],
      "text/plain": [
       "pdf \n",
       "  2 "
      ]
     },
     "metadata": {},
     "output_type": "display_data"
    }
   ],
   "source": [
    "############# make pdf plots Pgroup1 - Pgroup2\n",
    "# Open a pdf file\n",
    "### first plots\n",
    "pdf(\"private_alleles_plt_final_pvrt_northSpainOnly.pdf\", width = 12, height = 6.5) \n",
    "\n",
    "par(mfrow=c(2,3))\n",
    "### one\n",
    "hist(bootstrap_out$pvt_egg_temp, xlim=c(0,6000), ylim=c(0,150), breaks=50, col=\"gray\",border=F, main=\"\")\n",
    "abline(v=(mean(bootstrap_out$pvt_egg_temp)), col=\"red\")\n",
    "hist(bootstrap_out$pvt_brood_temp, xlim=c(0,6000), ylim=c(0,320), breaks=37, col=\"yellow\",add=T,border=F, main=\"\")\n",
    "abline(v=(mean(bootstrap_out$pvt_brood_temp)), col=\"red\")\n",
    "\n",
    "### two \n",
    "hist(bootstrap_out$prop_pvt_egg_temp, xlim=c(0,1), breaks=10, col=\"red\",border=F, main=\"\")\n",
    "abline(v=(mean(bootstrap_out$prop_pvt_egg_temp)), col=\"red\")\n",
    "hist(bootstrap_out$prop_pvt_brood_temp, xlim=c(0,1), ylim=c(0,320), breaks=12, col=\"blue\",add=T,border=F, main=\"\")\n",
    "abline(v=(mean(bootstrap_out$prop_pvt_brood_temp)), col=\"red\")\n",
    "\n",
    "### three\n",
    "hist(bootstrap_out$diff_p_priv_EggBrood, xlim=c(-0.2,0.2), ylim=c(0,200), breaks=30, col=\"purple\", border=F, main=\"\")\n",
    "abline(v=0)\n",
    "abline(v=(mean(bootstrap_out$diff_p_priv_EggBrood)),col=\"red\")\n",
    "\n",
    "### four\n",
    "hist(S_bootstrap_out$S_pvt_north_temp, xlim=c(0,1500), breaks=20, col=\"gray\", border=F, main=\"\")\n",
    "abline(v=(mean(S_bootstrap_out$S_pvt_north_temp)), col=\"red\")\n",
    "hist(S_bootstrap_out$S_pvt_spain_temp, xlim=c(0,1500), breaks=20, col=\"green\", border=F,add=T, main=\"\")\n",
    "abline(v=(mean(S_bootstrap_out$S_pvt_spain_temp)), col=\"red\")\n",
    "\n",
    "### five\n",
    "hist(S_bootstrap_out$S_prop_pvt_spain_temp, xlim=c(0,1), breaks=20, border=\"gray\", col=\"gray\", main=\"\")\n",
    "abline(v=(mean(S_bootstrap_out$S_prop_pvt_spain_)), col=\"red\")\n",
    "hist(S_bootstrap_out$S_prop_pvt_north_temp, xlim=c(0,11), breaks=20, border=\"blue\", col=\"blue\",add=T, main=\"\")\n",
    "abline(v=(mean(S_bootstrap_out$S_prop_pvt_north_temp)), col=\"red\")\n",
    "\n",
    "### six\n",
    "### four\n",
    "hist(S_bootstrap_out$diff_p_priv_SpainNorth, xlim=c(-0.2,0.2), ylim=c(0,120), breaks=30, border=F, col=\"cyan\", main=\"\")\n",
    "abline(v=0)\n",
    "abline(v=(mean(S_bootstrap_out$diff_p_priv_SpainNorth)), col=\"red\")\n",
    "\n",
    "# Close the pdf file\n",
    "dev.off() "
   ]
  },
  {
   "cell_type": "markdown",
   "id": "1b343b3f",
   "metadata": {},
   "source": [
    "## making some scaled spectra for the main text"
   ]
  },
  {
   "cell_type": "markdown",
   "id": "255ecc17",
   "metadata": {},
   "source": [
    "The boostrapped spectra are useful for statistical testing, but the spectra are often not a good visual approximation for actualt spectra, becuase the sampling with replacement causes singletons to become doubletons. Here, for visulisation purposes, I will produce some spectra by downsampling without replacement the larger populaltion and using the actual individuals from the smaller population, which will allow better qualitaative comparison of how the spectra differ. Another issue is that the number of loci that are polymorhic in each group varies, so, rathern than plotting the counts, we need to scale each bar as a fraction of the total number of loci that sum to one. \n",
    "\n",
    "This is for all variable loci, not just the alleles that are private to each group"
   ]
  },
  {
   "cell_type": "code",
   "execution_count": 219,
   "id": "50429dd1",
   "metadata": {},
   "outputs": [
    {
     "data": {
      "text/html": [
       "-0.325554269713354"
      ],
      "text/latex": [
       "-0.325554269713354"
      ],
      "text/markdown": [
       "-0.325554269713354"
      ],
      "text/plain": [
       "[1] -0.3255543"
      ]
     },
     "metadata": {},
     "output_type": "display_data"
    },
    {
     "data": {
      "text/html": [
       "-1.76060916552097"
      ],
      "text/latex": [
       "-1.76060916552097"
      ],
      "text/markdown": [
       "-1.76060916552097"
      ],
      "text/plain": [
       "[1] -1.760609"
      ]
     },
     "metadata": {},
     "output_type": "display_data"
    },
    {
     "data": {
      "text/plain": [
       "\n",
       "\tLog likelihood ratio (G-test) test of independence without correction\n",
       "\n",
       "data:  bound.Spectra.counts\n",
       "G = 813.01, X-squared df = 27, p-value < 2.2e-16\n"
      ]
     },
     "metadata": {},
     "output_type": "display_data"
    }
   ],
   "source": [
    "######## take only alleles private to brooders or all egg layers \n",
    "data <- subset(data, priv_in == \"brood\" | priv_in == \"egg\")              ############ comment out to analyse all loci\n",
    "### sample 28 individuals from the northern group with replacement\n",
    "sample_north <- data[,sample(5:84,28)]\n",
    "### grab the egg-layers\n",
    "egg_layers <- data[85:112]\n",
    "#bind the dataframes together\n",
    "bound_data <- cbind(sample_north,egg_layers)\n",
    "## rename the individuals so they are unique as this is required for the calculations underneath\n",
    "colnames(bound_data) <-c(1:56)\n",
    "\n",
    "##### calculate some counts of major/minor alleles\n",
    "## egg-layers\n",
    "bound_data <- bound_data %>% mutate(alt_count_egg = rowSums(.[29:56]))\n",
    "bound_data <- bound_data %>% mutate(ref_count_egg = (56) - rowSums(.[29:56]))\n",
    "bound_data <- bound_data %>% mutate(p_alt_egg = alt_count_egg/(56))\n",
    "bound_data <- bound_data %>% mutate(p_ref_egg = ref_count_egg/(56))\n",
    "## brooders \n",
    "bound_data <- bound_data %>% mutate(alt_count_brood = rowSums(.[1:28]))\n",
    "bound_data <- bound_data %>% mutate(ref_count_brood = (56) - rowSums(.[1:28]))\n",
    "bound_data <- bound_data %>% mutate(p_alt_brood = alt_count_brood/(56))\n",
    "bound_data <- bound_data %>% mutate(p_ref_brood = ref_count_brood/(56))\n",
    "\n",
    "## and the minor allele counts\n",
    "bound_data <- bound_data %>% rowwise() %>% mutate(minor_count_egg = min(alt_count_egg,ref_count_egg))\n",
    "bound_data <- bound_data %>% rowwise() %>% mutate(minor_count_brood = min(alt_count_brood,ref_count_brood))\n",
    "\n",
    "## Compute the sfs for each population\n",
    "boot_brood.hist.info <- hist(bound_data$minor_count_brood[bound_data$minor_count_brood > 0],  breaks = seq(0, 28, length.out = 29),plot=FALSE)\n",
    "boot_broodSFS <- as.vector(boot_brood.hist.info$counts)\n",
    "boot_egg.hist.info <- hist(bound_data$minor_count_egg[bound_data$minor_count_egg > 0],  breaks = seq(0, 28, length.out = 29),plot=FALSE)\n",
    "boot_eggSFS <- as.vector(boot_egg.hist.info$counts)\n",
    "\n",
    "## we need to make beight of the bars of the percentage of the number of loci rather than the counts \n",
    "totalEgg <- sum(boot_eggSFS)\n",
    "prop_loci_egg <- c()\n",
    "seq <- c(1:28)\n",
    "for (i in seq){\n",
    "   temp <-boot_eggSFS[i]/totalEgg\n",
    "prop_loci_egg[i]<-temp\n",
    "}\n",
    "\n",
    "totalBrood <- sum(boot_broodSFS)\n",
    "prop_loci_brood <- c()\n",
    "seq <- c(1:28)\n",
    "for (i in seq){\n",
    "   temp <-boot_broodSFS[i]/totalBrood\n",
    "prop_loci_brood[i]<-temp\n",
    "}\n",
    "\n",
    "## calculate Tajima's D for them\n",
    "TajimaD(boot_eggSFS)\n",
    "TajimaD(boot_broodSFS)\n",
    "\n",
    "## Gtest of the spectra\n",
    "bound.Spectra <- cbind(prop_loci_brood,prop_loci_egg)\n",
    "bound.Spectra.counts <- cbind(boot_eggSFS,boot_broodSFS)\n",
    "GTest(bound.Spectra.counts) "
   ]
  },
  {
   "cell_type": "code",
   "execution_count": 256,
   "id": "536870ba",
   "metadata": {},
   "outputs": [
    {
     "data": {
      "image/png": "[encoded data removed]",
      "text/plain": [
       "plot without title"
      ]
     },
     "metadata": {
      "image/png": {
       "height": 420,
       "width": 420
      }
     },
     "output_type": "display_data"
    }
   ],
   "source": [
    "#pdf(\"boot_histograms.pdf_private_only\", width = 4, height = 4) \n",
    "par(mfrow=c(1,1))\n",
    "barplot(bound.Spectra, ylim=c(0,0.5), beside = TRUE)\n",
    "#dev.off() "
   ]
  },
  {
   "cell_type": "code",
   "execution_count": 472,
   "id": "aff83b8f",
   "metadata": {},
   "outputs": [
    {
     "data": {
      "text/html": [
       "-0.589612745535338"
      ],
      "text/latex": [
       "-0.589612745535338"
      ],
      "text/markdown": [
       "-0.589612745535338"
      ],
      "text/plain": [
       "[1] -0.5896127"
      ]
     },
     "metadata": {},
     "output_type": "display_data"
    },
    {
     "data": {
      "text/html": [
       "-1.13088649716614"
      ],
      "text/latex": [
       "-1.13088649716614"
      ],
      "text/markdown": [
       "-1.13088649716614"
      ],
      "text/plain": [
       "[1] -1.130886"
      ]
     },
     "metadata": {},
     "output_type": "display_data"
    },
    {
     "data": {
      "text/plain": [
       "\n",
       "\tLog likelihood ratio (G-test) test of independence without correction\n",
       "\n",
       "data:  bound.Spectra.counts\n",
       "G = 122.22, X-squared df = 11, p-value < 2.2e-16\n"
      ]
     },
     "metadata": {},
     "output_type": "display_data"
    }
   ],
   "source": [
    "### Sample 12 individuals from the northern group WITHOUT replacement\n",
    "sample_north <- data[,sample(17:84,12)]\n",
    "\n",
    "### grab the spanish samples\n",
    "spain <- data[5:16]\n",
    "\n",
    "### bind the data frames\n",
    "S_bound_data <- cbind(sample_north,spain)\n",
    "colnames(S_bound_data) <-c(1:24)\n",
    "\n",
    "## spain\n",
    "S_bound_data <- S_bound_data %>% mutate(alt_count_spain = rowSums(.[13:24]))\n",
    "S_bound_data <- S_bound_data %>% mutate(ref_count_spain = (24) - rowSums(.[13:24]))\n",
    "S_bound_data <- S_bound_data %>% mutate(p_alt_spain = alt_count_spain/(24))\n",
    "S_bound_data <- S_bound_data %>% mutate(p_ref_spain = ref_count_spain/(24))\n",
    "\n",
    "## north\n",
    "S_bound_data <- S_bound_data %>% mutate(alt_count_north = rowSums(.[1:12]))\n",
    "S_bound_data <- S_bound_data %>% mutate(ref_count_north = (24) - rowSums(.[1:12]))\n",
    "S_bound_data <- S_bound_data %>% mutate(p_alt_north = alt_count_north/(24))\n",
    "S_bound_data <- S_bound_data %>% mutate(p_ref_north = ref_count_north/(24))\n",
    "\n",
    "## and the minor counts\n",
    "S_bound_data <- S_bound_data %>% rowwise() %>% mutate(minor_count_spain = min(alt_count_spain,ref_count_spain))\n",
    "S_bound_data <- S_bound_data %>% rowwise() %>% mutate(minor_count_north = min(alt_count_north,ref_count_north))\n",
    "\n",
    "### now classify the alleles  ### removed the 'fixed' category because when not present this ruins the indexing\n",
    "S_bound_data <- S_bound_data %>% mutate(priv_in = case_when(\n",
    "    p_alt_spain > 0 & p_ref_spain > 0 & p_alt_north > 0 & p_ref_north > 0 ~ 'shared',\n",
    "    p_alt_spain == 0 & p_alt_north > 0 & p_alt_north < 1 ~ 'north',\n",
    "    p_ref_spain == 0 & p_ref_north > 0 & p_ref_north < 1~ 'north',\n",
    "    p_alt_north == 0 & p_alt_spain > 0 & p_alt_spain < 1 ~ 'spain',\n",
    "    p_ref_north == 0 & p_ref_spain > 0 & p_alt_spain < 1 ~ 'spain'))\n",
    "\n",
    "## Compute the sfs for each population\n",
    "## uncommment line below to analyse all polymorphic loci within groups\n",
    "boot_spain.hist.info <- hist(S_bound_data$minor_count_spain[S_bound_data$minor_count_spain > 0],  breaks = seq(0, 12, length.out = 13),plot=FALSE)\n",
    "## uncommment line below to analyse only alleles that are private in to group\n",
    "#boot_spain.hist.info <- hist(S_bound_data$minor_count_spain[S_bound_data$minor_count_spain > 0 & S_bound_data$priv_in=='spain'],  breaks = seq(0, 12, length.out = 13),plot=FALSE)\n",
    "boot_spainSFS <- as.vector(boot_spain.hist.info$counts)\n",
    "## uncommment line below to analyse all polymorphic loci within groups\n",
    "boot_north.hist.info <- hist(S_bound_data$minor_count_north[S_bound_data$minor_count_north > 0],  breaks = seq(0, 12, length.out = 13),plot=FALSE)\n",
    "## uncommment line below to analyse only alleles that are private in to group\n",
    "#boot_north.hist.info <- hist(S_bound_data$minor_count_north[S_bound_data$minor_count_north > 0 & S_bound_data$priv_in=='north'],  breaks = seq(0, 12, length.out = 13),plot=FALSE)\n",
    "boot_northSFS <- as.vector(boot_north.hist.info$counts)\n",
    "\n",
    "## we need to make beight of the bars of the percentage of the number of loci rather than the counts \n",
    "totalspain <- sum(boot_spainSFS)\n",
    "prop_loci_spain <- c()\n",
    "seq <- c(1:12)\n",
    "for (i in seq){\n",
    "   temp <-boot_spainSFS[i]/totalspain\n",
    "prop_loci_spain[i]<-temp\n",
    "}\n",
    "\n",
    "totalnorth <- sum(boot_northSFS)\n",
    "prop_loci_north <- c()\n",
    "seq <- c(1:12)\n",
    "for (i in seq){\n",
    "   temp <-boot_northSFS[i]/totalnorth\n",
    "prop_loci_north[i]<-temp\n",
    "}\n",
    "\n",
    "## calculate Tajima's D for them\n",
    "TajimaD(boot_spainSFS)\n",
    "TajimaD(boot_northSFS)\n",
    "\n",
    "## Gtest of the spectra\n",
    "bound.Spectra <- cbind(prop_loci_spain,prop_loci_north)\n",
    "bound.Spectra.counts <- cbind(boot_spainSFS,boot_northSFS)\n",
    "GTest(bound.Spectra.counts) "
   ]
  },
  {
   "cell_type": "code",
   "execution_count": 474,
   "id": "a9367c75",
   "metadata": {},
   "outputs": [
    {
     "data": {
      "text/html": [
       "<strong>pdf:</strong> 2"
      ],
      "text/latex": [
       "\\textbf{pdf:} 2"
      ],
      "text/markdown": [
       "**pdf:** 2"
      ],
      "text/plain": [
       "pdf \n",
       "  2 "
      ]
     },
     "metadata": {},
     "output_type": "display_data"
    }
   ],
   "source": [
    "pdf(\"downsampled_histograms_spainNorth_allLoci.pdf\", width = 4, height = 4) \n",
    "par(mfrow=c(1,1))\n",
    "barplot(bound.Spectra, ylim=c(0,0.5), beside = TRUE)\n",
    "dev.off() "
   ]
  },
  {
   "cell_type": "code",
   "execution_count": 461,
   "id": "92eb5960",
   "metadata": {},
   "outputs": [
    {
     "data": {
      "text/html": [
       "1"
      ],
      "text/latex": [
       "1"
      ],
      "text/markdown": [
       "1"
      ],
      "text/plain": [
       "[1] 1"
      ]
     },
     "metadata": {},
     "output_type": "display_data"
    }
   ],
   "source": [
    "sum(prop_loci_north)"
   ]
  }
 ],
 "metadata": {
  "kernelspec": {
   "display_name": "R",
   "language": "R",
   "name": "ir"
  },
  "language_info": {
   "codemirror_mode": "r",
   "file_extension": ".r",
   "mimetype": "text/x-r-source",
   "name": "R",
   "pygments_lexer": "r",
   "version": "4.1.3"
  }
 },
 "nbformat": 4,
 "nbformat_minor": 5
}
