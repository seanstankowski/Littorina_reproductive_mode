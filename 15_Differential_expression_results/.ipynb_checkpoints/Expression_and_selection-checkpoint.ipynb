{
 "cells": [
  {
   "cell_type": "markdown",
   "id": "a5e9bb40",
   "metadata": {},
   "source": [
    "# Testing for a correlation between DEGs and TR weight"
   ]
  },
  {
   "cell_type": "code",
   "execution_count": 1,
   "id": "02677e94",
   "metadata": {},
   "outputs": [
    {
     "data": {
      "text/html": [
       "<table class=\"dataframe\">\n",
       "<caption>A data.frame: 6 × 76</caption>\n",
       "<thead>\n",
       "\t<tr><th></th><th scope=col>X.1</th><th scope=col>output_order</th><th scope=col>X</th><th scope=col>scaffold.x</th><th scope=col>start.x</th><th scope=col>end.x</th><th scope=col>mid.x</th><th scope=col>win_size</th><th scope=col>sites</th><th scope=col>lnL</th><th scope=col>⋯</th><th scope=col>threshold.foot</th><th scope=col>differ</th><th scope=col>tissue_diff</th><th scope=col>seqname</th><th scope=col>gene_start</th><th scope=col>gene_end</th><th scope=col>scaffold.y</th><th scope=col>start.y</th><th scope=col>end.y</th><th scope=col>mid.y</th></tr>\n",
       "\t<tr><th></th><th scope=col>&lt;int&gt;</th><th scope=col>&lt;int&gt;</th><th scope=col>&lt;int&gt;</th><th scope=col>&lt;chr&gt;</th><th scope=col>&lt;int&gt;</th><th scope=col>&lt;int&gt;</th><th scope=col>&lt;int&gt;</th><th scope=col>&lt;int&gt;</th><th scope=col>&lt;int&gt;</th><th scope=col>&lt;dbl&gt;</th><th scope=col>⋯</th><th scope=col>&lt;chr&gt;</th><th scope=col>&lt;chr&gt;</th><th scope=col>&lt;chr&gt;</th><th scope=col>&lt;chr&gt;</th><th scope=col>&lt;int&gt;</th><th scope=col>&lt;int&gt;</th><th scope=col>&lt;chr&gt;</th><th scope=col>&lt;int&gt;</th><th scope=col>&lt;int&gt;</th><th scope=col>&lt;int&gt;</th></tr>\n",
       "</thead>\n",
       "<tbody>\n",
       "\t<tr><th scope=row>1</th><td> 57675</td><td> 57509</td><td> 55412</td><td>Contig42421</td><td>23372</td><td>27132</td><td>25732</td><td> 3760</td><td>100</td><td>       NA</td><td>⋯</td><td>SD</td><td>both</td><td>NA  </td><td>Contig42421</td><td>12185</td><td>27487</td><td>Contig42421</td><td>23372</td><td>27132</td><td>12185</td></tr>\n",
       "\t<tr><th scope=row>2</th><td> 52893</td><td> 52744</td><td> 50138</td><td>Contig41249</td><td>25994</td><td>32832</td><td>30709</td><td> 6838</td><td>100</td><td>-1302.102</td><td>⋯</td><td>SD</td><td>both</td><td>both</td><td>Contig41249</td><td> 2950</td><td>32864</td><td>Contig41249</td><td>25994</td><td>32832</td><td> 2950</td></tr>\n",
       "\t<tr><th scope=row>3</th><td> 52891</td><td> 52742</td><td> 50136</td><td>Contig41249</td><td>19174</td><td>22167</td><td>20862</td><td> 2993</td><td>100</td><td>-1438.198</td><td>⋯</td><td>SD</td><td>both</td><td>both</td><td>Contig41249</td><td> 2950</td><td>32864</td><td>Contig41249</td><td>19174</td><td>22167</td><td> 2950</td></tr>\n",
       "\t<tr><th scope=row>4</th><td> 29096</td><td> 28992</td><td>128637</td><td>Contig6923 </td><td> 3414</td><td>16465</td><td> 7070</td><td>13051</td><td>100</td><td>-1301.500</td><td>⋯</td><td>SD</td><td>both</td><td>NA  </td><td>Contig6923 </td><td> 2089</td><td>16330</td><td>Contig6923 </td><td> 3414</td><td>16465</td><td> 2089</td></tr>\n",
       "\t<tr><th scope=row>5</th><td> 52892</td><td> 52743</td><td> 50137</td><td>Contig41249</td><td>22170</td><td>25989</td><td>24141</td><td> 3819</td><td>100</td><td>-1362.500</td><td>⋯</td><td>SD</td><td>both</td><td>both</td><td>Contig41249</td><td> 2950</td><td>32864</td><td>Contig41249</td><td>22170</td><td>25989</td><td> 2950</td></tr>\n",
       "\t<tr><th scope=row>6</th><td>126774</td><td>126458</td><td>134512</td><td>Contig73375</td><td>46355</td><td>50246</td><td>47667</td><td> 3891</td><td>100</td><td>-2050.213</td><td>⋯</td><td>SD</td><td>both</td><td>both</td><td>Contig73375</td><td>35791</td><td>50552</td><td>Contig73375</td><td>46355</td><td>50246</td><td>35791</td></tr>\n",
       "</tbody>\n",
       "</table>\n"
      ],
      "text/latex": [
       "A data.frame: 6 × 76\n",
       "\\begin{tabular}{r|lllllllllllllllllllll}\n",
       "  & X.1 & output\\_order & X & scaffold.x & start.x & end.x & mid.x & win\\_size & sites & lnL & ⋯ & threshold.foot & differ & tissue\\_diff & seqname & gene\\_start & gene\\_end & scaffold.y & start.y & end.y & mid.y\\\\\n",
       "  & <int> & <int> & <int> & <chr> & <int> & <int> & <int> & <int> & <int> & <dbl> & ⋯ & <chr> & <chr> & <chr> & <chr> & <int> & <int> & <chr> & <int> & <int> & <int>\\\\\n",
       "\\hline\n",
       "\t1 &  57675 &  57509 &  55412 & Contig42421 & 23372 & 27132 & 25732 &  3760 & 100 &        NA & ⋯ & SD & both & NA   & Contig42421 & 12185 & 27487 & Contig42421 & 23372 & 27132 & 12185\\\\\n",
       "\t2 &  52893 &  52744 &  50138 & Contig41249 & 25994 & 32832 & 30709 &  6838 & 100 & -1302.102 & ⋯ & SD & both & both & Contig41249 &  2950 & 32864 & Contig41249 & 25994 & 32832 &  2950\\\\\n",
       "\t3 &  52891 &  52742 &  50136 & Contig41249 & 19174 & 22167 & 20862 &  2993 & 100 & -1438.198 & ⋯ & SD & both & both & Contig41249 &  2950 & 32864 & Contig41249 & 19174 & 22167 &  2950\\\\\n",
       "\t4 &  29096 &  28992 & 128637 & Contig6923  &  3414 & 16465 &  7070 & 13051 & 100 & -1301.500 & ⋯ & SD & both & NA   & Contig6923  &  2089 & 16330 & Contig6923  &  3414 & 16465 &  2089\\\\\n",
       "\t5 &  52892 &  52743 &  50137 & Contig41249 & 22170 & 25989 & 24141 &  3819 & 100 & -1362.500 & ⋯ & SD & both & both & Contig41249 &  2950 & 32864 & Contig41249 & 22170 & 25989 &  2950\\\\\n",
       "\t6 & 126774 & 126458 & 134512 & Contig73375 & 46355 & 50246 & 47667 &  3891 & 100 & -2050.213 & ⋯ & SD & both & both & Contig73375 & 35791 & 50552 & Contig73375 & 46355 & 50246 & 35791\\\\\n",
       "\\end{tabular}\n"
      ],
      "text/markdown": [
       "\n",
       "A data.frame: 6 × 76\n",
       "\n",
       "| <!--/--> | X.1 &lt;int&gt; | output_order &lt;int&gt; | X &lt;int&gt; | scaffold.x &lt;chr&gt; | start.x &lt;int&gt; | end.x &lt;int&gt; | mid.x &lt;int&gt; | win_size &lt;int&gt; | sites &lt;int&gt; | lnL &lt;dbl&gt; | ⋯ ⋯ | threshold.foot &lt;chr&gt; | differ &lt;chr&gt; | tissue_diff &lt;chr&gt; | seqname &lt;chr&gt; | gene_start &lt;int&gt; | gene_end &lt;int&gt; | scaffold.y &lt;chr&gt; | start.y &lt;int&gt; | end.y &lt;int&gt; | mid.y &lt;int&gt; |\n",
       "|---|---|---|---|---|---|---|---|---|---|---|---|---|---|---|---|---|---|---|---|---|---|\n",
       "| 1 |  57675 |  57509 |  55412 | Contig42421 | 23372 | 27132 | 25732 |  3760 | 100 |        NA | ⋯ | SD | both | NA   | Contig42421 | 12185 | 27487 | Contig42421 | 23372 | 27132 | 12185 |\n",
       "| 2 |  52893 |  52744 |  50138 | Contig41249 | 25994 | 32832 | 30709 |  6838 | 100 | -1302.102 | ⋯ | SD | both | both | Contig41249 |  2950 | 32864 | Contig41249 | 25994 | 32832 |  2950 |\n",
       "| 3 |  52891 |  52742 |  50136 | Contig41249 | 19174 | 22167 | 20862 |  2993 | 100 | -1438.198 | ⋯ | SD | both | both | Contig41249 |  2950 | 32864 | Contig41249 | 19174 | 22167 |  2950 |\n",
       "| 4 |  29096 |  28992 | 128637 | Contig6923  |  3414 | 16465 |  7070 | 13051 | 100 | -1301.500 | ⋯ | SD | both | NA   | Contig6923  |  2089 | 16330 | Contig6923  |  3414 | 16465 |  2089 |\n",
       "| 5 |  52892 |  52743 |  50137 | Contig41249 | 22170 | 25989 | 24141 |  3819 | 100 | -1362.500 | ⋯ | SD | both | both | Contig41249 |  2950 | 32864 | Contig41249 | 22170 | 25989 |  2950 |\n",
       "| 6 | 126774 | 126458 | 134512 | Contig73375 | 46355 | 50246 | 47667 |  3891 | 100 | -2050.213 | ⋯ | SD | both | both | Contig73375 | 35791 | 50552 | Contig73375 | 46355 | 50246 | 35791 |\n",
       "\n"
      ],
      "text/plain": [
       "  X.1    output_order X      scaffold.x  start.x end.x mid.x win_size sites\n",
       "1  57675  57509        55412 Contig42421 23372   27132 25732  3760    100  \n",
       "2  52893  52744        50138 Contig41249 25994   32832 30709  6838    100  \n",
       "3  52891  52742        50136 Contig41249 19174   22167 20862  2993    100  \n",
       "4  29096  28992       128637 Contig6923   3414   16465  7070 13051    100  \n",
       "5  52892  52743        50137 Contig41249 22170   25989 24141  3819    100  \n",
       "6 126774 126458       134512 Contig73375 46355   50246 47667  3891    100  \n",
       "  lnL       ⋯ threshold.foot differ tissue_diff seqname     gene_start gene_end\n",
       "1        NA ⋯ SD             both   NA          Contig42421 12185      27487   \n",
       "2 -1302.102 ⋯ SD             both   both        Contig41249  2950      32864   \n",
       "3 -1438.198 ⋯ SD             both   both        Contig41249  2950      32864   \n",
       "4 -1301.500 ⋯ SD             both   NA          Contig6923   2089      16330   \n",
       "5 -1362.500 ⋯ SD             both   both        Contig41249  2950      32864   \n",
       "6 -2050.213 ⋯ SD             both   both        Contig73375 35791      50552   \n",
       "  scaffold.y  start.y end.y mid.y\n",
       "1 Contig42421 23372   27132 12185\n",
       "2 Contig41249 25994   32832  2950\n",
       "3 Contig41249 19174   22167  2950\n",
       "4 Contig6923   3414   16465  2089\n",
       "5 Contig41249 22170   25989  2950\n",
       "6 Contig73375 46355   50246 35791"
      ]
     },
     "metadata": {},
     "output_type": "display_data"
    },
    {
     "data": {
      "text/html": [
       "<table class=\"dataframe\">\n",
       "<caption>A data.frame: 6 × 2</caption>\n",
       "<thead>\n",
       "\t<tr><th></th><th scope=col>row</th><th scope=col>differ</th></tr>\n",
       "\t<tr><th></th><th scope=col>&lt;chr&gt;</th><th scope=col>&lt;chr&gt;</th></tr>\n",
       "</thead>\n",
       "<tbody>\n",
       "\t<tr><th scope=row>1</th><td>Lsa_00049398</td><td>none</td></tr>\n",
       "\t<tr><th scope=row>2</th><td>Lsa_00010393</td><td>none</td></tr>\n",
       "\t<tr><th scope=row>3</th><td>Lsa_00010393</td><td>none</td></tr>\n",
       "\t<tr><th scope=row>4</th><td>Lsa_00010393</td><td>none</td></tr>\n",
       "\t<tr><th scope=row>5</th><td>Lsa_00049989</td><td>none</td></tr>\n",
       "\t<tr><th scope=row>6</th><td>Lsa_00004513</td><td>none</td></tr>\n",
       "</tbody>\n",
       "</table>\n"
      ],
      "text/latex": [
       "A data.frame: 6 × 2\n",
       "\\begin{tabular}{r|ll}\n",
       "  & row & differ\\\\\n",
       "  & <chr> & <chr>\\\\\n",
       "\\hline\n",
       "\t1 & Lsa\\_00049398 & none\\\\\n",
       "\t2 & Lsa\\_00010393 & none\\\\\n",
       "\t3 & Lsa\\_00010393 & none\\\\\n",
       "\t4 & Lsa\\_00010393 & none\\\\\n",
       "\t5 & Lsa\\_00049989 & none\\\\\n",
       "\t6 & Lsa\\_00004513 & none\\\\\n",
       "\\end{tabular}\n"
      ],
      "text/markdown": [
       "\n",
       "A data.frame: 6 × 2\n",
       "\n",
       "| <!--/--> | row &lt;chr&gt; | differ &lt;chr&gt; |\n",
       "|---|---|---|\n",
       "| 1 | Lsa_00049398 | none |\n",
       "| 2 | Lsa_00010393 | none |\n",
       "| 3 | Lsa_00010393 | none |\n",
       "| 4 | Lsa_00010393 | none |\n",
       "| 5 | Lsa_00049989 | none |\n",
       "| 6 | Lsa_00004513 | none |\n",
       "\n"
      ],
      "text/plain": [
       "  row          differ\n",
       "1 Lsa_00049398 none  \n",
       "2 Lsa_00010393 none  \n",
       "3 Lsa_00010393 none  \n",
       "4 Lsa_00010393 none  \n",
       "5 Lsa_00049989 none  \n",
       "6 Lsa_00004513 none  "
      ]
     },
     "metadata": {},
     "output_type": "display_data"
    },
    {
     "data": {
      "text/html": [
       "13945"
      ],
      "text/latex": [
       "13945"
      ],
      "text/markdown": [
       "13945"
      ],
      "text/plain": [
       "[1] 13945"
      ]
     },
     "metadata": {},
     "output_type": "display_data"
    },
    {
     "name": "stderr",
     "output_type": "stream",
     "text": [
      "\n",
      "Attaching package: ‘dplyr’\n",
      "\n",
      "\n",
      "The following objects are masked from ‘package:stats’:\n",
      "\n",
      "    filter, lag\n",
      "\n",
      "\n",
      "The following objects are masked from ‘package:base’:\n",
      "\n",
      "    intersect, setdiff, setequal, union\n",
      "\n",
      "\n"
     ]
    }
   ],
   "source": [
    "### reading files\n",
    "x <- read.csv(\"diff_exp_merged_twisstPopgenwins.csv\",header=TRUE)\n",
    "y <- read.csv(\"deseq_results_downsample.csv\",header=TRUE)\n",
    "head(x)\n",
    "head(y)\n",
    "### remove the duplicated rows from y resulting from martin's merge\n",
    "y2 <- y[!duplicated(y), ]\n",
    "length(y2$row)\n",
    "library('dplyr')"
   ]
  },
  {
   "cell_type": "code",
   "execution_count": 2,
   "id": "bcb8bf0d",
   "metadata": {},
   "outputs": [
    {
     "data": {
      "text/html": [
       "155332"
      ],
      "text/latex": [
       "155332"
      ],
      "text/markdown": [
       "155332"
      ],
      "text/plain": [
       "[1] 155332"
      ]
     },
     "metadata": {},
     "output_type": "display_data"
    },
    {
     "data": {
      "text/html": [
       "28027"
      ],
      "text/latex": [
       "28027"
      ],
      "text/markdown": [
       "28027"
      ],
      "text/plain": [
       "[1] 28027"
      ]
     },
     "metadata": {},
     "output_type": "display_data"
    },
    {
     "data": {
      "text/plain": [
       "\n",
       " both  foot  none  repr \n",
       "  100   138 21481  1577 "
      ]
     },
     "metadata": {},
     "output_type": "display_data"
    },
    {
     "data": {
      "text/plain": [
       "\n",
       " both  foot  none  repr \n",
       "  194   201 26342  1290 "
      ]
     },
     "metadata": {},
     "output_type": "display_data"
    }
   ],
   "source": [
    "## Check that the size of teh read in files is as it should be and the DEG cvounts are correct\n",
    "length(x$scaffold.x)\n",
    "length(y$row)\n",
    "table(x$differ)\n",
    "table(y$differ)\n",
    "## all looks good"
   ]
  },
  {
   "cell_type": "code",
   "execution_count": 3,
   "id": "e1dc05ee",
   "metadata": {},
   "outputs": [
    {
     "data": {
      "text/html": [
       "<table class=\"dataframe\">\n",
       "<caption>A data.frame: 6 × 77</caption>\n",
       "<thead>\n",
       "\t<tr><th></th><th scope=col>row</th><th scope=col>X.1</th><th scope=col>output_order</th><th scope=col>X</th><th scope=col>scaffold.x</th><th scope=col>start.x</th><th scope=col>end.x</th><th scope=col>mid.x</th><th scope=col>win_size</th><th scope=col>sites</th><th scope=col>⋯</th><th scope=col>differ.x</th><th scope=col>tissue_diff</th><th scope=col>seqname</th><th scope=col>gene_start</th><th scope=col>gene_end</th><th scope=col>scaffold.y</th><th scope=col>start.y</th><th scope=col>end.y</th><th scope=col>mid.y</th><th scope=col>differ.y</th></tr>\n",
       "\t<tr><th></th><th scope=col>&lt;chr&gt;</th><th scope=col>&lt;int&gt;</th><th scope=col>&lt;int&gt;</th><th scope=col>&lt;int&gt;</th><th scope=col>&lt;chr&gt;</th><th scope=col>&lt;int&gt;</th><th scope=col>&lt;int&gt;</th><th scope=col>&lt;int&gt;</th><th scope=col>&lt;int&gt;</th><th scope=col>&lt;int&gt;</th><th scope=col>⋯</th><th scope=col>&lt;chr&gt;</th><th scope=col>&lt;chr&gt;</th><th scope=col>&lt;chr&gt;</th><th scope=col>&lt;int&gt;</th><th scope=col>&lt;int&gt;</th><th scope=col>&lt;chr&gt;</th><th scope=col>&lt;int&gt;</th><th scope=col>&lt;int&gt;</th><th scope=col>&lt;int&gt;</th><th scope=col>&lt;chr&gt;</th></tr>\n",
       "</thead>\n",
       "<tbody>\n",
       "\t<tr><th scope=row>1</th><td>Lsa_00000323</td><td>66605</td><td>66420</td><td>65719</td><td>Contig45579</td><td> 3632</td><td> 5070</td><td> 4470</td><td>1438</td><td>100</td><td>⋯</td><td>none</td><td>NA</td><td>Contig45579</td><td> 1419</td><td> 5981</td><td>Contig45579</td><td> 3632</td><td> 5070</td><td> 1419</td><td>none</td></tr>\n",
       "\t<tr><th scope=row>2</th><td>Lsa_00000323</td><td>66604</td><td>66419</td><td>65718</td><td>Contig45579</td><td> 1781</td><td> 3610</td><td> 2685</td><td>1829</td><td>100</td><td>⋯</td><td>none</td><td>NA</td><td>Contig45579</td><td> 1419</td><td> 5981</td><td>Contig45579</td><td> 1781</td><td> 3610</td><td> 1419</td><td>none</td></tr>\n",
       "\t<tr><th scope=row>3</th><td>Lsa_00000323</td><td>66606</td><td>66421</td><td>65699</td><td>Contig45579</td><td> 5071</td><td> 7881</td><td> 5705</td><td>2810</td><td>100</td><td>⋯</td><td>none</td><td>NA</td><td>Contig45579</td><td> 1419</td><td> 5981</td><td>Contig45579</td><td> 5071</td><td> 7881</td><td> 1419</td><td>none</td></tr>\n",
       "\t<tr><th scope=row>4</th><td>Lsa_00000327</td><td>66611</td><td>66426</td><td>65724</td><td>Contig45579</td><td>23335</td><td>25145</td><td>24101</td><td>1810</td><td>100</td><td>⋯</td><td>repr</td><td>NA</td><td>Contig45579</td><td>13906</td><td>26241</td><td>Contig45579</td><td>23335</td><td>25145</td><td>13906</td><td>none</td></tr>\n",
       "\t<tr><th scope=row>5</th><td>Lsa_00000327</td><td>66609</td><td>66424</td><td>65722</td><td>Contig45579</td><td>19215</td><td>21108</td><td>20166</td><td>1893</td><td>100</td><td>⋯</td><td>repr</td><td>NA</td><td>Contig45579</td><td>13906</td><td>26241</td><td>Contig45579</td><td>19215</td><td>21108</td><td>13906</td><td>none</td></tr>\n",
       "\t<tr><th scope=row>6</th><td>Lsa_00000327</td><td>66610</td><td>66425</td><td>65723</td><td>Contig45579</td><td>21110</td><td>23329</td><td>22008</td><td>2219</td><td>100</td><td>⋯</td><td>repr</td><td>NA</td><td>Contig45579</td><td>13906</td><td>26241</td><td>Contig45579</td><td>21110</td><td>23329</td><td>13906</td><td>none</td></tr>\n",
       "</tbody>\n",
       "</table>\n"
      ],
      "text/latex": [
       "A data.frame: 6 × 77\n",
       "\\begin{tabular}{r|lllllllllllllllllllll}\n",
       "  & row & X.1 & output\\_order & X & scaffold.x & start.x & end.x & mid.x & win\\_size & sites & ⋯ & differ.x & tissue\\_diff & seqname & gene\\_start & gene\\_end & scaffold.y & start.y & end.y & mid.y & differ.y\\\\\n",
       "  & <chr> & <int> & <int> & <int> & <chr> & <int> & <int> & <int> & <int> & <int> & ⋯ & <chr> & <chr> & <chr> & <int> & <int> & <chr> & <int> & <int> & <int> & <chr>\\\\\n",
       "\\hline\n",
       "\t1 & Lsa\\_00000323 & 66605 & 66420 & 65719 & Contig45579 &  3632 &  5070 &  4470 & 1438 & 100 & ⋯ & none & NA & Contig45579 &  1419 &  5981 & Contig45579 &  3632 &  5070 &  1419 & none\\\\\n",
       "\t2 & Lsa\\_00000323 & 66604 & 66419 & 65718 & Contig45579 &  1781 &  3610 &  2685 & 1829 & 100 & ⋯ & none & NA & Contig45579 &  1419 &  5981 & Contig45579 &  1781 &  3610 &  1419 & none\\\\\n",
       "\t3 & Lsa\\_00000323 & 66606 & 66421 & 65699 & Contig45579 &  5071 &  7881 &  5705 & 2810 & 100 & ⋯ & none & NA & Contig45579 &  1419 &  5981 & Contig45579 &  5071 &  7881 &  1419 & none\\\\\n",
       "\t4 & Lsa\\_00000327 & 66611 & 66426 & 65724 & Contig45579 & 23335 & 25145 & 24101 & 1810 & 100 & ⋯ & repr & NA & Contig45579 & 13906 & 26241 & Contig45579 & 23335 & 25145 & 13906 & none\\\\\n",
       "\t5 & Lsa\\_00000327 & 66609 & 66424 & 65722 & Contig45579 & 19215 & 21108 & 20166 & 1893 & 100 & ⋯ & repr & NA & Contig45579 & 13906 & 26241 & Contig45579 & 19215 & 21108 & 13906 & none\\\\\n",
       "\t6 & Lsa\\_00000327 & 66610 & 66425 & 65723 & Contig45579 & 21110 & 23329 & 22008 & 2219 & 100 & ⋯ & repr & NA & Contig45579 & 13906 & 26241 & Contig45579 & 21110 & 23329 & 13906 & none\\\\\n",
       "\\end{tabular}\n"
      ],
      "text/markdown": [
       "\n",
       "A data.frame: 6 × 77\n",
       "\n",
       "| <!--/--> | row &lt;chr&gt; | X.1 &lt;int&gt; | output_order &lt;int&gt; | X &lt;int&gt; | scaffold.x &lt;chr&gt; | start.x &lt;int&gt; | end.x &lt;int&gt; | mid.x &lt;int&gt; | win_size &lt;int&gt; | sites &lt;int&gt; | ⋯ ⋯ | differ.x &lt;chr&gt; | tissue_diff &lt;chr&gt; | seqname &lt;chr&gt; | gene_start &lt;int&gt; | gene_end &lt;int&gt; | scaffold.y &lt;chr&gt; | start.y &lt;int&gt; | end.y &lt;int&gt; | mid.y &lt;int&gt; | differ.y &lt;chr&gt; |\n",
       "|---|---|---|---|---|---|---|---|---|---|---|---|---|---|---|---|---|---|---|---|---|---|\n",
       "| 1 | Lsa_00000323 | 66605 | 66420 | 65719 | Contig45579 |  3632 |  5070 |  4470 | 1438 | 100 | ⋯ | none | NA | Contig45579 |  1419 |  5981 | Contig45579 |  3632 |  5070 |  1419 | none |\n",
       "| 2 | Lsa_00000323 | 66604 | 66419 | 65718 | Contig45579 |  1781 |  3610 |  2685 | 1829 | 100 | ⋯ | none | NA | Contig45579 |  1419 |  5981 | Contig45579 |  1781 |  3610 |  1419 | none |\n",
       "| 3 | Lsa_00000323 | 66606 | 66421 | 65699 | Contig45579 |  5071 |  7881 |  5705 | 2810 | 100 | ⋯ | none | NA | Contig45579 |  1419 |  5981 | Contig45579 |  5071 |  7881 |  1419 | none |\n",
       "| 4 | Lsa_00000327 | 66611 | 66426 | 65724 | Contig45579 | 23335 | 25145 | 24101 | 1810 | 100 | ⋯ | repr | NA | Contig45579 | 13906 | 26241 | Contig45579 | 23335 | 25145 | 13906 | none |\n",
       "| 5 | Lsa_00000327 | 66609 | 66424 | 65722 | Contig45579 | 19215 | 21108 | 20166 | 1893 | 100 | ⋯ | repr | NA | Contig45579 | 13906 | 26241 | Contig45579 | 19215 | 21108 | 13906 | none |\n",
       "| 6 | Lsa_00000327 | 66610 | 66425 | 65723 | Contig45579 | 21110 | 23329 | 22008 | 2219 | 100 | ⋯ | repr | NA | Contig45579 | 13906 | 26241 | Contig45579 | 21110 | 23329 | 13906 | none |\n",
       "\n"
      ],
      "text/plain": [
       "  row          X.1   output_order X     scaffold.x  start.x end.x mid.x\n",
       "1 Lsa_00000323 66605 66420        65719 Contig45579  3632    5070  4470\n",
       "2 Lsa_00000323 66604 66419        65718 Contig45579  1781    3610  2685\n",
       "3 Lsa_00000323 66606 66421        65699 Contig45579  5071    7881  5705\n",
       "4 Lsa_00000327 66611 66426        65724 Contig45579 23335   25145 24101\n",
       "5 Lsa_00000327 66609 66424        65722 Contig45579 19215   21108 20166\n",
       "6 Lsa_00000327 66610 66425        65723 Contig45579 21110   23329 22008\n",
       "  win_size sites ⋯ differ.x tissue_diff seqname     gene_start gene_end\n",
       "1 1438     100   ⋯ none     NA          Contig45579  1419       5981   \n",
       "2 1829     100   ⋯ none     NA          Contig45579  1419       5981   \n",
       "3 2810     100   ⋯ none     NA          Contig45579  1419       5981   \n",
       "4 1810     100   ⋯ repr     NA          Contig45579 13906      26241   \n",
       "5 1893     100   ⋯ repr     NA          Contig45579 13906      26241   \n",
       "6 2219     100   ⋯ repr     NA          Contig45579 13906      26241   \n",
       "  scaffold.y  start.y end.y mid.y differ.y\n",
       "1 Contig45579  3632    5070  1419 none    \n",
       "2 Contig45579  1781    3610  1419 none    \n",
       "3 Contig45579  5071    7881  1419 none    \n",
       "4 Contig45579 23335   25145 13906 none    \n",
       "5 Contig45579 19215   21108 13906 none    \n",
       "6 Contig45579 21110   23329 13906 none    "
      ]
     },
     "metadata": {},
     "output_type": "display_data"
    },
    {
     "data": {
      "text/html": [
       "155332"
      ],
      "text/latex": [
       "155332"
      ],
      "text/markdown": [
       "155332"
      ],
      "text/plain": [
       "[1] 155332"
      ]
     },
     "metadata": {},
     "output_type": "display_data"
    },
    {
     "data": {
      "text/html": [
       "155332"
      ],
      "text/latex": [
       "155332"
      ],
      "text/markdown": [
       "155332"
      ],
      "text/plain": [
       "[1] 155332"
      ]
     },
     "metadata": {},
     "output_type": "display_data"
    }
   ],
   "source": [
    "### now just merge the first DEG analysis with the second one. Left hand join by 'row' which is the gene id\n",
    "both <- merge(x,y2, all.x=TRUE, by='row')\n",
    "head(both)\n",
    "length(x$scaffold.x)\n",
    "length(both$scaffold.x)"
   ]
  },
  {
   "cell_type": "code",
   "execution_count": 4,
   "id": "9b72d2a2",
   "metadata": {},
   "outputs": [],
   "source": [
    "#Ok, everything looks good, so we need some rules for classifying windows\n",
    "\n",
    "both <- both %>% mutate(Group =\n",
    "                     case_when(topoC <= 0.1 ~ \"1\", \n",
    "                               topoC >0.1 & topoC <= 0.2 ~ \"2\",\n",
    "                               topoC >0.2 & topoC <= 0.3 ~ \"3\",\n",
    "                               topoC >0.3 & topoC <= 0.4 ~ \"4\",\n",
    "                               topoC >0.4 & topoC <= 0.5 ~ \"5\",\n",
    "                               topoC >0.5 & topoC <= 0.6 ~ \"6\",\n",
    "                               topoC >0.6 & topoC <= 0.7 ~ \"7\",\n",
    "                               topoC >0.7 & topoC <= 0.8 ~ \"8\",\n",
    "                               topoC >0.8 & topoC <= 0.9 ~ \"9\",\n",
    "                               topoC >0.9 ~ \"10\"))"
   ]
  },
  {
   "cell_type": "code",
   "execution_count": 5,
   "id": "b8c0f486",
   "metadata": {},
   "outputs": [
    {
     "data": {
      "image/png": "[encoded data removed]",
      "text/plain": [
       "plot without title"
      ]
     },
     "metadata": {
      "image/png": {
       "height": 420,
       "width": 420
      }
     },
     "output_type": "display_data"
    }
   ],
   "source": [
    "## Sanity check the grouping\n",
    "plot(both$topoC,both$Group)"
   ]
  },
  {
   "cell_type": "code",
   "execution_count": 6,
   "id": "826c2d70",
   "metadata": {},
   "outputs": [
    {
     "data": {
      "text/html": [
       "<style>\n",
       ".list-inline {list-style: none; margin:0; padding: 0}\n",
       ".list-inline>li {display: inline-block}\n",
       ".list-inline>li:not(:last-child)::after {content: \"\\00b7\"; padding: 0 .5ex}\n",
       "</style>\n",
       "<ol class=list-inline><li>'av'</li><li>'baseMean.foot'</li><li>'baseMean.repr'</li><li>'differ.x'</li><li>'differ.y'</li><li>'dxy_arcana_compressa'</li><li>'dxy_arcana_n_sax'</li><li>'dxy_arcana_spain'</li><li>'dxy_compressa_n_sax'</li><li>'dxy_compressa_spain'</li><li>'dxy_Egglayer_Brooder'</li><li>'dxy_n_sax_spain'</li><li>'end_check'</li><li>'end_check_2'</li><li>'end.x'</li><li>'end.y'</li><li>'Fst_arcana_compressa'</li><li>'Fst_arcana_n_sax'</li><li>'Fst_arcana_spain'</li><li>'Fst_compressa_n_sax'</li><li>'Fst_compressa_spain'</li><li>'Fst_Egglayer_Brooder'</li><li>'Fst_n_sax_spain'</li><li>'gene_end'</li><li>'gene_start'</li><li>'Group'</li><li>'high_topo1'</li><li>'in_map'</li><li>'inv_status'</li><li>'lfcSE.foot'</li><li>'lfcSE.repr'</li><li>'LG'</li><li>'LG_map_position'</li><li>'lnL'</li><li>'log2FoldChange.foot'</li><li>'log2FoldChange.repr'</li><li>'mid_check'</li><li>'mid_check_2'</li><li>'mid.x'</li><li>'mid.y'</li><li>'output_order'</li><li>'padj.foot'</li><li>'padj.repr'</li><li>'pi_arcana'</li><li>'pi_Brooder'</li><li>'pi_compressa'</li><li>'pi_Egglayer'</li><li>'pi_n_sax'</li><li>'pi_spain'</li><li>'pvalue.foot'</li><li>'pvalue.repr'</li><li>'row'</li><li>'scaffold.1'</li><li>'scaffold.2'</li><li>'scaffold.x'</li><li>'scaffold.y'</li><li>'seqname'</li><li>'sites'</li><li>'sites_full'</li><li>'sites_full_2'</li><li>'start_check'</li><li>'start_check_2'</li><li>'start.x'</li><li>'start.y'</li><li>'stat.foot'</li><li>'stat.repr'</li><li>'threshold.foot'</li><li>'threshold.repr'</li><li>'tissue_diff'</li><li>'topoA'</li><li>'topoA_count'</li><li>'topoB'</li><li>'topoB_couunt'</li><li>'topoC'</li><li>'topoC_count'</li><li>'win_size'</li><li>'X'</li><li>'X.1'</li></ol>\n"
      ],
      "text/latex": [
       "\\begin{enumerate*}\n",
       "\\item 'av'\n",
       "\\item 'baseMean.foot'\n",
       "\\item 'baseMean.repr'\n",
       "\\item 'differ.x'\n",
       "\\item 'differ.y'\n",
       "\\item 'dxy\\_arcana\\_compressa'\n",
       "\\item 'dxy\\_arcana\\_n\\_sax'\n",
       "\\item 'dxy\\_arcana\\_spain'\n",
       "\\item 'dxy\\_compressa\\_n\\_sax'\n",
       "\\item 'dxy\\_compressa\\_spain'\n",
       "\\item 'dxy\\_Egglayer\\_Brooder'\n",
       "\\item 'dxy\\_n\\_sax\\_spain'\n",
       "\\item 'end\\_check'\n",
       "\\item 'end\\_check\\_2'\n",
       "\\item 'end.x'\n",
       "\\item 'end.y'\n",
       "\\item 'Fst\\_arcana\\_compressa'\n",
       "\\item 'Fst\\_arcana\\_n\\_sax'\n",
       "\\item 'Fst\\_arcana\\_spain'\n",
       "\\item 'Fst\\_compressa\\_n\\_sax'\n",
       "\\item 'Fst\\_compressa\\_spain'\n",
       "\\item 'Fst\\_Egglayer\\_Brooder'\n",
       "\\item 'Fst\\_n\\_sax\\_spain'\n",
       "\\item 'gene\\_end'\n",
       "\\item 'gene\\_start'\n",
       "\\item 'Group'\n",
       "\\item 'high\\_topo1'\n",
       "\\item 'in\\_map'\n",
       "\\item 'inv\\_status'\n",
       "\\item 'lfcSE.foot'\n",
       "\\item 'lfcSE.repr'\n",
       "\\item 'LG'\n",
       "\\item 'LG\\_map\\_position'\n",
       "\\item 'lnL'\n",
       "\\item 'log2FoldChange.foot'\n",
       "\\item 'log2FoldChange.repr'\n",
       "\\item 'mid\\_check'\n",
       "\\item 'mid\\_check\\_2'\n",
       "\\item 'mid.x'\n",
       "\\item 'mid.y'\n",
       "\\item 'output\\_order'\n",
       "\\item 'padj.foot'\n",
       "\\item 'padj.repr'\n",
       "\\item 'pi\\_arcana'\n",
       "\\item 'pi\\_Brooder'\n",
       "\\item 'pi\\_compressa'\n",
       "\\item 'pi\\_Egglayer'\n",
       "\\item 'pi\\_n\\_sax'\n",
       "\\item 'pi\\_spain'\n",
       "\\item 'pvalue.foot'\n",
       "\\item 'pvalue.repr'\n",
       "\\item 'row'\n",
       "\\item 'scaffold.1'\n",
       "\\item 'scaffold.2'\n",
       "\\item 'scaffold.x'\n",
       "\\item 'scaffold.y'\n",
       "\\item 'seqname'\n",
       "\\item 'sites'\n",
       "\\item 'sites\\_full'\n",
       "\\item 'sites\\_full\\_2'\n",
       "\\item 'start\\_check'\n",
       "\\item 'start\\_check\\_2'\n",
       "\\item 'start.x'\n",
       "\\item 'start.y'\n",
       "\\item 'stat.foot'\n",
       "\\item 'stat.repr'\n",
       "\\item 'threshold.foot'\n",
       "\\item 'threshold.repr'\n",
       "\\item 'tissue\\_diff'\n",
       "\\item 'topoA'\n",
       "\\item 'topoA\\_count'\n",
       "\\item 'topoB'\n",
       "\\item 'topoB\\_couunt'\n",
       "\\item 'topoC'\n",
       "\\item 'topoC\\_count'\n",
       "\\item 'win\\_size'\n",
       "\\item 'X'\n",
       "\\item 'X.1'\n",
       "\\end{enumerate*}\n"
      ],
      "text/markdown": [
       "1. 'av'\n",
       "2. 'baseMean.foot'\n",
       "3. 'baseMean.repr'\n",
       "4. 'differ.x'\n",
       "5. 'differ.y'\n",
       "6. 'dxy_arcana_compressa'\n",
       "7. 'dxy_arcana_n_sax'\n",
       "8. 'dxy_arcana_spain'\n",
       "9. 'dxy_compressa_n_sax'\n",
       "10. 'dxy_compressa_spain'\n",
       "11. 'dxy_Egglayer_Brooder'\n",
       "12. 'dxy_n_sax_spain'\n",
       "13. 'end_check'\n",
       "14. 'end_check_2'\n",
       "15. 'end.x'\n",
       "16. 'end.y'\n",
       "17. 'Fst_arcana_compressa'\n",
       "18. 'Fst_arcana_n_sax'\n",
       "19. 'Fst_arcana_spain'\n",
       "20. 'Fst_compressa_n_sax'\n",
       "21. 'Fst_compressa_spain'\n",
       "22. 'Fst_Egglayer_Brooder'\n",
       "23. 'Fst_n_sax_spain'\n",
       "24. 'gene_end'\n",
       "25. 'gene_start'\n",
       "26. 'Group'\n",
       "27. 'high_topo1'\n",
       "28. 'in_map'\n",
       "29. 'inv_status'\n",
       "30. 'lfcSE.foot'\n",
       "31. 'lfcSE.repr'\n",
       "32. 'LG'\n",
       "33. 'LG_map_position'\n",
       "34. 'lnL'\n",
       "35. 'log2FoldChange.foot'\n",
       "36. 'log2FoldChange.repr'\n",
       "37. 'mid_check'\n",
       "38. 'mid_check_2'\n",
       "39. 'mid.x'\n",
       "40. 'mid.y'\n",
       "41. 'output_order'\n",
       "42. 'padj.foot'\n",
       "43. 'padj.repr'\n",
       "44. 'pi_arcana'\n",
       "45. 'pi_Brooder'\n",
       "46. 'pi_compressa'\n",
       "47. 'pi_Egglayer'\n",
       "48. 'pi_n_sax'\n",
       "49. 'pi_spain'\n",
       "50. 'pvalue.foot'\n",
       "51. 'pvalue.repr'\n",
       "52. 'row'\n",
       "53. 'scaffold.1'\n",
       "54. 'scaffold.2'\n",
       "55. 'scaffold.x'\n",
       "56. 'scaffold.y'\n",
       "57. 'seqname'\n",
       "58. 'sites'\n",
       "59. 'sites_full'\n",
       "60. 'sites_full_2'\n",
       "61. 'start_check'\n",
       "62. 'start_check_2'\n",
       "63. 'start.x'\n",
       "64. 'start.y'\n",
       "65. 'stat.foot'\n",
       "66. 'stat.repr'\n",
       "67. 'threshold.foot'\n",
       "68. 'threshold.repr'\n",
       "69. 'tissue_diff'\n",
       "70. 'topoA'\n",
       "71. 'topoA_count'\n",
       "72. 'topoB'\n",
       "73. 'topoB_couunt'\n",
       "74. 'topoC'\n",
       "75. 'topoC_count'\n",
       "76. 'win_size'\n",
       "77. 'X'\n",
       "78. 'X.1'\n",
       "\n",
       "\n"
      ],
      "text/plain": [
       " [1] \"av\"                   \"baseMean.foot\"        \"baseMean.repr\"       \n",
       " [4] \"differ.x\"             \"differ.y\"             \"dxy_arcana_compressa\"\n",
       " [7] \"dxy_arcana_n_sax\"     \"dxy_arcana_spain\"     \"dxy_compressa_n_sax\" \n",
       "[10] \"dxy_compressa_spain\"  \"dxy_Egglayer_Brooder\" \"dxy_n_sax_spain\"     \n",
       "[13] \"end_check\"            \"end_check_2\"          \"end.x\"               \n",
       "[16] \"end.y\"                \"Fst_arcana_compressa\" \"Fst_arcana_n_sax\"    \n",
       "[19] \"Fst_arcana_spain\"     \"Fst_compressa_n_sax\"  \"Fst_compressa_spain\" \n",
       "[22] \"Fst_Egglayer_Brooder\" \"Fst_n_sax_spain\"      \"gene_end\"            \n",
       "[25] \"gene_start\"           \"Group\"                \"high_topo1\"          \n",
       "[28] \"in_map\"               \"inv_status\"           \"lfcSE.foot\"          \n",
       "[31] \"lfcSE.repr\"           \"LG\"                   \"LG_map_position\"     \n",
       "[34] \"lnL\"                  \"log2FoldChange.foot\"  \"log2FoldChange.repr\" \n",
       "[37] \"mid_check\"            \"mid_check_2\"          \"mid.x\"               \n",
       "[40] \"mid.y\"                \"output_order\"         \"padj.foot\"           \n",
       "[43] \"padj.repr\"            \"pi_arcana\"            \"pi_Brooder\"          \n",
       "[46] \"pi_compressa\"         \"pi_Egglayer\"          \"pi_n_sax\"            \n",
       "[49] \"pi_spain\"             \"pvalue.foot\"          \"pvalue.repr\"         \n",
       "[52] \"row\"                  \"scaffold.1\"           \"scaffold.2\"          \n",
       "[55] \"scaffold.x\"           \"scaffold.y\"           \"seqname\"             \n",
       "[58] \"sites\"                \"sites_full\"           \"sites_full_2\"        \n",
       "[61] \"start_check\"          \"start_check_2\"        \"start.x\"             \n",
       "[64] \"start.y\"              \"stat.foot\"            \"stat.repr\"           \n",
       "[67] \"threshold.foot\"       \"threshold.repr\"       \"tissue_diff\"         \n",
       "[70] \"topoA\"                \"topoA_count\"          \"topoB\"               \n",
       "[73] \"topoB_couunt\"         \"topoC\"                \"topoC_count\"         \n",
       "[76] \"win_size\"             \"X\"                    \"X.1\"                 "
      ]
     },
     "metadata": {},
     "output_type": "display_data"
    }
   ],
   "source": [
    "## A quick check of the headers\n",
    "ls(both)"
   ]
  },
  {
   "cell_type": "code",
   "execution_count": 58,
   "id": "9cec253f",
   "metadata": {},
   "outputs": [
    {
     "data": {
      "text/plain": [
       "      \n",
       "          1   10    2    3    4    5    6    7    8    9\n",
       "  both    4    5   15   27   21   12    4    6    2    3\n",
       "  foot    3    0   19   58   37   13    6    1    1    0\n",
       "  none  471   16 2532 7416 7541 2340  722  246   68   27\n",
       "  repr   33   13  166  539  526  190   56   24   11    9"
      ]
     },
     "metadata": {},
     "output_type": "display_data"
    },
    {
     "data": {
      "text/html": [
       "<table class=\"dataframe\">\n",
       "<caption>A data.frame: 40 × 3</caption>\n",
       "<thead>\n",
       "\t<tr><th scope=col>Var1</th><th scope=col>Var2</th><th scope=col>Freq</th></tr>\n",
       "\t<tr><th scope=col>&lt;fct&gt;</th><th scope=col>&lt;dbl&gt;</th><th scope=col>&lt;dbl&gt;</th></tr>\n",
       "</thead>\n",
       "<tbody>\n",
       "\t<tr><td>both</td><td> 1</td><td>0.007827789</td></tr>\n",
       "\t<tr><td>foot</td><td> 1</td><td>0.005870841</td></tr>\n",
       "\t<tr><td>none</td><td> 1</td><td>0.921722114</td></tr>\n",
       "\t<tr><td>repr</td><td> 1</td><td>0.064579256</td></tr>\n",
       "\t<tr><td>both</td><td>10</td><td>0.147058824</td></tr>\n",
       "\t<tr><td>foot</td><td>10</td><td>0.000000000</td></tr>\n",
       "\t<tr><td>none</td><td>10</td><td>0.470588235</td></tr>\n",
       "\t<tr><td>repr</td><td>10</td><td>0.382352941</td></tr>\n",
       "\t<tr><td>both</td><td> 2</td><td>0.005490483</td></tr>\n",
       "\t<tr><td>foot</td><td> 2</td><td>0.006954612</td></tr>\n",
       "\t<tr><td>none</td><td> 2</td><td>0.926793558</td></tr>\n",
       "\t<tr><td>repr</td><td> 2</td><td>0.060761347</td></tr>\n",
       "\t<tr><td>both</td><td> 3</td><td>0.003358209</td></tr>\n",
       "\t<tr><td>foot</td><td> 3</td><td>0.007213930</td></tr>\n",
       "\t<tr><td>none</td><td> 3</td><td>0.922388060</td></tr>\n",
       "\t<tr><td>repr</td><td> 3</td><td>0.067039801</td></tr>\n",
       "\t<tr><td>both</td><td> 4</td><td>0.002584615</td></tr>\n",
       "\t<tr><td>foot</td><td> 4</td><td>0.004553846</td></tr>\n",
       "\t<tr><td>none</td><td> 4</td><td>0.928123077</td></tr>\n",
       "\t<tr><td>repr</td><td> 4</td><td>0.064738462</td></tr>\n",
       "\t<tr><td>both</td><td> 5</td><td>0.004696673</td></tr>\n",
       "\t<tr><td>foot</td><td> 5</td><td>0.005088063</td></tr>\n",
       "\t<tr><td>none</td><td> 5</td><td>0.915851272</td></tr>\n",
       "\t<tr><td>repr</td><td> 5</td><td>0.074363992</td></tr>\n",
       "\t<tr><td>both</td><td> 6</td><td>0.005076142</td></tr>\n",
       "\t<tr><td>foot</td><td> 6</td><td>0.007614213</td></tr>\n",
       "\t<tr><td>none</td><td> 6</td><td>0.916243655</td></tr>\n",
       "\t<tr><td>repr</td><td> 6</td><td>0.071065990</td></tr>\n",
       "\t<tr><td>both</td><td> 7</td><td>0.021660650</td></tr>\n",
       "\t<tr><td>foot</td><td> 7</td><td>0.003610108</td></tr>\n",
       "\t<tr><td>none</td><td> 7</td><td>0.888086643</td></tr>\n",
       "\t<tr><td>repr</td><td> 7</td><td>0.086642599</td></tr>\n",
       "\t<tr><td>both</td><td> 8</td><td>0.024390244</td></tr>\n",
       "\t<tr><td>foot</td><td> 8</td><td>0.012195122</td></tr>\n",
       "\t<tr><td>none</td><td> 8</td><td>0.829268293</td></tr>\n",
       "\t<tr><td>repr</td><td> 8</td><td>0.134146341</td></tr>\n",
       "\t<tr><td>both</td><td> 9</td><td>0.076923077</td></tr>\n",
       "\t<tr><td>foot</td><td> 9</td><td>0.000000000</td></tr>\n",
       "\t<tr><td>none</td><td> 9</td><td>0.692307692</td></tr>\n",
       "\t<tr><td>repr</td><td> 9</td><td>0.230769231</td></tr>\n",
       "</tbody>\n",
       "</table>\n"
      ],
      "text/latex": [
       "A data.frame: 40 × 3\n",
       "\\begin{tabular}{lll}\n",
       " Var1 & Var2 & Freq\\\\\n",
       " <fct> & <dbl> & <dbl>\\\\\n",
       "\\hline\n",
       "\t both &  1 & 0.007827789\\\\\n",
       "\t foot &  1 & 0.005870841\\\\\n",
       "\t none &  1 & 0.921722114\\\\\n",
       "\t repr &  1 & 0.064579256\\\\\n",
       "\t both & 10 & 0.147058824\\\\\n",
       "\t foot & 10 & 0.000000000\\\\\n",
       "\t none & 10 & 0.470588235\\\\\n",
       "\t repr & 10 & 0.382352941\\\\\n",
       "\t both &  2 & 0.005490483\\\\\n",
       "\t foot &  2 & 0.006954612\\\\\n",
       "\t none &  2 & 0.926793558\\\\\n",
       "\t repr &  2 & 0.060761347\\\\\n",
       "\t both &  3 & 0.003358209\\\\\n",
       "\t foot &  3 & 0.007213930\\\\\n",
       "\t none &  3 & 0.922388060\\\\\n",
       "\t repr &  3 & 0.067039801\\\\\n",
       "\t both &  4 & 0.002584615\\\\\n",
       "\t foot &  4 & 0.004553846\\\\\n",
       "\t none &  4 & 0.928123077\\\\\n",
       "\t repr &  4 & 0.064738462\\\\\n",
       "\t both &  5 & 0.004696673\\\\\n",
       "\t foot &  5 & 0.005088063\\\\\n",
       "\t none &  5 & 0.915851272\\\\\n",
       "\t repr &  5 & 0.074363992\\\\\n",
       "\t both &  6 & 0.005076142\\\\\n",
       "\t foot &  6 & 0.007614213\\\\\n",
       "\t none &  6 & 0.916243655\\\\\n",
       "\t repr &  6 & 0.071065990\\\\\n",
       "\t both &  7 & 0.021660650\\\\\n",
       "\t foot &  7 & 0.003610108\\\\\n",
       "\t none &  7 & 0.888086643\\\\\n",
       "\t repr &  7 & 0.086642599\\\\\n",
       "\t both &  8 & 0.024390244\\\\\n",
       "\t foot &  8 & 0.012195122\\\\\n",
       "\t none &  8 & 0.829268293\\\\\n",
       "\t repr &  8 & 0.134146341\\\\\n",
       "\t both &  9 & 0.076923077\\\\\n",
       "\t foot &  9 & 0.000000000\\\\\n",
       "\t none &  9 & 0.692307692\\\\\n",
       "\t repr &  9 & 0.230769231\\\\\n",
       "\\end{tabular}\n"
      ],
      "text/markdown": [
       "\n",
       "A data.frame: 40 × 3\n",
       "\n",
       "| Var1 &lt;fct&gt; | Var2 &lt;dbl&gt; | Freq &lt;dbl&gt; |\n",
       "|---|---|---|\n",
       "| both |  1 | 0.007827789 |\n",
       "| foot |  1 | 0.005870841 |\n",
       "| none |  1 | 0.921722114 |\n",
       "| repr |  1 | 0.064579256 |\n",
       "| both | 10 | 0.147058824 |\n",
       "| foot | 10 | 0.000000000 |\n",
       "| none | 10 | 0.470588235 |\n",
       "| repr | 10 | 0.382352941 |\n",
       "| both |  2 | 0.005490483 |\n",
       "| foot |  2 | 0.006954612 |\n",
       "| none |  2 | 0.926793558 |\n",
       "| repr |  2 | 0.060761347 |\n",
       "| both |  3 | 0.003358209 |\n",
       "| foot |  3 | 0.007213930 |\n",
       "| none |  3 | 0.922388060 |\n",
       "| repr |  3 | 0.067039801 |\n",
       "| both |  4 | 0.002584615 |\n",
       "| foot |  4 | 0.004553846 |\n",
       "| none |  4 | 0.928123077 |\n",
       "| repr |  4 | 0.064738462 |\n",
       "| both |  5 | 0.004696673 |\n",
       "| foot |  5 | 0.005088063 |\n",
       "| none |  5 | 0.915851272 |\n",
       "| repr |  5 | 0.074363992 |\n",
       "| both |  6 | 0.005076142 |\n",
       "| foot |  6 | 0.007614213 |\n",
       "| none |  6 | 0.916243655 |\n",
       "| repr |  6 | 0.071065990 |\n",
       "| both |  7 | 0.021660650 |\n",
       "| foot |  7 | 0.003610108 |\n",
       "| none |  7 | 0.888086643 |\n",
       "| repr |  7 | 0.086642599 |\n",
       "| both |  8 | 0.024390244 |\n",
       "| foot |  8 | 0.012195122 |\n",
       "| none |  8 | 0.829268293 |\n",
       "| repr |  8 | 0.134146341 |\n",
       "| both |  9 | 0.076923077 |\n",
       "| foot |  9 | 0.000000000 |\n",
       "| none |  9 | 0.692307692 |\n",
       "| repr |  9 | 0.230769231 |\n",
       "\n"
      ],
      "text/plain": [
       "   Var1 Var2 Freq       \n",
       "1  both  1   0.007827789\n",
       "2  foot  1   0.005870841\n",
       "3  none  1   0.921722114\n",
       "4  repr  1   0.064579256\n",
       "5  both 10   0.147058824\n",
       "6  foot 10   0.000000000\n",
       "7  none 10   0.470588235\n",
       "8  repr 10   0.382352941\n",
       "9  both  2   0.005490483\n",
       "10 foot  2   0.006954612\n",
       "11 none  2   0.926793558\n",
       "12 repr  2   0.060761347\n",
       "13 both  3   0.003358209\n",
       "14 foot  3   0.007213930\n",
       "15 none  3   0.922388060\n",
       "16 repr  3   0.067039801\n",
       "17 both  4   0.002584615\n",
       "18 foot  4   0.004553846\n",
       "19 none  4   0.928123077\n",
       "20 repr  4   0.064738462\n",
       "21 both  5   0.004696673\n",
       "22 foot  5   0.005088063\n",
       "23 none  5   0.915851272\n",
       "24 repr  5   0.074363992\n",
       "25 both  6   0.005076142\n",
       "26 foot  6   0.007614213\n",
       "27 none  6   0.916243655\n",
       "28 repr  6   0.071065990\n",
       "29 both  7   0.021660650\n",
       "30 foot  7   0.003610108\n",
       "31 none  7   0.888086643\n",
       "32 repr  7   0.086642599\n",
       "33 both  8   0.024390244\n",
       "34 foot  8   0.012195122\n",
       "35 none  8   0.829268293\n",
       "36 repr  8   0.134146341\n",
       "37 both  9   0.076923077\n",
       "38 foot  9   0.000000000\n",
       "39 none  9   0.692307692\n",
       "40 repr  9   0.230769231"
      ]
     },
     "metadata": {},
     "output_type": "display_data"
    }
   ],
   "source": [
    "### get the number of DEGs by tissue type and bin for the full dataset\n",
    "full_counts <- (table(both$differ.x,both$Group))\n",
    "full_counts\n",
    "full_props <- as.data.frame(prop.table(full_counts,2))\n",
    "full_props$Var2 <- as.numeric(as.character(full_props$Var2))\n",
    "full_props\n"
   ]
  },
  {
   "cell_type": "code",
   "execution_count": 82,
   "id": "43271c14",
   "metadata": {
    "scrolled": true
   },
   "outputs": [
    {
     "name": "stderr",
     "output_type": "stream",
     "text": [
      "Warning message in cor.test.default(full_props$Var2[full_props$Var1 == \"foot\"], :\n",
      "“Cannot compute exact p-value with ties”\n"
     ]
    },
    {
     "data": {
      "text/plain": [
       "\n",
       "\tSpearman's rank correlation rho\n",
       "\n",
       "data:  full_props$Var2[full_props$Var1 == \"foot\"] and full_props$Freq[full_props$Var1 == \"foot\"]\n",
       "S = 233.21, p-value = 0.2351\n",
       "alternative hypothesis: true rho is not equal to 0\n",
       "sample estimates:\n",
       "       rho \n",
       "-0.4133758 \n"
      ]
     },
     "metadata": {},
     "output_type": "display_data"
    },
    {
     "data": {
      "text/plain": [
       "\n",
       "\tSpearman's rank correlation rho\n",
       "\n",
       "data:  full_props$Var2[full_props$Var1 == \"repr\"] and full_props$Freq[full_props$Var1 == \"repr\"]\n",
       "S = 6, p-value < 2.2e-16\n",
       "alternative hypothesis: true rho is not equal to 0\n",
       "sample estimates:\n",
       "      rho \n",
       "0.9636364 \n"
      ]
     },
     "metadata": {},
     "output_type": "display_data"
    },
    {
     "data": {
      "text/plain": [
       "\n",
       "\tSpearman's rank correlation rho\n",
       "\n",
       "data:  full_props$Var2[full_props$Var1 == \"both\"] and full_props$Freq[full_props$Var1 == \"both\"]\n",
       "S = 52, p-value = 0.03509\n",
       "alternative hypothesis: true rho is not equal to 0\n",
       "sample estimates:\n",
       "      rho \n",
       "0.6848485 \n"
      ]
     },
     "metadata": {},
     "output_type": "display_data"
    },
    {
     "data": {
      "image/png": "[encoded data removed]",
      "text/plain": [
       "plot without title"
      ]
     },
     "metadata": {
      "image/png": {
       "height": 420,
       "width": 420
      }
     },
     "output_type": "display_data"
    }
   ],
   "source": [
    "plot(full_props$Var2,full_props$Freq, pch=c(22,23,24,3)[full_props$Var1])\n",
    "cor.test(full_props$Var2[full_props$Var1=='foot'], full_props$Freq[full_props$Var1=='foot'], method = \"spearman\")\n",
    "cor.test(full_props$Var2[full_props$Var1=='repr'], full_props$Freq[full_props$Var1=='repr'], method = \"spearman\")\n",
    "cor.test(full_props$Var2[full_props$Var1=='both'], full_props$Freq[full_props$Var1=='both'], method = \"spearman\")"
   ]
  },
  {
   "cell_type": "code",
   "execution_count": 80,
   "id": "2ba7c65f",
   "metadata": {},
   "outputs": [
    {
     "data": {
      "text/plain": [
       "      \n",
       "          1   10    2    3    4    5    6    7    8    9\n",
       "  both    2    5   15   24   18    7    2    4    2    2\n",
       "  foot    3    0   17   40   30   12    5    1    1    0\n",
       "  none  489   17 2594 7689 7801 2424  732  250   67   28\n",
       "  repr   17   12  106  287  276  112   49   22   12    9"
      ]
     },
     "metadata": {},
     "output_type": "display_data"
    },
    {
     "data": {
      "text/html": [
       "<table class=\"dataframe\">\n",
       "<caption>A data.frame: 40 × 3</caption>\n",
       "<thead>\n",
       "\t<tr><th scope=col>Var1</th><th scope=col>Var2</th><th scope=col>Freq</th></tr>\n",
       "\t<tr><th scope=col>&lt;fct&gt;</th><th scope=col>&lt;dbl&gt;</th><th scope=col>&lt;dbl&gt;</th></tr>\n",
       "</thead>\n",
       "<tbody>\n",
       "\t<tr><td>both</td><td> 1</td><td>0.003913894</td></tr>\n",
       "\t<tr><td>foot</td><td> 1</td><td>0.005870841</td></tr>\n",
       "\t<tr><td>none</td><td> 1</td><td>0.956947162</td></tr>\n",
       "\t<tr><td>repr</td><td> 1</td><td>0.033268102</td></tr>\n",
       "\t<tr><td>both</td><td>10</td><td>0.147058824</td></tr>\n",
       "\t<tr><td>foot</td><td>10</td><td>0.000000000</td></tr>\n",
       "\t<tr><td>none</td><td>10</td><td>0.500000000</td></tr>\n",
       "\t<tr><td>repr</td><td>10</td><td>0.352941176</td></tr>\n",
       "\t<tr><td>both</td><td> 2</td><td>0.005490483</td></tr>\n",
       "\t<tr><td>foot</td><td> 2</td><td>0.006222548</td></tr>\n",
       "\t<tr><td>none</td><td> 2</td><td>0.949487555</td></tr>\n",
       "\t<tr><td>repr</td><td> 2</td><td>0.038799414</td></tr>\n",
       "\t<tr><td>both</td><td> 3</td><td>0.002985075</td></tr>\n",
       "\t<tr><td>foot</td><td> 3</td><td>0.004975124</td></tr>\n",
       "\t<tr><td>none</td><td> 3</td><td>0.956343284</td></tr>\n",
       "\t<tr><td>repr</td><td> 3</td><td>0.035696517</td></tr>\n",
       "\t<tr><td>both</td><td> 4</td><td>0.002215385</td></tr>\n",
       "\t<tr><td>foot</td><td> 4</td><td>0.003692308</td></tr>\n",
       "\t<tr><td>none</td><td> 4</td><td>0.960123077</td></tr>\n",
       "\t<tr><td>repr</td><td> 4</td><td>0.033969231</td></tr>\n",
       "\t<tr><td>both</td><td> 5</td><td>0.002739726</td></tr>\n",
       "\t<tr><td>foot</td><td> 5</td><td>0.004696673</td></tr>\n",
       "\t<tr><td>none</td><td> 5</td><td>0.948727984</td></tr>\n",
       "\t<tr><td>repr</td><td> 5</td><td>0.043835616</td></tr>\n",
       "\t<tr><td>both</td><td> 6</td><td>0.002538071</td></tr>\n",
       "\t<tr><td>foot</td><td> 6</td><td>0.006345178</td></tr>\n",
       "\t<tr><td>none</td><td> 6</td><td>0.928934010</td></tr>\n",
       "\t<tr><td>repr</td><td> 6</td><td>0.062182741</td></tr>\n",
       "\t<tr><td>both</td><td> 7</td><td>0.014440433</td></tr>\n",
       "\t<tr><td>foot</td><td> 7</td><td>0.003610108</td></tr>\n",
       "\t<tr><td>none</td><td> 7</td><td>0.902527076</td></tr>\n",
       "\t<tr><td>repr</td><td> 7</td><td>0.079422383</td></tr>\n",
       "\t<tr><td>both</td><td> 8</td><td>0.024390244</td></tr>\n",
       "\t<tr><td>foot</td><td> 8</td><td>0.012195122</td></tr>\n",
       "\t<tr><td>none</td><td> 8</td><td>0.817073171</td></tr>\n",
       "\t<tr><td>repr</td><td> 8</td><td>0.146341463</td></tr>\n",
       "\t<tr><td>both</td><td> 9</td><td>0.051282051</td></tr>\n",
       "\t<tr><td>foot</td><td> 9</td><td>0.000000000</td></tr>\n",
       "\t<tr><td>none</td><td> 9</td><td>0.717948718</td></tr>\n",
       "\t<tr><td>repr</td><td> 9</td><td>0.230769231</td></tr>\n",
       "</tbody>\n",
       "</table>\n"
      ],
      "text/latex": [
       "A data.frame: 40 × 3\n",
       "\\begin{tabular}{lll}\n",
       " Var1 & Var2 & Freq\\\\\n",
       " <fct> & <dbl> & <dbl>\\\\\n",
       "\\hline\n",
       "\t both &  1 & 0.003913894\\\\\n",
       "\t foot &  1 & 0.005870841\\\\\n",
       "\t none &  1 & 0.956947162\\\\\n",
       "\t repr &  1 & 0.033268102\\\\\n",
       "\t both & 10 & 0.147058824\\\\\n",
       "\t foot & 10 & 0.000000000\\\\\n",
       "\t none & 10 & 0.500000000\\\\\n",
       "\t repr & 10 & 0.352941176\\\\\n",
       "\t both &  2 & 0.005490483\\\\\n",
       "\t foot &  2 & 0.006222548\\\\\n",
       "\t none &  2 & 0.949487555\\\\\n",
       "\t repr &  2 & 0.038799414\\\\\n",
       "\t both &  3 & 0.002985075\\\\\n",
       "\t foot &  3 & 0.004975124\\\\\n",
       "\t none &  3 & 0.956343284\\\\\n",
       "\t repr &  3 & 0.035696517\\\\\n",
       "\t both &  4 & 0.002215385\\\\\n",
       "\t foot &  4 & 0.003692308\\\\\n",
       "\t none &  4 & 0.960123077\\\\\n",
       "\t repr &  4 & 0.033969231\\\\\n",
       "\t both &  5 & 0.002739726\\\\\n",
       "\t foot &  5 & 0.004696673\\\\\n",
       "\t none &  5 & 0.948727984\\\\\n",
       "\t repr &  5 & 0.043835616\\\\\n",
       "\t both &  6 & 0.002538071\\\\\n",
       "\t foot &  6 & 0.006345178\\\\\n",
       "\t none &  6 & 0.928934010\\\\\n",
       "\t repr &  6 & 0.062182741\\\\\n",
       "\t both &  7 & 0.014440433\\\\\n",
       "\t foot &  7 & 0.003610108\\\\\n",
       "\t none &  7 & 0.902527076\\\\\n",
       "\t repr &  7 & 0.079422383\\\\\n",
       "\t both &  8 & 0.024390244\\\\\n",
       "\t foot &  8 & 0.012195122\\\\\n",
       "\t none &  8 & 0.817073171\\\\\n",
       "\t repr &  8 & 0.146341463\\\\\n",
       "\t both &  9 & 0.051282051\\\\\n",
       "\t foot &  9 & 0.000000000\\\\\n",
       "\t none &  9 & 0.717948718\\\\\n",
       "\t repr &  9 & 0.230769231\\\\\n",
       "\\end{tabular}\n"
      ],
      "text/markdown": [
       "\n",
       "A data.frame: 40 × 3\n",
       "\n",
       "| Var1 &lt;fct&gt; | Var2 &lt;dbl&gt; | Freq &lt;dbl&gt; |\n",
       "|---|---|---|\n",
       "| both |  1 | 0.003913894 |\n",
       "| foot |  1 | 0.005870841 |\n",
       "| none |  1 | 0.956947162 |\n",
       "| repr |  1 | 0.033268102 |\n",
       "| both | 10 | 0.147058824 |\n",
       "| foot | 10 | 0.000000000 |\n",
       "| none | 10 | 0.500000000 |\n",
       "| repr | 10 | 0.352941176 |\n",
       "| both |  2 | 0.005490483 |\n",
       "| foot |  2 | 0.006222548 |\n",
       "| none |  2 | 0.949487555 |\n",
       "| repr |  2 | 0.038799414 |\n",
       "| both |  3 | 0.002985075 |\n",
       "| foot |  3 | 0.004975124 |\n",
       "| none |  3 | 0.956343284 |\n",
       "| repr |  3 | 0.035696517 |\n",
       "| both |  4 | 0.002215385 |\n",
       "| foot |  4 | 0.003692308 |\n",
       "| none |  4 | 0.960123077 |\n",
       "| repr |  4 | 0.033969231 |\n",
       "| both |  5 | 0.002739726 |\n",
       "| foot |  5 | 0.004696673 |\n",
       "| none |  5 | 0.948727984 |\n",
       "| repr |  5 | 0.043835616 |\n",
       "| both |  6 | 0.002538071 |\n",
       "| foot |  6 | 0.006345178 |\n",
       "| none |  6 | 0.928934010 |\n",
       "| repr |  6 | 0.062182741 |\n",
       "| both |  7 | 0.014440433 |\n",
       "| foot |  7 | 0.003610108 |\n",
       "| none |  7 | 0.902527076 |\n",
       "| repr |  7 | 0.079422383 |\n",
       "| both |  8 | 0.024390244 |\n",
       "| foot |  8 | 0.012195122 |\n",
       "| none |  8 | 0.817073171 |\n",
       "| repr |  8 | 0.146341463 |\n",
       "| both |  9 | 0.051282051 |\n",
       "| foot |  9 | 0.000000000 |\n",
       "| none |  9 | 0.717948718 |\n",
       "| repr |  9 | 0.230769231 |\n",
       "\n"
      ],
      "text/plain": [
       "   Var1 Var2 Freq       \n",
       "1  both  1   0.003913894\n",
       "2  foot  1   0.005870841\n",
       "3  none  1   0.956947162\n",
       "4  repr  1   0.033268102\n",
       "5  both 10   0.147058824\n",
       "6  foot 10   0.000000000\n",
       "7  none 10   0.500000000\n",
       "8  repr 10   0.352941176\n",
       "9  both  2   0.005490483\n",
       "10 foot  2   0.006222548\n",
       "11 none  2   0.949487555\n",
       "12 repr  2   0.038799414\n",
       "13 both  3   0.002985075\n",
       "14 foot  3   0.004975124\n",
       "15 none  3   0.956343284\n",
       "16 repr  3   0.035696517\n",
       "17 both  4   0.002215385\n",
       "18 foot  4   0.003692308\n",
       "19 none  4   0.960123077\n",
       "20 repr  4   0.033969231\n",
       "21 both  5   0.002739726\n",
       "22 foot  5   0.004696673\n",
       "23 none  5   0.948727984\n",
       "24 repr  5   0.043835616\n",
       "25 both  6   0.002538071\n",
       "26 foot  6   0.006345178\n",
       "27 none  6   0.928934010\n",
       "28 repr  6   0.062182741\n",
       "29 both  7   0.014440433\n",
       "30 foot  7   0.003610108\n",
       "31 none  7   0.902527076\n",
       "32 repr  7   0.079422383\n",
       "33 both  8   0.024390244\n",
       "34 foot  8   0.012195122\n",
       "35 none  8   0.817073171\n",
       "36 repr  8   0.146341463\n",
       "37 both  9   0.051282051\n",
       "38 foot  9   0.000000000\n",
       "39 none  9   0.717948718\n",
       "40 repr  9   0.230769231"
      ]
     },
     "metadata": {},
     "output_type": "display_data"
    }
   ],
   "source": [
    "### get the number of DEGs by tissue type and bin for the reduced dataset\n",
    "reduced_counts <-(table(both$differ.y,both$Group))\n",
    "reduced_counts\n",
    "reduced_props <- as.data.frame(prop.table(reduced_counts,2))\n",
    "reduced_props$Var2 <- as.numeric(as.character(reduced_props$Var2))\n",
    "reduced_props"
   ]
  },
  {
   "cell_type": "code",
   "execution_count": 83,
   "id": "d1c5b531",
   "metadata": {},
   "outputs": [
    {
     "data": {
      "image/png": "[encoded data removed]",
      "text/plain": [
       "plot without title"
      ]
     },
     "metadata": {
      "image/png": {
       "height": 420,
       "width": 420
      }
     },
     "output_type": "display_data"
    }
   ],
   "source": [
    "plot(reduced_props$Var2,reduced_props$Freq, pch=c(22,23,24,3)[reduced_props$Var1])"
   ]
  },
  {
   "cell_type": "code",
   "execution_count": 84,
   "id": "0ecb6882",
   "metadata": {},
   "outputs": [
    {
     "name": "stderr",
     "output_type": "stream",
     "text": [
      "Warning message in cor.test.default(reduced_props$Var2[reduced_props$Var1 == \"foot\"], :\n",
      "“Cannot compute exact p-value with ties”\n"
     ]
    },
    {
     "data": {
      "text/plain": [
       "\n",
       "\tSpearman's rank correlation rho\n",
       "\n",
       "data:  reduced_props$Var2[reduced_props$Var1 == \"foot\"] and reduced_props$Freq[reduced_props$Var1 == \"foot\"]\n",
       "S = 239.23, p-value = 0.1921\n",
       "alternative hypothesis: true rho is not equal to 0\n",
       "sample estimates:\n",
       "       rho \n",
       "-0.4498501 \n"
      ]
     },
     "metadata": {},
     "output_type": "display_data"
    },
    {
     "data": {
      "text/plain": [
       "\n",
       "\tSpearman's rank correlation rho\n",
       "\n",
       "data:  reduced_props$Var2[reduced_props$Var1 == \"repr\"] and reduced_props$Freq[reduced_props$Var1 == \"repr\"]\n",
       "S = 8, p-value < 2.2e-16\n",
       "alternative hypothesis: true rho is not equal to 0\n",
       "sample estimates:\n",
       "      rho \n",
       "0.9515152 \n"
      ]
     },
     "metadata": {},
     "output_type": "display_data"
    },
    {
     "data": {
      "text/plain": [
       "\n",
       "\tSpearman's rank correlation rho\n",
       "\n",
       "data:  reduced_props$Var2[reduced_props$Var1 == \"both\"] and reduced_props$Freq[reduced_props$Var1 == \"both\"]\n",
       "S = 62, p-value = 0.06025\n",
       "alternative hypothesis: true rho is not equal to 0\n",
       "sample estimates:\n",
       "      rho \n",
       "0.6242424 \n"
      ]
     },
     "metadata": {},
     "output_type": "display_data"
    }
   ],
   "source": [
    "cor.test(reduced_props$Var2[reduced_props$Var1=='foot'], reduced_props$Freq[reduced_props$Var1=='foot'], method = \"spearman\")\n",
    "cor.test(reduced_props$Var2[reduced_props$Var1=='repr'], reduced_props$Freq[reduced_props$Var1=='repr'], method = \"spearman\")\n",
    "cor.test(reduced_props$Var2[reduced_props$Var1=='both'], reduced_props$Freq[reduced_props$Var1=='both'], method = \"spearman\")"
   ]
  },
  {
   "cell_type": "code",
   "execution_count": 3,
   "id": "f1c7405b",
   "metadata": {},
   "outputs": [
    {
     "data": {
      "text/plain": [
       "\n",
       "\tSpearman's rank correlation rho\n",
       "\n",
       "data:  total_repr_reduced and bin\n",
       "S = 14, p-value = 0.0004667\n",
       "alternative hypothesis: true rho is not equal to 0\n",
       "sample estimates:\n",
       "      rho \n",
       "0.9151515 \n"
      ]
     },
     "metadata": {},
     "output_type": "display_data"
    },
    {
     "data": {
      "text/plain": [
       "\n",
       "\tSpearman's rank correlation rho\n",
       "\n",
       "data:  total_repr_full and bin\n",
       "S = 16, p-value = 0.0008802\n",
       "alternative hypothesis: true rho is not equal to 0\n",
       "sample estimates:\n",
       "      rho \n",
       "0.9030303 \n"
      ]
     },
     "metadata": {},
     "output_type": "display_data"
    }
   ],
   "source": [
    "## now total reproduction, which is repro + both. Doing the addition of proprtions manually and adding as a vector below.\n",
    "\n",
    "total_repr_reduced <- c(0.037, 0.044, 0.039, 0.036, 0.047, 0.065, 0.094, 0.171, 0.282, 0.500)\n",
    "total_repr_full <- c(0.073, 0.066, 0.070, 0.067, 0.079, 0.076, 0.108, 0.159, 0.308, 0.529)\n",
    "bin <- seq(1:10)\n",
    "\n",
    "cor.test(total_repr_reduced, bin, method = \"spearman\")\n",
    "cor.test(total_repr_full, bin, method = \"spearman\")\n"
   ]
  }
 ],
 "metadata": {
  "kernelspec": {
   "display_name": "R",
   "language": "R",
   "name": "ir"
  },
  "language_info": {
   "codemirror_mode": "r",
   "file_extension": ".r",
   "mimetype": "text/x-r-source",
   "name": "R",
   "pygments_lexer": "r",
   "version": "4.1.3"
  }
 },
 "nbformat": 4,
 "nbformat_minor": 5
}
